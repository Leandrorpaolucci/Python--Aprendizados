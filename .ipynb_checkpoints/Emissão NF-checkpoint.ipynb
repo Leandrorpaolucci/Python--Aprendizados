{
 "cells": [
  {
   "cell_type": "code",
   "execution_count": 1,
   "id": "3ce967e5",
   "metadata": {},
   "outputs": [
    {
     "name": "stdout",
     "output_type": "stream",
     "text": [
      "\n"
     ]
    }
   ],
   "source": [
    "from selenium import webdriver # Importa o Selenium\n",
    "from selenium.webdriver.chrome.service import Service #Importa Service para atualização do ChromeDrive\n",
    "from webdriver_manager.chrome import ChromeDriverManager\n",
    "from selenium.webdriver.common.by import By\n",
    "from selenium.webdriver.common.keys import Keys\n",
    "servico = Service(ChromeDriverManager().install())\n",
    "navegador = webdriver.Chrome(service=servico)"
   ]
  },
  {
   "cell_type": "code",
   "execution_count": 7,
   "id": "6fa21de5",
   "metadata": {},
   "outputs": [],
   "source": [
    "# Diretorio + Abertura de caminhos/pagina (ARVORE)\n",
    "\n",
    "import os\n",
    "\n",
    "caminho = os.getcwd()\n",
    "#print(caminho)\n",
    "arquivo = caminho + r\"\\login.html\"\n",
    "#print(arquivo)\n",
    "navegador.get(arquivo)"
   ]
  },
  {
   "cell_type": "code",
   "execution_count": 10,
   "id": "2d5864c1",
   "metadata": {},
   "outputs": [],
   "source": [
    "# Realizar Login\n",
    "navegador.find_element(By.XPATH, '/html/body/div/form/input[1]').send_keys('Leandro Ribeiro')\n",
    "navegador.find_element(By.XPATH, '/html/body/div/form/input[2]').send_keys('Essa!Senha!e!Facil!')\n",
    "#Clicar no botão\n",
    "navegador.find_element(By.XPATH, '/html/body/div/form/button').click()"
   ]
  },
  {
   "cell_type": "code",
   "execution_count": 15,
   "id": "402ff990",
   "metadata": {},
   "outputs": [],
   "source": [
    "#Nome/Razão Social\n",
    "navegador.find_element(By.NAME, 'nome').send_keys('Leandro Ribeiro')\n",
    "\n",
    "#Endereco\n",
    "navegador.find_element(By.NAME, 'endereco').send_keys('Rua teste')\n",
    "\n",
    "#Bairro\n",
    "navegador.find_element(By.NAME, 'bairro').send_keys('Teste')\n",
    "\n",
    "#Bairro\n",
    "navegador.find_element(By.NAME, 'bairro').send_keys('Teste')\n",
    "\n",
    "#Municipio\n",
    "navegador.find_element(By.NAME, 'municipio').send_keys('São Paulo')\n",
    "\n",
    "#Bairro\n",
    "navegador.find_element(By.NAME, 'cep').send_keys('01234-679')\n",
    "\n",
    "#UF\n",
    "navegador.find_element(By.NAME, 'uf').send_keys('SP')\n",
    "\n",
    "#CPF/CNPJ\n",
    "navegador.find_element(By.NAME, 'cnpj').send_keys('123.456.789-11')\n",
    "\n",
    "#Inscrição Estadual\n",
    "navegador.find_element(By.NAME, 'inscricao').send_keys('12345678910')\n",
    "\n",
    "#descrição do produto/serviço\n",
    "navegador.find_element(By.NAME, 'descricao').send_keys('Computador')\n",
    "\n",
    "# Quantidade \n",
    "navegador.find_element(By.NAME, 'quantidade').send_keys('1')\n",
    "\n",
    "# Quantidade \n",
    "navegador.find_element(By.NAME, 'valor_unitario').send_keys('50,00')\n",
    "\n",
    "# Quantidade \n",
    "navegador.find_element(By.NAME, 'total').send_keys('50,00')\n",
    "\n",
    "#Botão Emitir nota download\n",
    "navegador.find_element(By.CLASS_NAME, 'registerbtn').click()\n"
   ]
  },
  {
   "cell_type": "code",
   "execution_count": 14,
   "id": "8831e163",
   "metadata": {},
   "outputs": [],
   "source": []
  }
 ],
 "metadata": {
  "kernelspec": {
   "display_name": "Python 3",
   "language": "python",
   "name": "python3"
  },
  "language_info": {
   "codemirror_mode": {
    "name": "ipython",
    "version": 3
   },
   "file_extension": ".py",
   "mimetype": "text/x-python",
   "name": "python",
   "nbconvert_exporter": "python",
   "pygments_lexer": "ipython3",
   "version": "3.8.8"
  }
 },
 "nbformat": 4,
 "nbformat_minor": 5
}
