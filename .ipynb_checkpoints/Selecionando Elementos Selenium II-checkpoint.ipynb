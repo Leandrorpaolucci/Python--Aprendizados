{
 "cells": [
  {
   "cell_type": "markdown",
   "id": "367cd714",
   "metadata": {
    "id": "367cd714"
   },
   "source": [
    "### Documentação Selenium:\n",
    "\n",
    "- https://selenium-python.readthedocs.io/locating-elements.html"
   ]
  },
  {
   "cell_type": "code",
   "execution_count": 1,
   "id": "4e28f9f7",
   "metadata": {
    "id": "4e28f9f7",
    "outputId": "f2ebff24-5001-4f7b-bc6d-5b556255c636"
   },
   "outputs": [
    {
     "name": "stdout",
     "output_type": "stream",
     "text": [
      "\n"
     ]
    }
   ],
   "source": [
    "from selenium import webdriver\n",
    "from selenium.webdriver.chrome.service import Service\n",
    "from webdriver_manager.chrome import ChromeDriverManager\n",
    "from selenium.webdriver.common.by import By\n",
    "servico = Service(ChromeDriverManager().install())\n",
    "navegador = webdriver.Chrome(service=servico)"
   ]
  },
  {
   "cell_type": "code",
   "execution_count": 2,
   "id": "59c8398d",
   "metadata": {
    "id": "59c8398d"
   },
   "outputs": [],
   "source": [
    "import os\n",
    "\n",
    "caminho = os.getcwd()\n",
    "arquivo = caminho + r\"\\Pagina Hashtag.html\"\n",
    "navegador.get(arquivo)\n",
    "navegador.find_element(By.XPATH, '//*[@id=\"header\"]/div/div/div[1]/a/img').click()"
   ]
  },
  {
   "cell_type": "markdown",
   "id": "068093a0",
   "metadata": {
    "id": "068093a0"
   },
   "source": [
    "### Selecionar vários elementos de uma vez\n",
    "    * Vamos selecionar pelo find_elements\n",
    "    * Vamos clicar no item Blog do menu"
   ]
  },
  {
   "cell_type": "code",
   "execution_count": 9,
   "id": "f5886b05",
   "metadata": {},
   "outputs": [],
   "source": [
    "lista_elementos =navegador.find_elements(By.CLASS_NAME,'nav-link')\n",
    "lista_elementos[6].click()"
   ]
  }
 ],
 "metadata": {
  "colab": {
   "name": "Selecionando Elementos Selenium.ipynb",
   "provenance": []
  },
  "kernelspec": {
   "display_name": "Python 3",
   "language": "python",
   "name": "python3"
  },
  "language_info": {
   "codemirror_mode": {
    "name": "ipython",
    "version": 3
   },
   "file_extension": ".py",
   "mimetype": "text/x-python",
   "name": "python",
   "nbconvert_exporter": "python",
   "pygments_lexer": "ipython3",
   "version": "3.8.8"
  }
 },
 "nbformat": 4,
 "nbformat_minor": 5
}
