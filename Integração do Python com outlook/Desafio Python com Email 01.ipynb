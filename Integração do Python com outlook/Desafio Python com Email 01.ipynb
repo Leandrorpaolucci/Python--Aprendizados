{
 "cells": [
  {
   "cell_type": "markdown",
   "metadata": {
    "id": "pP_37DYWZ51Z"
   },
   "source": [
    "# Desafio Python e E-mail\n",
    "\n",
    "### Descrição\n",
    "\n",
    "Digamos que você trabalha em uma indústria e está responsável pela área de inteligência de negócio.\n",
    "\n",
    "Todo dia, você, a equipe ou até mesmo um programa, gera um report diferente para cada área da empresa:\n",
    "- Financeiro\n",
    "- Logística\n",
    "- Manutenção\n",
    "- Marketing\n",
    "- Operações\n",
    "- Produção\n",
    "- Vendas\n",
    "\n",
    "Cada um desses reports deve ser enviado por e-mail para o Gerente de cada Área.\n",
    "\n",
    "Crie um programa que faça isso automaticamente. A relação de Gerentes (com seus respectivos e-mails) e áreas está no arquivo 'Enviar E-mails.xlsx'.\n",
    "\n",
    "Dica: Use o pandas read_excel para ler o arquivo dos e-mails que isso vai facilitar."
   ]
  },
  {
   "cell_type": "code",
   "execution_count": 15,
   "metadata": {
    "id": "TblXQ5r5Z51d"
   },
   "outputs": [
    {
     "name": "stdout",
     "output_type": "stream",
     "text": [
      "fim\n"
     ]
    }
   ],
   "source": [
    "import pandas as pd\n",
    "import win32com.client as win32\n",
    "outlook = win32.Dispatch('outlook.application')\n",
    "gerentes_df = pd.read_excel('Enviar E-mails.xlsx')\n",
    "#gerentes_df.info()\n",
    "\n",
    "for i, email in enumerate(gerentes_df['E-mail']):\n",
    "    gerente = gerentes_df.loc[i, 'Gerente']\n",
    "    area = gerentes_df.loc[i, 'Relatório']\n",
    "    #Criar um E-mail\n",
    "    mail = outlook.CreateItem(0)\n",
    "    mail.To = email\n",
    "    mail.Subject = f'Relatorio de {area}'\n",
    "    mail.Body = f'''\n",
    "    Prezado {gerente}, \n",
    "    Segue em anexo o relatório de {area}, conforme solicitado.\n",
    "    qualquer dúvida estou a disposição.\n",
    "    att,\n",
    "    Leandro\n",
    "    '''\n",
    "    attachment = r'C:\\Users\\leandror\\Documents\\Curso Hashtag impressionador (Lira)\\Hashtag_Impressionador\\Integração do Python com outlook\\{}.xlsx'.format(area)\n",
    "    mail.Attachments.Add(attachment)\n",
    "\n",
    "    mail.Send()\n",
    "\n",
    "print('fim')"
   ]
  },
  {
   "cell_type": "code",
   "execution_count": 14,
   "metadata": {},
   "outputs": [
    {
     "data": {
      "text/html": [
       "<div>\n",
       "<style scoped>\n",
       "    .dataframe tbody tr th:only-of-type {\n",
       "        vertical-align: middle;\n",
       "    }\n",
       "\n",
       "    .dataframe tbody tr th {\n",
       "        vertical-align: top;\n",
       "    }\n",
       "\n",
       "    .dataframe thead th {\n",
       "        text-align: right;\n",
       "    }\n",
       "</style>\n",
       "<table border=\"1\" class=\"dataframe\">\n",
       "  <thead>\n",
       "    <tr style=\"text-align: right;\">\n",
       "      <th></th>\n",
       "      <th>Gerente</th>\n",
       "      <th>E-mail</th>\n",
       "      <th>Relatório</th>\n",
       "    </tr>\n",
       "  </thead>\n",
       "  <tbody>\n",
       "    <tr>\n",
       "      <th>0</th>\n",
       "      <td>Lira</td>\n",
       "      <td>Leandroydc1@gmail.com</td>\n",
       "      <td>Vendas</td>\n",
       "    </tr>\n",
       "    <tr>\n",
       "      <th>1</th>\n",
       "      <td>Julia</td>\n",
       "      <td>Leandroydc@gmail.com</td>\n",
       "      <td>Produção</td>\n",
       "    </tr>\n",
       "    <tr>\n",
       "      <th>2</th>\n",
       "      <td>José</td>\n",
       "      <td>Leandroydc1@gmail.com</td>\n",
       "      <td>Manutenção</td>\n",
       "    </tr>\n",
       "    <tr>\n",
       "      <th>3</th>\n",
       "      <td>Gustavo</td>\n",
       "      <td>Leandroydc@gmail.com</td>\n",
       "      <td>Operações</td>\n",
       "    </tr>\n",
       "    <tr>\n",
       "      <th>4</th>\n",
       "      <td>Ana</td>\n",
       "      <td>Leandroydc1@gmail.com</td>\n",
       "      <td>Logística</td>\n",
       "    </tr>\n",
       "    <tr>\n",
       "      <th>5</th>\n",
       "      <td>Paula</td>\n",
       "      <td>Leandroydc@gmail.com</td>\n",
       "      <td>Financeiro</td>\n",
       "    </tr>\n",
       "    <tr>\n",
       "      <th>6</th>\n",
       "      <td>Maria</td>\n",
       "      <td>Leandroydc1@gmail.com</td>\n",
       "      <td>Marketing</td>\n",
       "    </tr>\n",
       "  </tbody>\n",
       "</table>\n",
       "</div>"
      ],
      "text/plain": [
       "   Gerente                 E-mail   Relatório\n",
       "0     Lira  Leandroydc1@gmail.com      Vendas\n",
       "1    Julia   Leandroydc@gmail.com    Produção\n",
       "2     José  Leandroydc1@gmail.com  Manutenção\n",
       "3  Gustavo   Leandroydc@gmail.com   Operações\n",
       "4      Ana  Leandroydc1@gmail.com   Logística\n",
       "5    Paula   Leandroydc@gmail.com  Financeiro\n",
       "6    Maria  Leandroydc1@gmail.com   Marketing"
      ]
     },
     "metadata": {},
     "output_type": "display_data"
    }
   ],
   "source": [
    "display(gerentes_df)"
   ]
  }
 ],
 "metadata": {
  "colab": {
   "collapsed_sections": [],
   "name": "Desafio Python com Email 01.ipynb",
   "provenance": []
  },
  "kernelspec": {
   "display_name": "Python 3 (ipykernel)",
   "language": "python",
   "name": "python3"
  },
  "language_info": {
   "codemirror_mode": {
    "name": "ipython",
    "version": 3
   },
   "file_extension": ".py",
   "mimetype": "text/x-python",
   "name": "python",
   "nbconvert_exporter": "python",
   "pygments_lexer": "ipython3",
   "version": "3.9.12"
  }
 },
 "nbformat": 4,
 "nbformat_minor": 1
}
