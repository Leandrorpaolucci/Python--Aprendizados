{
 "cells": [
  {
   "cell_type": "code",
   "execution_count": 2,
   "id": "7b425da8",
   "metadata": {},
   "outputs": [],
   "source": [
    "from imap_tools import Mailbox, AND\n",
    "\n",
    "usuario = 'leandroydc1@gmail.com'\n",
    "senha = "
   ]
  },
  {
   "cell_type": "code",
   "execution_count": 10,
   "id": "ebee7f0f",
   "metadata": {},
   "outputs": [
    {
     "name": "stdout",
     "output_type": "stream",
     "text": [
      "Relatório de Vendas de Ontem\n",
      "Prezados, bom dia\n",
      "\n",
      "O faturamento de ontem foi de: R$2,917,311.00\n",
      "A quantidade de produtos foi de: 15,227\n",
      "\n",
      "Abs\n",
      "LiraPython\n",
      "\n",
      "Relatório de Vendas de Ontem\n",
      "Prezados, bom dia\n",
      "\n",
      "O faturamento de ontem foi de: R$2,917,311.00\n",
      "A quantidade de produtos foi de: 15,227\n",
      "\n",
      "Abs\n",
      "LiraPython\n",
      "\n",
      "Relatório de Vendas do Lira\n",
      "Prezados,\n",
      "\n",
      "Segue em anexo o relatório de vendas de outubro.\n",
      "\n",
      "Att.,\n",
      "Lira\n",
      "\n",
      "Relatorio Excel de Vendas\n",
      "Prezados,\n",
      "\n",
      "Segue em anexo o relatório de vendas de outubro.\n",
      "\n",
      "Att.,\n",
      "Lira\n",
      "\n"
     ]
    }
   ],
   "source": [
    "# pegar email que foram enviados por um remetente específico\n",
    "\n",
    "lista_emails = meu_email.fetch(AND(from_=\"pythonimpressionador@gmail.com\", to=\"pythonimpressionador+diretoria@gmail.com\"))\n",
    "for email in lista_emails:\n",
    "    print(email.subject)\n",
    "    print(email.text)"
   ]
  },
  {
   "cell_type": "code",
   "execution_count": 11,
   "id": "24573987",
   "metadata": {},
   "outputs": [],
   "source": [
    "# pegar anexo de um email\n",
    "lista_emails = meu_email.fetch(AND(from_=\"pythonimpressionador@gmail.com\"))\n",
    "for email in lista_emails:\n",
    "    if len(email.attachments) > 0:\n",
    "        for anexo in email.attachments:\n",
    "            if \"RelatorioExcel\" in anexo.filename:\n",
    "                informacoes_anexo = anexo.payload\n",
    "                with open(\"RelatorioExcel.xlsx\", \"wb\") as arquivo_excel:\n",
    "                    arquivo_excel.write(informacoes_anexo)"
   ]
  },
  {
   "cell_type": "code",
   "execution_count": 7,
   "id": "4075eb73",
   "metadata": {},
   "outputs": [],
   "source": [
    "def cadastrar_produto():\n",
    "    lista = []\n",
    "    produto = input('Digite o nome do produto que deseja cadastrar: ')\n",
    "    produto = produto.casefold()\n",
    "    print(f'Produto {produto} cadastrado com sucesso!')\n",
    "    lista = produto.append()\n",
    "    print(f'Os produtos {produto} foram cadastrados com sucesso!')\n",
    "    return lista\n",
    "    \n"
   ]
  },
  {
   "cell_type": "code",
   "execution_count": null,
   "id": "c8314c64",
   "metadata": {},
   "outputs": [],
   "source": []
  },
  {
   "cell_type": "code",
   "execution_count": 8,
   "id": "e87b5161",
   "metadata": {},
   "outputs": [
    {
     "name": "stdout",
     "output_type": "stream",
     "text": [
      "Digite o nome do produto que deseja cadastrar: feijao\n",
      "Produto feijao cadastrado com sucesso!\n"
     ]
    },
    {
     "ename": "AttributeError",
     "evalue": "'str' object has no attribute 'append'",
     "output_type": "error",
     "traceback": [
      "\u001b[1;31m---------------------------------------------------------------------------\u001b[0m",
      "\u001b[1;31mAttributeError\u001b[0m                            Traceback (most recent call last)",
      "Input \u001b[1;32mIn [8]\u001b[0m, in \u001b[0;36m<cell line: 1>\u001b[1;34m()\u001b[0m\n\u001b[0;32m      1\u001b[0m \u001b[38;5;28;01mfor\u001b[39;00m i \u001b[38;5;129;01min\u001b[39;00m \u001b[38;5;28mrange\u001b[39m(\u001b[38;5;241m0\u001b[39m, \u001b[38;5;241m3\u001b[39m):\n\u001b[1;32m----> 2\u001b[0m     \u001b[43mcadastrar_produto\u001b[49m\u001b[43m(\u001b[49m\u001b[43m)\u001b[49m\n",
      "Input \u001b[1;32mIn [7]\u001b[0m, in \u001b[0;36mcadastrar_produto\u001b[1;34m()\u001b[0m\n\u001b[0;32m      4\u001b[0m produto \u001b[38;5;241m=\u001b[39m produto\u001b[38;5;241m.\u001b[39mcasefold()\n\u001b[0;32m      5\u001b[0m \u001b[38;5;28mprint\u001b[39m(\u001b[38;5;124mf\u001b[39m\u001b[38;5;124m'\u001b[39m\u001b[38;5;124mProduto \u001b[39m\u001b[38;5;132;01m{\u001b[39;00mproduto\u001b[38;5;132;01m}\u001b[39;00m\u001b[38;5;124m cadastrado com sucesso!\u001b[39m\u001b[38;5;124m'\u001b[39m)\n\u001b[1;32m----> 6\u001b[0m lista \u001b[38;5;241m=\u001b[39m \u001b[43mproduto\u001b[49m\u001b[38;5;241;43m.\u001b[39;49m\u001b[43mappend\u001b[49m()\n\u001b[0;32m      7\u001b[0m \u001b[38;5;28mprint\u001b[39m(\u001b[38;5;124mf\u001b[39m\u001b[38;5;124m'\u001b[39m\u001b[38;5;124mOs produtos \u001b[39m\u001b[38;5;132;01m{\u001b[39;00mproduto\u001b[38;5;132;01m}\u001b[39;00m\u001b[38;5;124m foram cadastrados com sucesso!\u001b[39m\u001b[38;5;124m'\u001b[39m)\n\u001b[0;32m      8\u001b[0m \u001b[38;5;28;01mreturn\u001b[39;00m lista\n",
      "\u001b[1;31mAttributeError\u001b[0m: 'str' object has no attribute 'append'"
     ]
    }
   ],
   "source": [
    "for i in range(0, 3):\n",
    "    cadastrar_produto()"
   ]
  }
 ],
 "metadata": {
  "kernelspec": {
   "display_name": "Python 3 (ipykernel)",
   "language": "python",
   "name": "python3"
  },
  "language_info": {
   "codemirror_mode": {
    "name": "ipython",
    "version": 3
   },
   "file_extension": ".py",
   "mimetype": "text/x-python",
   "name": "python",
   "nbconvert_exporter": "python",
   "pygments_lexer": "ipython3",
   "version": "3.9.12"
  }
 },
 "nbformat": 4,
 "nbformat_minor": 5
}
