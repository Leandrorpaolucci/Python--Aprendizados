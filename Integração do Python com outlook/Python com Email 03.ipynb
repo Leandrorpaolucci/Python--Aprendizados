{
 "cells": [
  {
   "cell_type": "markdown",
   "metadata": {},
   "source": [
    "# Integração Python com Outlook\n",
    "\n",
    "### Funciona para qualquer e-mail: corporativo, gmail, hotmail, etc.\n",
    "\n",
    "- Passo 1: Importar win32 e inicializar o outlook"
   ]
  },
  {
   "cell_type": "code",
   "execution_count": 8,
   "metadata": {},
   "outputs": [],
   "source": [
    "#Importar win32 para iniciar a aplicação outlook em segundo plano\n",
    "import win32com.client as win32\n",
    "outlook = win32.Dispatch('outlook.application')"
   ]
  },
  {
   "cell_type": "markdown",
   "metadata": {},
   "source": [
    "- Passo 2: Escrever o e-mail e disparar"
   ]
  },
  {
   "cell_type": "code",
   "execution_count": 10,
   "metadata": {},
   "outputs": [],
   "source": [
    "#Importar win32 para iniciar a aplicação outlook em segundo plano\n",
    "import win32com.client as win32\n",
    "outlook = win32.Dispatch('outlook.application')\n",
    "#Mais de um e-mail, faremos por um FOR que percorrerá uma lista de e-mails.\n",
    "\n",
    "#Criar um E-mail\n",
    "mail = outlook.CreateItem(0)\n",
    "\n",
    "#Para quem vou enviar o e-mail\n",
    "mail.To = 'Leandroydc1@gmail.com'\n",
    "\n",
    "#Quem ficará em cópia\n",
    "#mail.CC = ''\n",
    "\n",
    "#Cópia Oculta\n",
    "#mail.BCC = 'email@gmail.com'\n",
    "\n",
    "#Assunto do e-mail\n",
    "mail.Subject = 'Leandro este é um email teste'\n",
    "\n",
    "#Corpo do Email, mensagem que o usuário irá ler\n",
    "mail.Body = '''Olá Leandro, Boa tarde!\n",
    "Este é um email de teste\n",
    "te desejo uma ótima tarde'''\n",
    "\n",
    "#ou mail.HTMLBody = '<p>Corpo do Email em HTML</p>'\n",
    "\n",
    "#Anexos (Pode colocar quantos quiser)\n",
    "attachment = r'C:\\Users\\leandror\\Documents\\Curso Hashtag impressionador (Lira)\\Hashtag_Impressionador\\Integração do Python com outlook\\Financeiro.xlsx'\n",
    "mail.Attachments.Add(attachment)\n",
    "\n",
    "#Enviar o E-mail!\n",
    "mail.Send()\n",
    "\n",
    "\n",
    "\n"
   ]
  }
 ],
 "metadata": {
  "kernelspec": {
   "display_name": "Python 3",
   "language": "python",
   "name": "python3"
  },
  "language_info": {
   "codemirror_mode": {
    "name": "ipython",
    "version": 3
   },
   "file_extension": ".py",
   "mimetype": "text/x-python",
   "name": "python",
   "nbconvert_exporter": "python",
   "pygments_lexer": "ipython3",
   "version": "3.8.8"
  }
 },
 "nbformat": 4,
 "nbformat_minor": 4
}
