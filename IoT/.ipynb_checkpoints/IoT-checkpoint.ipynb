{
 "cells": [
  {
   "cell_type": "markdown",
   "id": "f00b2914",
   "metadata": {},
   "source": [
    "### Tema: Auxílio Emergencial\n",
    "- O que é Auxílio Emergêncial?\n",
    "- O Auxílio Emergencial foi um benefício financeiro criado para garantir renda mínima aos brasileiros em situação vulnerável durante a pandemia do Covid-19 (coronavírus).\n",
    "- O auxílio emergencial aprovado pelo Congresso Nacional e sancionado pela Presidência da República é um benefício de R$ 600 para garantir uma renda mínima aos brasileiros em situação mais vulnerável durante a pandemia do Covid-19 (novo coronavírus), já que muitas atividades econômicas foram gravemente afetadas pela crise.\n",
    "\n",
    "### 1º Passo: Importar os dados a serem analisados.\n",
    "- Fonte: https://basedosdados.org/dataset/br-mc-auxilio-emergencial?bdm_table=microdados\n",
    "\n",
    "- Consulta dos dados foi realizada atráves do BigQuery atráves de um login no Google Cloud\n",
    "\n",
    "#### Ao utilizar o comando: SELECT * FROM `basedosdados.br_mc_auxilio_emergencial.microdados` LIMIT 5000\n",
    "- Tenho para análise 5000 linhas para serem tratadas e trabalhadas.\n",
    "- Começamos com a importação do .csv baixado"
   ]
  },
  {
   "cell_type": "markdown",
   "id": "cc4749f4",
   "metadata": {},
   "source": [
    "# Espaço reservado para biblíotecas\n",
    "- Espaço reservado para biblítecas que utilizaremos!"
   ]
  },
  {
   "cell_type": "code",
   "execution_count": 28,
   "id": "e0bba23d",
   "metadata": {},
   "outputs": [],
   "source": [
    "import pandas as pd\n",
    "import numpy as np"
   ]
  },
  {
   "cell_type": "markdown",
   "id": "99421837",
   "metadata": {},
   "source": [
    "## Espaço para o código\n",
    "- Leitura dos arquivos excel\n",
    "- %who, comando utilizado para leitura das variaveis\n",
    "- global() comando utilizado para armazenar as variaveis para fora do for, ou seja em um for normal, você utiliza as variaveis somente dentro do for, mas com o comando \"global\" você consegue armazenar elas para utilizar no seu código sem a necessidade do for novamente."
   ]
  },
  {
   "cell_type": "code",
   "execution_count": 29,
   "id": "7f7c4ddf",
   "metadata": {},
   "outputs": [],
   "source": [
    "auxilio_emergencial_df = pd.read_csv(\"Auxilio Emergencial.csv\")\n",
    "df = auxilio_emergencial_df\n",
    "for i in df.columns:\n",
    "    globals()['coluna_' + str(i)] = df[i]"
   ]
  },
  {
   "cell_type": "code",
   "execution_count": null,
   "id": "48ebb0a8",
   "metadata": {},
   "outputs": [],
   "source": [
    "#Espaço para apresentação do comando %who"
   ]
  },
  {
   "cell_type": "code",
   "execution_count": 30,
   "id": "c8757c7f",
   "metadata": {},
   "outputs": [
    {
     "name": "stdout",
     "output_type": "stream",
     "text": [
      "\u001b[34m------------------------------Bem vindo ao sistema de consulta de um dataframe----------------------------------\n",
      "\n",
      "A planilha importada possui as seguintes colunas\n",
      "\n",
      "Posição da coluna: 0 - Nome da coluna: mes\n",
      "Posição da coluna: 1 - Nome da coluna: sigla_uf\n",
      "Posição da coluna: 2 - Nome da coluna: id_municipio\n",
      "Posição da coluna: 3 - Nome da coluna: nis_beneficiario\n",
      "Posição da coluna: 4 - Nome da coluna: cpf_beneficiario\n",
      "Posição da coluna: 5 - Nome da coluna: nome_beneficiario\n",
      "Posição da coluna: 6 - Nome da coluna: nis_responsavel\n",
      "Posição da coluna: 7 - Nome da coluna: cpf_responsavel\n",
      "Posição da coluna: 8 - Nome da coluna: nome_responsavel\n",
      "Posição da coluna: 9 - Nome da coluna: enquadramento\n",
      "Posição da coluna: 10 - Nome da coluna: parcela\n",
      "Posição da coluna: 11 - Nome da coluna: observacao\n",
      "Posição da coluna: 12 - Nome da coluna: valor_beneficio\n",
      "\n",
      "--------------------------------------------------------------------------------------------------------------------------\n"
     ]
    }
   ],
   "source": [
    "print(\"\\033[34m------------------------------Bem vindo ao sistema de consulta de um dataframe----------------------------------\\n\")\n",
    "print(f\"A planilha importada possui as seguintes colunas\\n\")\n",
    "for i, coluna in enumerate(df):\n",
    "    print(f'Posição da coluna: {i} - Nome da coluna: {coluna}')\n",
    "print(\"\\n--------------------------------------------------------------------------------------------------------------------------\")"
   ]
  }
 ],
 "metadata": {
  "kernelspec": {
   "display_name": "Python 3",
   "language": "python",
   "name": "python3"
  },
  "language_info": {
   "codemirror_mode": {
    "name": "ipython",
    "version": 3
   },
   "file_extension": ".py",
   "mimetype": "text/x-python",
   "name": "python",
   "nbconvert_exporter": "python",
   "pygments_lexer": "ipython3",
   "version": "3.8.8"
  }
 },
 "nbformat": 4,
 "nbformat_minor": 5
}
