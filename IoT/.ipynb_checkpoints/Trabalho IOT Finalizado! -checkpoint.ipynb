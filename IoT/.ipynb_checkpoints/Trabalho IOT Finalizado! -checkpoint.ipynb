{
 "cells": [
  {
   "cell_type": "markdown",
   "id": "77759758",
   "metadata": {},
   "source": [
    "## Tema: Auxílio Emergencial\n",
    "### O que é Auxílio Emergêncial?\n",
    "- O Auxílio Emergencial foi um benefício financeiro criado para garantir renda mínima aos brasileiros em situação vulnerável durante a pandemia do Covid-19 (coronavírus).\n",
    "- O auxílio emergencial aprovado pelo Congresso Nacional e sancionado pela Presidência da República é um benefício de R$ 600 para garantir uma renda mínima aos brasileiros em situação mais vulnerável durante a pandemia do Covid-19 (novo coronavírus), já que muitas atividades econômicas foram gravemente afetadas pela crise.\n",
    "\n",
    "### 1º Passo: Importar os dados a serem analisados.\n",
    "- Fonte: https://basedosdados.org/dataset/br-mc-auxilio-emergencial?bdm_table=microdados\n",
    "\n",
    "- Consulta dos dados foi realizada atráves do BigQuery atráves de um login no Google Cloud\n",
    "\n",
    "#### Ao utilizar o comando: SELECT * FROM `basedosdados.br_mc_auxilio_emergencial.microdados` LIMIT 5000\n",
    "- Tenho para análise 5000 linhas para serem tratadas e trabalhadas.\n",
    "- Começamos com a importação do .csv baixado"
   ]
  },
  {
   "cell_type": "markdown",
   "id": "7ade1d75",
   "metadata": {},
   "source": [
    "### Espaço para bibliotecas utilizadas no programa principal\n",
    "- Utilizaremos a biblioteca pandas, para análise de dados!"
   ]
  },
  {
   "cell_type": "code",
   "execution_count": null,
   "id": "85c88c0f",
   "metadata": {
    "scrolled": true
   },
   "outputs": [],
   "source": [
    "import pandas as pd\n",
    "from time import sleep\n",
    "from tqdm import tqdm, trange"
   ]
  },
  {
   "cell_type": "markdown",
   "id": "bf292d45",
   "metadata": {},
   "source": [
    "### Espaço para funções no código principal\n",
    "- Espaço somente para funções"
   ]
  },
  {
   "cell_type": "code",
   "execution_count": null,
   "id": "00cd9519",
   "metadata": {},
   "outputs": [],
   "source": [
    "def menu():\n",
    "    auxilio_emergencial_df = pd.read_csv(\"Auxilio Emergencial.csv\")\n",
    "    print('\\033[31m O dataframe foi chamado junto a função menu! selecione uma opção')\n",
    "    print('\\033[34m---' * 41)\n",
    "    print(\"\"\"\n",
    "     _____________________________________________________________________________________\n",
    "    |-------------------------------------------------------------------------------------|\n",
    "    |  [1] - Exibir os detalhes da coluna do dataframe importado                          |\n",
    "    |-------------------------------------------------------------------------------------|\n",
    "    |  [2] - Informe um número para visualizar o NOME dos Beneficiarios                   |\n",
    "    |-------------------------------------------------------------------------------------|\n",
    "    |  [3] - Informe um NOME existente para fazer o download dos detalhes do beneficiário |\n",
    "    |-------------------------------------------------------------------------------------|\n",
    "    |  [4] - Mostrar Display da tabela                                                    |\n",
    "    |-------------------------------------------------------------------------------------|\n",
    "    |  [0] - Digite \"0\" para encerrar o programa!                                         |\n",
    "    |_____________________________________________________________________________________|\n",
    "    \"\"\")\n",
    "#---------------------------------------------------------------------------------------------------# \n",
    "\n",
    "# Função que mostra um display do dataframe\n",
    "def mostrar_display():\n",
    "    auxilio_emergencial_df = pd.read_csv(\"Auxilio Emergencial.csv\")\n",
    "    display(auxilio_emergencial_df)\n",
    "\n",
    "#---------------------------------------------------------------------------------------------------#    \n",
    "\n",
    "    \n",
    "def exibir_df():\n",
    "    while True:\n",
    "        auxilio_emergencial_df = pd.read_csv(\"Auxilio Emergencial.csv\")\n",
    "        for coluna in auxilio_emergencial_df:\n",
    "            print(f'Lista de colunas do dataframe: {coluna}')\n",
    "        break\n",
    "\n",
    "        \n",
    "#----------------------------------------------------------------------------------------------------#   \n",
    "\n",
    "def filtrar_por_nome():\n",
    "    print(\"\\033[34m-----------------------------------------------------------------------------------\")\n",
    "    nome_usuario = str(input(\"\\033[39mAntes de começar, digite o seu NOME: \")).title().strip()\n",
    "    print(\"--\" *35)\n",
    "    print(f\"\\033[38m * * * Bem-vindo {nome_usuario} * * *\")\n",
    "    #-------------------------------------------------------------\n",
    "    #Importar o dataframe\n",
    "    auxilio_emergencial_df = pd.read_csv(\"Auxilio Emergencial.csv\")\n",
    "    #-------------------------------------------------------------\n",
    "    #Tratando o nome para maiusculo na tabela\n",
    "    auxilio_emergencial_df['nome_beneficiario'].str.upper()\n",
    "    #fazeno uma lista dos beneficiários com list comprehension\n",
    "    lista_nome_beneficiarios = [pessoas for pessoas in auxilio_emergencial_df['nome_beneficiario']]\n",
    "    #loop\n",
    "    while True:\n",
    "        #Nome do beneficiário\n",
    "        nome_input = str(input(\"Digite o nome que você deseja encontrar na lista: \")).upper().strip()\n",
    "        #Fazendo uma comparação para saber se o nome do input existe na lista de beneficiários.\n",
    "        if nome_input in lista_nome_beneficiarios:\n",
    "            print(f'O nome foi encontrado na lista de beneficiários do auxílio emergêncial \"{nome_input}\"')\n",
    "            print('--' * 35)\n",
    "            print(f'''\\033[34mAgora que nós temos o nome \"{nome_input}\"fazendo o download em 3 segundos!''')\n",
    "            sleep(3)\n",
    "            df_nome_input = auxilio_emergencial_df\n",
    "            df_nome_input = df_nome_input.loc[auxilio_emergencial_df['nome_beneficiario'] == f'{nome_input}']\n",
    "            exportar = df_nome_input.to_excel(f\"{nome_input}.xlsx\")\n",
    "            pbar = tqdm(exportar)\n",
    "            pbar.set_description(f\"Trabalhando no download\")\n",
    "            print('Download concluído com sucesso.')\n",
    "            print(f\"\\033[34mObrigado por utilizar o nosso programa {nome_usuario}\")\n",
    "            break\n",
    "        #Caso não exista, o programa é encerrado, voltando ao loop de seleção de opções.\n",
    "        else:\n",
    "            for i in range(3, 0, -1):\n",
    "                sleep(i)\n",
    "                print(\"DICA: no MENU, veja a opção '2' ou observe os NOMES diretamente na planilha importada!\")\n",
    "                print(f\"\\033[31mNome não encontrado na lista. Encerrando o programa {i}\")\n",
    "            break\n",
    "\n",
    "#----------------------------------------------------------------------------------------------------#         \n",
    "\n",
    "def amostra_nomes():\n",
    "    auxilio_emergencial_df = pd.read_csv(\"Auxilio Emergencial.csv\")\n",
    "    nome_coluna_df = auxilio_emergencial_df['nome_beneficiario']\n",
    "    qtde_nome = int(input(\"Digite quantos nomes deseja visualizar como exemplo: \"))\n",
    "    if qtde_nome > 0:\n",
    "        display(nome_coluna_df.head(qtde_nome))\n",
    "    else:\n",
    "        print(\"Você não digitou um número válido, tente novamente.\")\n",
    "\n",
    "#----------------------------------------------------------------------------------------------------#    "
   ]
  },
  {
   "cell_type": "markdown",
   "id": "0d3656b1",
   "metadata": {},
   "source": [
    "### Programa Principal\n",
    "- Espaço utilizado para o usuário selecionar a opção desejada e fazer um filtro com base nas opções informadas!"
   ]
  },
  {
   "cell_type": "code",
   "execution_count": null,
   "id": "0989c27a",
   "metadata": {},
   "outputs": [],
   "source": [
    "menu()\n",
    "\n",
    "while True:\n",
    "    x = int(input(\"Selecione uma opção: \"))\n",
    "    while x > 4 or x < 0:\n",
    "        x = int(input(f'''\\033[35mErro! Você digitou {x} e o valor não esta na lista de opções.\n",
    "Tente novamente com as opções listada para selecionar.'''))\n",
    "        \n",
    "    if x == 1:\n",
    "        exibir_df()\n",
    "    elif x == 2:\n",
    "        amostra_nomes()\n",
    "    elif x == 3:\n",
    "        filtrar_por_nome()\n",
    "    elif x == 4:\n",
    "        mostrar_display()\n",
    "    elif x == 0:\n",
    "        print(f'\\033[31mVocê selecionou a opção \"{0}\"\\n\\nEncerrando o programa...')\n",
    "        sleep(1)\n",
    "        print(\"Programa encerrado com sucesso!\")\n",
    "        break\n",
    "        "
   ]
  },
  {
   "cell_type": "code",
   "execution_count": null,
   "id": "7b2f809e",
   "metadata": {},
   "outputs": [],
   "source": []
  }
 ],
 "metadata": {
  "kernelspec": {
   "display_name": "Python 3",
   "language": "python",
   "name": "python3"
  },
  "language_info": {
   "codemirror_mode": {
    "name": "ipython",
    "version": 3
   },
   "file_extension": ".py",
   "mimetype": "text/x-python",
   "name": "python",
   "nbconvert_exporter": "python",
   "pygments_lexer": "ipython3",
   "version": "3.8.8"
  }
 },
 "nbformat": 4,
 "nbformat_minor": 5
}
