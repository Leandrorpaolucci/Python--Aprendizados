{
 "cells": [
  {
   "cell_type": "code",
   "execution_count": 19,
   "id": "20bc9194",
   "metadata": {},
   "outputs": [
    {
     "data": {
      "text/plain": [
       "{'time': {'updated': 'Oct 31, 2022 23:08:00 UTC',\n",
       "  'updatedISO': '2022-10-31T23:08:00+00:00',\n",
       "  'updateduk': 'Oct 31, 2022 at 23:08 GMT'},\n",
       " 'disclaimer': 'This data was produced from the CoinDesk Bitcoin Price Index (USD). Non-USD currency data converted using hourly conversion rate from openexchangerates.org',\n",
       " 'chartName': 'Bitcoin',\n",
       " 'bpi': {'USD': {'code': 'USD',\n",
       "   'symbol': '&#36;',\n",
       "   'rate': '20,485.5246',\n",
       "   'description': 'United States Dollar',\n",
       "   'rate_float': 20485.5246},\n",
       "  'GBP': {'code': 'GBP',\n",
       "   'symbol': '&pound;',\n",
       "   'rate': '17,117.5404',\n",
       "   'description': 'British Pound Sterling',\n",
       "   'rate_float': 17117.5404},\n",
       "  'EUR': {'code': 'EUR',\n",
       "   'symbol': '&euro;',\n",
       "   'rate': '19,955.8918',\n",
       "   'description': 'Euro',\n",
       "   'rate_float': 19955.8918}}}"
      ]
     },
     "metadata": {},
     "output_type": "display_data"
    }
   ],
   "source": []
  },
  {
   "cell_type": "code",
   "execution_count": 22,
   "id": "cd16a4c7",
   "metadata": {},
   "outputs": [
    {
     "data": {
      "text/plain": [
       "20485.5246"
      ]
     },
     "execution_count": 22,
     "metadata": {},
     "output_type": "execute_result"
    }
   ],
   "source": []
  },
  {
   "cell_type": "code",
   "execution_count": 24,
   "id": "be4af40b",
   "metadata": {},
   "outputs": [
    {
     "data": {
      "text/plain": [
       "19955.8918"
      ]
     },
     "execution_count": 24,
     "metadata": {},
     "output_type": "execute_result"
    }
   ],
   "source": []
  },
  {
   "cell_type": "code",
   "execution_count": 26,
   "id": "555c5a2f",
   "metadata": {},
   "outputs": [
    {
     "data": {
      "text/plain": [
       "17117.5404"
      ]
     },
     "execution_count": 26,
     "metadata": {},
     "output_type": "execute_result"
    }
   ],
   "source": []
  }
 ],
 "metadata": {
  "kernelspec": {
   "display_name": "Python 3",
   "language": "python",
   "name": "python3"
  },
  "language_info": {
   "codemirror_mode": {
    "name": "ipython",
    "version": 3
   },
   "file_extension": ".py",
   "mimetype": "text/x-python",
   "name": "python",
   "nbconvert_exporter": "python",
   "pygments_lexer": "ipython3",
   "version": "3.8.8"
  }
 },
 "nbformat": 4,
 "nbformat_minor": 5
}
