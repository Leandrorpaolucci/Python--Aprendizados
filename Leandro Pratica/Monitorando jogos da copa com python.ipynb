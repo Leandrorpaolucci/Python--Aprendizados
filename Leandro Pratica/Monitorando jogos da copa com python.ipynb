{
 "cells": [
  {
   "cell_type": "code",
   "execution_count": null,
   "id": "084d28d1",
   "metadata": {},
   "outputs": [
    {
     "name": "stdout",
     "output_type": "stream",
     "text": [
      ".\n",
      ".\n",
      ".\n",
      "51 \"- FIM DE JOGO. Alemanha pressionou no final, teve dois escanteio, uma jogada perigosa com Sané, mas não conseguiu a virada. Tudo igual no clássico.\n"
     ]
    }
   ],
   "source": [
    "import requests\n",
    "from time import sleep\n",
    "from datetime import datetime\n",
    "\n",
    "def get_match_data():\n",
    "    return requests.get(\n",
    "        url = 'https://temporeal.lance.com.br/storage/matches/copa-do-mundo-2022-27-11-2022-espanhaxalemanha.json'\n",
    "    ).json()\n",
    "\n",
    "ultima_atualizacao = None\n",
    "\n",
    "while True:\n",
    "    match_data = get_match_data()\n",
    "    narrations = match_data['match']['narrations']\n",
    "    ultima_narracao = narrations[len(narrations)-1]\n",
    "    ultimo_tempo_narracao = datetime.strptime(ultima_narracao['created_at'], '%Y-%m-%dT%H:%M:%S.000000Z')\n",
    "    if (not ultima_atualizacao) or (ultimo_tempo_narracao > ultima_atualizacao):\n",
    "        ultima_atualizacao = ultimo_tempo_narracao\n",
    "        ultimo_momento_narracao = narrations[len(narrations)-1]['moment']\n",
    "        ultima_narracao_texto = narrations[len(narrations)-1]['text']\n",
    "        print(f'.\\n.\\n.\\n{ultimo_momento_narracao} \"- {ultima_narracao_texto}')\n",
    "        \n",
    "    sleep(10)\n",
    "    \n",
    "    \n",
    "\n",
    "    "
   ]
  }
 ],
 "metadata": {
  "kernelspec": {
   "display_name": "Python 3",
   "language": "python",
   "name": "python3"
  }
 },
 "nbformat": 4,
 "nbformat_minor": 5
}
