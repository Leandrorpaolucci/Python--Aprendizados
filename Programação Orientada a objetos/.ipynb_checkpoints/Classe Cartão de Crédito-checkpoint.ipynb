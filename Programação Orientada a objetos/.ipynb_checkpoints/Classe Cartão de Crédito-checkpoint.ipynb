{
 "cells": [
  {
   "cell_type": "code",
   "execution_count": 15,
   "id": "93aebb3b",
   "metadata": {},
   "outputs": [],
   "source": [
    "from datetime import datetime\n",
    "import pytz\n",
    "from random import randint\n",
    "\n",
    "class ContaCorrente:    \n",
    "\n",
    "    @staticmethod\n",
    "    def _data_hora():\n",
    "        fuso_BR = pytz.timezone('Brazil/East')\n",
    "        horario_BR = datetime.now(fuso_BR)\n",
    "        return horario_BR.strftime('%d/%m/%Y %H:%M:%S')\n",
    "\n",
    "    def __init__(self, nome, cpf, agencia, num_conta):\n",
    "        self._nome = nome\n",
    "        self._cpf = cpf\n",
    "        self._saldo = 0\n",
    "        self._limite = None\n",
    "        self._agencia = agencia\n",
    "        self._num_conta = num_conta\n",
    "        self._transacoes = []\n",
    "        self.cartoes = []\n",
    "    def consultar_saldo(self): #Método consultar saldo\n",
    "        print(f\"Seu saldo atual é de R$: {(self._saldo):,.2f}\")\n",
    "        \n",
    "    def depositar(self, valor):\n",
    "        self._saldo += valor\n",
    "        self.consultar_saldo()\n",
    "        self._transacoes.append((valor, f'Saldo R$ {(self._saldo):,.2f} às {ContaCorrente._data_hora()}'))\n",
    "        \n",
    "    def _limite_conta(self): # _nome_método significa método privado!\n",
    "        self._limite = 500\n",
    "        return self._limite\n",
    "    \n",
    "    def sacar_dinheiro(self, valor): \n",
    "        if self._saldo - valor < self._limite_conta():\n",
    "            print(\"Você não tem saldo suficiente para sacar esse valor\")\n",
    "            self.consultar_saldo()\n",
    "        else:\n",
    "            self._saldo -= valor\n",
    "            self._transacoes.append((- valor, f'Saldo {self._saldo} às {ContaCorrente._data_hora()}'))\n",
    "            \n",
    "    def consultar_limite_cheque_especial(self):\n",
    "        print(f\"Seu limite de cheque especial é de R$ {(self._limite_conta()):,.2f} Reais.\")\n",
    "        \n",
    "    def consultar_historico_transacoes(self):\n",
    "        print(\"Historico de transações:\")\n",
    "        for transacao in self._transacoes:\n",
    "            print(\"Valor, Saldo, Data e Hora\")\n",
    "            print(transacao)\n",
    "    \n",
    "    def transferir(self, valor, conta_destino):\n",
    "        self._saldo -= valor\n",
    "        self._transacoes.append((- valor, self._saldo, ContaCorrente._data_hora()))\n",
    "        conta_destino._saldo += valor\n",
    "        conta_destino._transacoes.append((valor, conta_destino._saldo, ContaCorrente._data_hora()))"
   ]
  },
  {
   "cell_type": "code",
   "execution_count": 21,
   "id": "4ce91c48",
   "metadata": {},
   "outputs": [],
   "source": [
    "class CartaoCredito:\n",
    "    \n",
    "    @staticmethod\n",
    "    def _data_hora():\n",
    "        fuso_BR = pytz.timezone('Brazil/East')\n",
    "        horario_BR = datetime.now(fuso_BR)\n",
    "        return horario_BR\n",
    "    \n",
    "    def __init__(self, titular, conta_corrente):\n",
    "        self.numero = randint(1000000000000000, 9999999999999999)\n",
    "        self.titular = titular\n",
    "        self.validade = f\"{CartaoCredito._data_hora().month}/{CartaoCredito._data_hora().year + 4}\"\n",
    "        self.cod_seguranca = f\"{randint(0,9)}{randint(0,9)}{randint(0,9)}\"\n",
    "        self.limite = 1000\n",
    "        self.conta_corrente = conta_corrente\n",
    "        conta_corrente.cartoes.append(self)"
   ]
  },
  {
   "cell_type": "code",
   "execution_count": 22,
   "id": "fa3049ec",
   "metadata": {},
   "outputs": [],
   "source": [
    "conta_leandro = ContaCorrente(\"Leandro\", \"123.456.789-11\", 1234, 456789)\n",
    "cartao_leandro = CartaoCredito(\"Leandro\", conta_leandro)"
   ]
  },
  {
   "cell_type": "code",
   "execution_count": 23,
   "id": "e0e5df38",
   "metadata": {},
   "outputs": [
    {
     "name": "stdout",
     "output_type": "stream",
     "text": [
      "456789\n"
     ]
    }
   ],
   "source": [
    "print(cartao_leandro.conta_corrente._num_conta)"
   ]
  },
  {
   "cell_type": "code",
   "execution_count": 24,
   "id": "0e2361a6",
   "metadata": {},
   "outputs": [
    {
     "name": "stdout",
     "output_type": "stream",
     "text": [
      "6701695600638980\n"
     ]
    }
   ],
   "source": [
    "print(conta_leandro.cartoes[0].numero)"
   ]
  },
  {
   "cell_type": "code",
   "execution_count": 25,
   "id": "43a14e09",
   "metadata": {},
   "outputs": [
    {
     "name": "stdout",
     "output_type": "stream",
     "text": [
      "6701695600638980\n"
     ]
    }
   ],
   "source": [
    "print(cartao_leandro.numero)"
   ]
  },
  {
   "cell_type": "code",
   "execution_count": 26,
   "id": "7b79541d",
   "metadata": {},
   "outputs": [
    {
     "name": "stdout",
     "output_type": "stream",
     "text": [
      "113\n"
     ]
    }
   ],
   "source": [
    "print(cartao_leandro.cod_seguranca)"
   ]
  }
 ],
 "metadata": {
  "kernelspec": {
   "display_name": "Python 3",
   "language": "python",
   "name": "python3"
  },
  "language_info": {
   "codemirror_mode": {
    "name": "ipython",
    "version": 3
   },
   "file_extension": ".py",
   "mimetype": "text/x-python",
   "name": "python",
   "nbconvert_exporter": "python",
   "pygments_lexer": "ipython3",
   "version": "3.8.8"
  }
 },
 "nbformat": 4,
 "nbformat_minor": 5
}
