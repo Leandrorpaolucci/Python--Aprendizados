{
 "cells": [
  {
   "cell_type": "code",
   "execution_count": 3,
   "id": "fc2705b8",
   "metadata": {},
   "outputs": [
    {
     "name": "stdout",
     "output_type": "stream",
     "text": [
      "0\n",
      "12345678999\n",
      "Leandro\n"
     ]
    }
   ],
   "source": [
    "class ContaCorrente():\n",
    "    \n",
    "    def __init__(self, nome, cpf,):\n",
    "        self.nome = nome\n",
    "        self.cpf = cpf\n",
    "        self.saldo = 0\n",
    "        \n",
    "        \n",
    "#programa\n",
    "conta_leandro = ContaCorrente(\"Leandro\", \"12345678999\")\n",
    "print(conta_leandro.saldo)\n",
    "print(conta_leandro.cpf)\n",
    "print(conta_leandro.nome)"
   ]
  },
  {
   "cell_type": "code",
   "execution_count": 4,
   "id": "ae9e96ae",
   "metadata": {},
   "outputs": [
    {
     "name": "stdout",
     "output_type": "stream",
     "text": [
      "0\n",
      "12345678999\n",
      "Leandro\n"
     ]
    }
   ],
   "source": [
    "#programa\n",
    "conta_leandro = ContaCorrente(\"Leandro\", \"12345678999\")\n",
    "print(conta_leandro.saldo)\n",
    "print(conta_leandro.cpf)\n",
    "print(conta_leandro.nome)"
   ]
  }
 ],
 "metadata": {
  "kernelspec": {
   "display_name": "Python 3",
   "language": "python",
   "name": "python3"
  },
  "language_info": {
   "codemirror_mode": {
    "name": "ipython",
    "version": 3
   },
   "file_extension": ".py",
   "mimetype": "text/x-python",
   "name": "python",
   "nbconvert_exporter": "python",
   "pygments_lexer": "ipython3",
   "version": "3.8.8"
  }
 },
 "nbformat": 4,
 "nbformat_minor": 5
}
