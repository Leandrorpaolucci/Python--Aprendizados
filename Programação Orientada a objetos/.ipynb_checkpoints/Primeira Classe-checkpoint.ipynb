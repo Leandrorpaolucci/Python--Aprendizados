{
 "cells": [
  {
   "cell_type": "code",
   "execution_count": 16,
   "id": "23e9fd11",
   "metadata": {},
   "outputs": [],
   "source": [
    "#Toda função que está dentro de uma classe é chamada de MÉTODO\n",
    "\n",
    "class TV:\n",
    "    #Toda função que está dentro de uma classe é chamada de MÉTODO\n",
    "    def __init__(self): #def init significa que quando eu criar a classe no meu código, inicia o método init\n",
    "        self.cor = 'Preta'\n",
    "        self.ligado = 'False'\n",
    "        self.tamanho = 55\n",
    "        self.canal = 'Netflix'\n",
    "        self.volume = 20\n",
    "        "
   ]
  },
  {
   "cell_type": "code",
   "execution_count": 17,
   "id": "e4c52529",
   "metadata": {},
   "outputs": [
    {
     "name": "stdout",
     "output_type": "stream",
     "text": [
      "Preta\n"
     ]
    }
   ],
   "source": [
    "#Criação da instância da televisão\n",
    "tv_sala = TV()\n",
    "print(tv_sala.cor)"
   ]
  },
  {
   "cell_type": "code",
   "execution_count": 18,
   "id": "ac8a7bab",
   "metadata": {},
   "outputs": [
    {
     "name": "stdout",
     "output_type": "stream",
     "text": [
      "Netflix\n"
     ]
    }
   ],
   "source": [
    "tv_quarto = TV()\n",
    "print(tv_quarto.canal)"
   ]
  },
  {
   "cell_type": "markdown",
   "id": "d62c47e2",
   "metadata": {},
   "source": [
    "### Modificando os valores da TV\n",
    "- Modificando \"Atributos\""
   ]
  },
  {
   "cell_type": "code",
   "execution_count": 12,
   "id": "7ffb0e27",
   "metadata": {},
   "outputs": [
    {
     "name": "stdout",
     "output_type": "stream",
     "text": [
      "Digite a cor da televisão: Laranja\n",
      "A cor da TV desejada é: Laranja\n",
      "Digite o nome do canal que deseja assistir: Record\n",
      "O canal escolhido é: Record\n"
     ]
    }
   ],
   "source": [
    "tv_sala.cor = input(\"Digite a cor da televisão: \")\n",
    "print(f\"A cor da TV desejada é: {tv_sala.cor}\")\n",
    "\n",
    "tv_quarto.canal = input(\"Digite o nome do canal que deseja assistir: \")\n",
    "print(f\"O canal escolhido é: {tv_quarto.canal}\")"
   ]
  },
  {
   "cell_type": "code",
   "execution_count": 19,
   "id": "178ea6d1",
   "metadata": {},
   "outputs": [
    {
     "name": "stdout",
     "output_type": "stream",
     "text": [
      "55\n",
      "40\n"
     ]
    }
   ],
   "source": [
    "# Inicialmente o tamanho da TV do quarto na CLASS TV é de 55, modificamos o atributo dela para 40 enquanto a TV da sala\n",
    "#permanece no mesmo tamanho \"55\"\n",
    "tv_quarto.tamanho = 40\n",
    "print(tv_sala.tamanho)\n",
    "print(tv_quarto.tamanho)"
   ]
  }
 ],
 "metadata": {
  "kernelspec": {
   "display_name": "Python 3",
   "language": "python",
   "name": "python3"
  },
  "language_info": {
   "codemirror_mode": {
    "name": "ipython",
    "version": 3
   },
   "file_extension": ".py",
   "mimetype": "text/x-python",
   "name": "python",
   "nbconvert_exporter": "python",
   "pygments_lexer": "ipython3",
   "version": "3.8.8"
  }
 },
 "nbformat": 4,
 "nbformat_minor": 5
}
