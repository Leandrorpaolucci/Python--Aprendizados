{
 "cells": [
  {
   "cell_type": "code",
   "execution_count": 1,
   "id": "cbc6faf9",
   "metadata": {},
   "outputs": [],
   "source": [
    "from datetime import datetime\n",
    "import pytz\n",
    "from random import randint\n",
    "\n",
    "class ContaCorrente:    \n",
    "\n",
    "    @staticmethod\n",
    "    def _data_hora():\n",
    "        fuso_BR = pytz.timezone('Brazil/East')\n",
    "        horario_BR = datetime.now(fuso_BR)\n",
    "        return horario_BR.strftime('%d/%m/%Y %H:%M:%S')\n",
    "\n",
    "    def __init__(self, nome, cpf, agencia, num_conta):\n",
    "        self.nome = nome\n",
    "        self.cpf = cpf\n",
    "        self._saldo = 0\n",
    "        self._limite = None\n",
    "        self._agencia = agencia\n",
    "        self._num_conta = num_conta\n",
    "        self._transacoes = []\n",
    "        self.cartoes = []\n",
    "    def consultar_saldo(self): #Método consultar saldo\n",
    "        print(f\"Seu saldo atual é de R$: {(self._saldo):,.2f}\")\n",
    "        \n",
    "    def depositar(self, valor):\n",
    "        self._saldo += valor\n",
    "        self.consultar_saldo()\n",
    "        self._transacoes.append((valor, f'Saldo R$ {(self._saldo):,.2f} às {ContaCorrente._data_hora()}'))\n",
    "        \n",
    "    def _limite_conta(self): # _nome_método significa método privado!\n",
    "        self._limite = 500\n",
    "        return self._limite\n",
    "    \n",
    "    def sacar_dinheiro(self, valor): \n",
    "        if self._saldo - valor < self._limite_conta():\n",
    "            print(\"Você não tem saldo suficiente para sacar esse valor\")\n",
    "            self.consultar_saldo()\n",
    "        else:\n",
    "            self._saldo -= valor\n",
    "            self._transacoes.append((- valor, f'Saldo {self._saldo} às {ContaCorrente._data_hora()}'))\n",
    "            \n",
    "    def consultar_limite_cheque_especial(self):\n",
    "        print(f\"Seu limite de cheque especial é de R$ {(self._limite_conta()):,.2f} Reais.\")\n",
    "        \n",
    "    def consultar_historico_transacoes(self):\n",
    "        print(\"Historico de transações:\")\n",
    "        for transacao in self._transacoes:\n",
    "            print(\"Valor, Saldo, Data e Hora\")\n",
    "            print(transacao)\n",
    "    \n",
    "    def transferir(self, valor, conta_destino):\n",
    "        self._saldo -= valor\n",
    "        self._transacoes.append((- valor, self._saldo, ContaCorrente._data_hora()))\n",
    "        conta_destino._saldo += valor\n",
    "        conta_destino._transacoes.append((valor, conta_destino._saldo, ContaCorrente._data_hora()))\n",
    "class CartaoCredito:\n",
    "    \n",
    "    @staticmethod\n",
    "    def _data_hora():\n",
    "        fuso_BR = pytz.timezone('Brazil/East')\n",
    "        horario_BR = datetime.now(fuso_BR)\n",
    "        return horario_BR\n",
    "    \n",
    "    def __init__(self, titular, conta_corrente):\n",
    "        self.numero = randint(1000000000000000, 9999999999999999)\n",
    "        self.titular = titular\n",
    "        self.validade = f\"{CartaoCredito._data_hora().month}/{CartaoCredito._data_hora().year + 4}\"\n",
    "        self.cod_seguranca = f\"{randint(0,9)}{randint(0,9)}{randint(0,9)}\"\n",
    "        self.limite = 1000\n",
    "        self._senha = '1234'\n",
    "        self.conta_corrente = conta_corrente\n",
    "        conta_corrente.cartoes.append(self)\n",
    "    \n",
    "    #Criação do método GET pegar a senha privada\n",
    "    @property\n",
    "    def senha(self):\n",
    "        return self._senha\n",
    "    #Criação do SET, verificação se o valor é INT e possui 4 itens\n",
    "    @senha.setter\n",
    "    def senha(self, valor):\n",
    "        if len(valor) == 4 and valor.isnumeric():\n",
    "            self._senha = valor\n",
    "        else:\n",
    "            print(\"Nova senha inválida\")"
   ]
  },
  {
   "cell_type": "code",
   "execution_count": 2,
   "id": "35e7026e",
   "metadata": {},
   "outputs": [],
   "source": [
    "class CartaoCredito:\n",
    "    \n",
    "    @staticmethod\n",
    "    def _data_hora():\n",
    "        fuso_BR = pytz.timezone('Brazil/East')\n",
    "        horario_BR = datetime.now(fuso_BR)\n",
    "        return horario_BR\n",
    "    \n",
    "    def __init__(self, titular, conta_corrente):\n",
    "        self.numero = randint(1000000000000000, 9999999999999999)\n",
    "        self.titular = titular\n",
    "        self.validade = f\"{CartaoCredito._data_hora().month}/{CartaoCredito._data_hora().year + 4}\"\n",
    "        self.cod_seguranca = f\"{randint(0,9)}{randint(0,9)}{randint(0,9)}\"\n",
    "        self.limite = 1000\n",
    "        self._senha = '1234'\n",
    "        self.conta_corrente = conta_corrente\n",
    "        conta_corrente.cartoes.append(self)\n",
    "    \n",
    "    #Criação do método GET pegar a senha privada\n",
    "    @property\n",
    "    def senha(self):\n",
    "        return self._senha\n",
    "    #Criação do SET, verificação se o valor é INT e possui 4 itens\n",
    "    @senha.setter\n",
    "    def senha(self, valor):\n",
    "        if len(valor) == 4 and valor.isnumeric():\n",
    "            self._senha = valor\n",
    "        else:\n",
    "            print(\"Nova senha inválida\")\n"
   ]
  },
  {
   "cell_type": "code",
   "execution_count": 3,
   "id": "ebbf9003",
   "metadata": {},
   "outputs": [],
   "source": [
    "conta_leandro = ContaCorrente(\"Leandro\", \"123.456.789-11\", 1234, 456789)\n",
    "cartao_leandro = CartaoCredito(\"Leandro\", conta_leandro)"
   ]
  },
  {
   "cell_type": "code",
   "execution_count": 4,
   "id": "e0c95798",
   "metadata": {},
   "outputs": [
    {
     "name": "stdout",
     "output_type": "stream",
     "text": [
      "456789\n"
     ]
    }
   ],
   "source": [
    "print(cartao_leandro.conta_corrente._num_conta)"
   ]
  },
  {
   "cell_type": "code",
   "execution_count": 5,
   "id": "c8f91b81",
   "metadata": {},
   "outputs": [
    {
     "name": "stdout",
     "output_type": "stream",
     "text": [
      "2735752127050701\n"
     ]
    }
   ],
   "source": [
    "print(conta_leandro.cartoes[0].numero)"
   ]
  },
  {
   "cell_type": "code",
   "execution_count": 6,
   "id": "f03179be",
   "metadata": {},
   "outputs": [
    {
     "name": "stdout",
     "output_type": "stream",
     "text": [
      "2735752127050701\n"
     ]
    }
   ],
   "source": [
    "print(cartao_leandro.numero)"
   ]
  },
  {
   "cell_type": "code",
   "execution_count": 7,
   "id": "deb9c346",
   "metadata": {},
   "outputs": [
    {
     "name": "stdout",
     "output_type": "stream",
     "text": [
      "264\n"
     ]
    }
   ],
   "source": [
    "print(cartao_leandro.cod_seguranca)"
   ]
  },
  {
   "cell_type": "code",
   "execution_count": 8,
   "id": "18f15fdd",
   "metadata": {},
   "outputs": [
    {
     "name": "stdout",
     "output_type": "stream",
     "text": [
      "5678\n"
     ]
    }
   ],
   "source": [
    "cartao_leandro.senha = '5678'\n",
    "print(cartao_leandro.senha)"
   ]
  },
  {
   "cell_type": "code",
   "execution_count": 9,
   "id": "c698379a",
   "metadata": {},
   "outputs": [
    {
     "name": "stdout",
     "output_type": "stream",
     "text": [
      "{'_nome': 'Leandro', '_cpf': '123.456.789-11', '_saldo': 0, '_limite': None, '_agencia': 1234, '_num_conta': 456789, '_transacoes': [], 'cartoes': [<__main__.CartaoCredito object at 0x000001B148336430>]}\n"
     ]
    }
   ],
   "source": [
    "#Mostrar todos os valores\n",
    "print(conta_leandro.__dict__)"
   ]
  }
 ],
 "metadata": {
  "kernelspec": {
   "display_name": "Python 3",
   "language": "python",
   "name": "python3"
  },
  "language_info": {
   "codemirror_mode": {
    "name": "ipython",
    "version": 3
   },
   "file_extension": ".py",
   "mimetype": "text/x-python",
   "name": "python",
   "nbconvert_exporter": "python",
   "pygments_lexer": "ipython3",
   "version": "3.8.8"
  }
 },
 "nbformat": 4,
 "nbformat_minor": 5
}
