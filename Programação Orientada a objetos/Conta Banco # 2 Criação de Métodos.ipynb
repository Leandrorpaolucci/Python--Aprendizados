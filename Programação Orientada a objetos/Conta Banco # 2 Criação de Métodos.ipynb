{
 "cells": [
  {
   "cell_type": "markdown",
   "id": "8de1833d",
   "metadata": {},
   "source": [
    "## Regras de boas praticas\n",
    "- Métodos te como objetivo ser objetivo, simples, se precisarmos complicarmos não enchemos de código\n",
    "- faremos outro método para auxiliar o que precisamos fazer\n",
    "- Cada atributo que cada instancia vão ter que estar no método __init__\n",
    "- _nome_método esse underline significa método privado!\n",
    "- caso tenhamos alguma variavel embaixo da classe fora do __init__ ela é considerada variavel global"
   ]
  },
  {
   "cell_type": "code",
   "execution_count": 1,
   "id": "95e40507",
   "metadata": {},
   "outputs": [],
   "source": [
    "class ContaCorrente:\n",
    "\n",
    "    def __init__(self, nome, cpf,):\n",
    "        self.nome = nome\n",
    "        self.cpf = cpf\n",
    "        self.saldo = 0\n",
    "        self.limite = None\n",
    "        \n",
    "    def consultar_saldo(self): #Método consultar saldo\n",
    "        print(f\"Seu saldo atual é de R$: {(self.saldo):,.2f}\")\n",
    "        \n",
    "    def depositar(self, valor):\n",
    "        self.saldo += valor\n",
    "        \n",
    "    def _limite_conta(self): # _nome_método significa método privado!\n",
    "        self.limite = 500\n",
    "        return self.limite\n",
    "    \n",
    "    def sacar_dinheiro(self, valor): \n",
    "        if self.saldo - valor < self._limite_conta():\n",
    "            print(\"Você não tem saldo suficiente para sacar esse valor\")\n",
    "            self.consultar_saldo()\n",
    "        else:\n",
    "            self.saldo -= valor\n",
    "            \n",
    "    def consultar_limite_cheque_especial(self):\n",
    "        print(f\"Seu limite de cheque especial é de R$ {(self._limite_conta()):,.2f} Reais.\")"
   ]
  },
  {
   "cell_type": "code",
   "execution_count": null,
   "id": "8ca52ea6",
   "metadata": {},
   "outputs": [],
   "source": []
  },
  {
   "cell_type": "code",
   "execution_count": 2,
   "id": "25f91fba",
   "metadata": {},
   "outputs": [
    {
     "name": "stdout",
     "output_type": "stream",
     "text": [
      "Seu saldo atual é de R$: 2,000.00\n"
     ]
    }
   ],
   "source": [
    "#programa\n",
    "\n",
    "conta_leandro = ContaCorrente(\"Arlene\", \"111-222-333-45\")\n",
    "\n",
    "#print(conta_leandro.saldo)\n",
    "conta_leandro.saldo = 2000\n",
    "conta_leandro.consultar_saldo()\n"
   ]
  },
  {
   "cell_type": "code",
   "execution_count": 3,
   "id": "ba229878",
   "metadata": {},
   "outputs": [
    {
     "name": "stdout",
     "output_type": "stream",
     "text": [
      "Seu saldo atual é de R$: 2,000.00\n"
     ]
    }
   ],
   "source": [
    "conta_leandro.consultar_saldo()"
   ]
  },
  {
   "cell_type": "code",
   "execution_count": 4,
   "id": "a5fde67f",
   "metadata": {},
   "outputs": [
    {
     "name": "stdout",
     "output_type": "stream",
     "text": [
      "Seu saldo atual é de R$: 5,000.00\n"
     ]
    }
   ],
   "source": [
    "#Depositando um dinheiro na conta\n",
    "conta_leandro.depositar(3000)\n",
    "conta_leandro.consultar_saldo()"
   ]
  },
  {
   "cell_type": "code",
   "execution_count": 5,
   "id": "586f1105",
   "metadata": {},
   "outputs": [
    {
     "name": "stdout",
     "output_type": "stream",
     "text": [
      "Seu saldo atual é de R$: 2,000.00\n"
     ]
    }
   ],
   "source": [
    "# Sacar dinheiro na conta\n",
    "conta_leandro.sacar_dinheiro(3000)\n",
    "conta_leandro.consultar_saldo()"
   ]
  },
  {
   "cell_type": "code",
   "execution_count": 6,
   "id": "2698676a",
   "metadata": {},
   "outputs": [
    {
     "name": "stdout",
     "output_type": "stream",
     "text": [
      "Seu saldo atual é de R$: 2,000.00\n"
     ]
    }
   ],
   "source": [
    "#consultar saldo novamente\n",
    "conta_leandro.consultar_saldo()"
   ]
  },
  {
   "cell_type": "code",
   "execution_count": 7,
   "id": "8ccab253",
   "metadata": {},
   "outputs": [
    {
     "name": "stdout",
     "output_type": "stream",
     "text": [
      "Você não tem saldo suficiente para sacar esse valor\n",
      "Seu saldo atual é de R$: 2,000.00\n",
      "Seu saldo atual é de R$: 2,000.00\n"
     ]
    }
   ],
   "source": [
    "#sacar dinheiro\n",
    "conta_leandro.sacar_dinheiro(1999)\n",
    "conta_leandro.consultar_saldo()"
   ]
  },
  {
   "cell_type": "code",
   "execution_count": 8,
   "id": "376f1dfe",
   "metadata": {},
   "outputs": [
    {
     "name": "stdout",
     "output_type": "stream",
     "text": [
      "Seu saldo atual é de R$: 1,995.00\n"
     ]
    }
   ],
   "source": [
    "#sacar dinheiro novamente\n",
    "conta_leandro.sacar_dinheiro(5)\n",
    "conta_leandro.consultar_saldo()"
   ]
  },
  {
   "cell_type": "code",
   "execution_count": 9,
   "id": "e97fe22f",
   "metadata": {},
   "outputs": [
    {
     "name": "stdout",
     "output_type": "stream",
     "text": [
      "Seu limite de cheque especial é de R$ 500.00 Reais.\n"
     ]
    }
   ],
   "source": [
    "conta_leandro.consultar_limite_cheque_especial()"
   ]
  }
 ],
 "metadata": {
  "kernelspec": {
   "display_name": "Python 3",
   "language": "python",
   "name": "python3"
  },
  "language_info": {
   "codemirror_mode": {
    "name": "ipython",
    "version": 3
   },
   "file_extension": ".py",
   "mimetype": "text/x-python",
   "name": "python",
   "nbconvert_exporter": "python",
   "pygments_lexer": "ipython3",
   "version": "3.8.8"
  }
 },
 "nbformat": 4,
 "nbformat_minor": 5
}
