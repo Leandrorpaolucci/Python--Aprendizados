{
 "cells": [
  {
   "cell_type": "markdown",
   "id": "41ba260c",
   "metadata": {},
   "source": [
    "## Métodos Privados\n",
    "\n",
    "#### 9.6. Variáveis privadas¶\n",
    "Variáveis de instância “privadas”, que não podem ser acessadas, ​​exceto em métodos do próprio objeto, não existem em Python. No entanto, existe uma convenção que é seguida pela maioria dos programas em Python: um nome prefixado com um sublinhado (por exemplo: _spam ) deve ser tratado como uma parte não-pública da API (seja uma função, um método ou um atributo de dados). Tais nomes devem ser considerados um detalhe de implementação e sujeito a alteração sem aviso prévio.\n",
    "\n",
    "Uma vez que existe um caso de uso válido para a definição de atributos privados em classes (especificamente para evitar conflitos com nomes definidos em subclasses), existe um suporte limitado a identificadores privados em classes, chamado desfiguração de nomes. Qualquer identificador no formato __spam (pelo menos dois sublinhados no início, e no máximo um sublinhado no final) é textualmente substituído por _classname__spam, onde classname é o nome da classe atual com sublinhado(s) iniciais omitidos. Essa desfiguração independe da posição sintática do identificador, desde que ele apareça dentro da definição de uma classe.\n",
    "\n",
    "A desfiguração de nomes é útil para que subclasses possam sobrescrever métodos sem quebrar invocações de métodos dentro de outra classe. Por exemplo:"
   ]
  },
  {
   "cell_type": "code",
   "execution_count": 1,
   "id": "48b621f7",
   "metadata": {},
   "outputs": [],
   "source": [
    "from datetime import datetime\n",
    "import pytz\n",
    "\n",
    "\n",
    "class ContaCorrente:    \n",
    "\n",
    "    @staticmethod\n",
    "    def _data_hora():\n",
    "        fuso_BR = pytz.timezone('Brazil/East')\n",
    "        horario_BR = datetime.now(fuso_BR)\n",
    "        return horario_BR.strftime('%d/%m/%Y %H:%M:%S')\n",
    "\n",
    "    def __init__(self, nome, cpf, agencia, num_conta):\n",
    "        self._nome = nome\n",
    "        self._cpf = cpf\n",
    "        self._saldo = 0\n",
    "        self._limite = None\n",
    "        self._agencia = agencia\n",
    "        self._num_conta = num_conta\n",
    "        self._transacoes = []\n",
    "        \n",
    "    def consultar_saldo(self): #Método consultar saldo\n",
    "        print(f\"Seu saldo atual é de R$: {(self._saldo):,.2f}\")\n",
    "        \n",
    "    def depositar(self, valor):\n",
    "        self._saldo += valor\n",
    "        self.consultar_saldo()\n",
    "        self._transacoes.append((valor, f'Saldo R$ {(self._saldo):,.2f} às {ContaCorrente._data_hora()}'))\n",
    "        \n",
    "    def _limite_conta(self): # _nome_método significa método privado!\n",
    "        self._limite = 500\n",
    "        return self._limite\n",
    "    \n",
    "    def sacar_dinheiro(self, valor): \n",
    "        if self._saldo - valor < self._limite_conta():\n",
    "            print(\"Você não tem saldo suficiente para sacar esse valor\")\n",
    "            self.consultar_saldo()\n",
    "        else:\n",
    "            self._saldo -= valor\n",
    "            self._transacoes.append((- valor, f'Saldo {self._saldo} às {ContaCorrente._data_hora()}'))\n",
    "            \n",
    "    def consultar_limite_cheque_especial(self):\n",
    "        print(f\"Seu limite de cheque especial é de R$ {(self._limite_conta()):,.2f} Reais.\")\n",
    "        \n",
    "    def consultar_historico_transacoes(self):\n",
    "        print(\"Historico de transações:\")\n",
    "        for transacao in self._transacoes:\n",
    "            print(\"Valor, Saldo, Data e Hora\")\n",
    "            print(transacao)\n",
    "    \n",
    "    def transferir(self, valor, conta_destino):\n",
    "        self._saldo -= valor\n",
    "        self._transacoes.append((- valor, self._saldo, ContaCorrente._data_hora()))\n",
    "        conta_destino._saldo += valor\n",
    "        conta_destino._transacoes.append((valor, conta_destino._saldo, ContaCorrente._data_hora()))"
   ]
  },
  {
   "cell_type": "code",
   "execution_count": 2,
   "id": "6e94d0f4",
   "metadata": {},
   "outputs": [
    {
     "name": "stdout",
     "output_type": "stream",
     "text": [
      "Seu saldo atual é de R$: 2,000.00\n"
     ]
    }
   ],
   "source": [
    "#programa\n",
    "\n",
    "conta_leandro = ContaCorrente(\"Leandro\", \"111-222-333-45\", 1234, 56789)\n",
    "\n",
    "#print(conta_leandro.saldo)\n",
    "conta_leandro._saldo = 2000\n",
    "conta_leandro.consultar_saldo()\n",
    "\n",
    "conta_leandro.depositar(10)\n",
    "\n",
    "conta_leandro.consultar_historico_transacoes()\n",
    "\n",
    "conta_amigo = ContaCorrente(\"Gustavo\", '222-333-444-56', 5555, 777777)\n",
    "\n",
    "print(conta_amigo._nome)\n",
    "conta_amigo.consultar_saldo()"
   ]
  },
  {
   "cell_type": "code",
   "execution_count": 3,
   "id": "752c7e5e",
   "metadata": {},
   "outputs": [
    {
     "name": "stdout",
     "output_type": "stream",
     "text": [
      "Seu saldo atual é de R$: 2,010.00\n"
     ]
    }
   ],
   "source": [
    "conta_leandro.depositar(10)"
   ]
  },
  {
   "cell_type": "code",
   "execution_count": 4,
   "id": "9a8137fa",
   "metadata": {},
   "outputs": [
    {
     "name": "stdout",
     "output_type": "stream",
     "text": [
      "Historico de transações:\n",
      "Valor, Saldo, Data e Hora\n",
      "(10, 'Saldo R$ 2,010.00 às 24/12/2022 13:26:54')\n"
     ]
    }
   ],
   "source": [
    "conta_leandro.consultar_historico_transacoes()"
   ]
  },
  {
   "cell_type": "code",
   "execution_count": 5,
   "id": "ee8c0520",
   "metadata": {},
   "outputs": [],
   "source": [
    "conta_amigo = ContaCorrente(\"Gustavo\", '222-333-444-56', 5555, 777777)"
   ]
  },
  {
   "cell_type": "code",
   "execution_count": 6,
   "id": "44662277",
   "metadata": {},
   "outputs": [
    {
     "name": "stdout",
     "output_type": "stream",
     "text": [
      "Gustavo\n",
      "Seu saldo atual é de R$: 0.00\n"
     ]
    }
   ],
   "source": [
    "print(conta_amigo._nome)\n",
    "conta_amigo.consultar_saldo()"
   ]
  },
  {
   "cell_type": "code",
   "execution_count": 7,
   "id": "edcb07cb",
   "metadata": {},
   "outputs": [],
   "source": [
    "#método transferir\n",
    "conta_leandro.transferir(1010, conta_amigo)"
   ]
  },
  {
   "cell_type": "code",
   "execution_count": 8,
   "id": "dd32c31a",
   "metadata": {},
   "outputs": [
    {
     "name": "stdout",
     "output_type": "stream",
     "text": [
      "Seu saldo atual é de R$: 1,000.00\n",
      "Gustavo\n",
      "Seu saldo atual é de R$: 1,010.00\n",
      "\u001b[34m-\u001b[34m-\u001b[34m-\u001b[34m-\u001b[34m-\u001b[34m-\u001b[34m-\u001b[34m-\u001b[34m-\u001b[34m-\u001b[34m-\u001b[34m-\u001b[34m-\u001b[34m-\u001b[34m-\u001b[34m-\u001b[34m-\u001b[34m-\u001b[34m-\u001b[34m-\n",
      "Historico de transações:\n",
      "Valor, Saldo, Data e Hora\n",
      "(10, 'Saldo R$ 2,010.00 às 24/12/2022 13:26:54')\n",
      "Valor, Saldo, Data e Hora\n",
      "(-1010, 1000, '24/12/2022 13:26:54')\n",
      "\u001b[34m-\u001b[34m-\u001b[34m-\u001b[34m-\u001b[34m-\u001b[34m-\u001b[34m-\u001b[34m-\u001b[34m-\u001b[34m-\u001b[34m-\u001b[34m-\u001b[34m-\u001b[34m-\u001b[34m-\u001b[34m-\u001b[34m-\u001b[34m-\u001b[34m-\u001b[34m-\n",
      "Historico de transações:\n",
      "Valor, Saldo, Data e Hora\n",
      "(1010, 1010, '24/12/2022 13:26:54')\n"
     ]
    }
   ],
   "source": [
    "conta_leandro.consultar_saldo()\n",
    "print(conta_amigo._nome)\n",
    "conta_amigo.consultar_saldo()\n",
    "print(\"\\033[34m-\" *20)\n",
    "conta_leandro.consultar_historico_transacoes()\n",
    "print(\"\\033[34m-\" *20)\n",
    "conta_amigo.consultar_historico_transacoes()"
   ]
  },
  {
   "cell_type": "code",
   "execution_count": 9,
   "id": "9fbfa566",
   "metadata": {},
   "outputs": [
    {
     "name": "stdout",
     "output_type": "stream",
     "text": [
      "1234\n"
     ]
    }
   ],
   "source": [
    "print(conta_leandro._agencia)"
   ]
  }
 ],
 "metadata": {
  "kernelspec": {
   "display_name": "Python 3",
   "language": "python",
   "name": "python3"
  },
  "language_info": {
   "codemirror_mode": {
    "name": "ipython",
    "version": 3
   },
   "file_extension": ".py",
   "mimetype": "text/x-python",
   "name": "python",
   "nbconvert_exporter": "python",
   "pygments_lexer": "ipython3",
   "version": "3.8.8"
  }
 },
 "nbformat": 4,
 "nbformat_minor": 5
}
