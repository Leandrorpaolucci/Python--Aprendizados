{
 "cells": [
  {
   "cell_type": "markdown",
   "id": "49e7c78f",
   "metadata": {},
   "source": [
    "### Underline nos atributos da classe\n",
    "- Underline significa que torna um atributo PRIVADO\n",
    "- mas devemos pensar muito bem a respeito em qual atributo devemos torna-lo como privado.\n",
    "- exemplo NOME, o nome eu posso edita-lo caso eu queira, mas o saldo não. Porquê? \n",
    "- o saldo influencia em outros métodos, exemplo, fazemos uma transferencia, depois editamos o saldo, poderá gerar problemas\n",
    "- nas transações, perderemos a logica do que aconteceu em cada transação."
   ]
  },
  {
   "cell_type": "markdown",
   "id": "188059ce",
   "metadata": {},
   "source": [
    "### Dica quando criamos a nossa classe\n",
    "- Criaremos todos os atributos da nossa classe sem underline\n",
    "- depois da criação pensamos a respeito sobre cada atributo se é necessário ou não a privação\n",
    "- quando privamos um atributo é só os métodos de dentro da classe que podem alterar a forma do seu funcionamento"
   ]
  },
  {
   "cell_type": "markdown",
   "id": "486c4eb0",
   "metadata": {},
   "source": [
    "### → getter\n",
    "- pega a informação\n",
    "- ex: conta_leandro.nome → get(pegando informação)\n",
    "\\n\n",
    "### → setter\n",
    "- alteração do valor\n",
    "- ex: conta_leandro.nome = \"Leandro Ribeiro\" (alterando informação)\n",
    "\n",
    "##### é ai que entra a privação, se estiver com underline só a o método da classe faz a alteração, caso contrario, sem underline podemos alterar dentro do programa"
   ]
  }
 ],
 "metadata": {
  "kernelspec": {
   "display_name": "Python 3",
   "language": "python",
   "name": "python3"
  },
  "language_info": {
   "codemirror_mode": {
    "name": "ipython",
    "version": 3
   },
   "file_extension": ".py",
   "mimetype": "text/x-python",
   "name": "python",
   "nbconvert_exporter": "python",
   "pygments_lexer": "ipython3",
   "version": "3.8.8"
  }
 },
 "nbformat": 4,
 "nbformat_minor": 5
}
