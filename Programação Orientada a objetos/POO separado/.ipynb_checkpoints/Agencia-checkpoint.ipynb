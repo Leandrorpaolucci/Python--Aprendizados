{
 "cells": [
  {
   "cell_type": "code",
   "execution_count": 1,
   "id": "6af6ed2a",
   "metadata": {},
   "outputs": [],
   "source": [
    "class Agencia:\n",
    "    \n",
    "    def __init__(self, telefone, cnpj, numero):\n",
    "        self.telefone = telefone\n",
    "        self.cnpj = cnpj\n",
    "        self.numero = numero\n",
    "        self.clientes = []\n",
    "        self.caixa = 0\n",
    "        self.emprestimos = []\n",
    "        \n",
    "    def verificar_caixa(self):\n",
    "        if self.caixa < 1000000:\n",
    "            print(f\"Caixa abaixo do nivel recomendado. Caixa Atual R$: {(self.caixa):,.2f}\")\n",
    "        else:\n",
    "            print(f\"O valor de Caixa está ok. Caixa atual R$: {(self.caixa):,.2f}\")\n",
    "            \n",
    "    def emprestar_dinheiro(self, valor, cpf, juros):\n",
    "        if self.caixa > valor:\n",
    "            self.emprestimos.append((valor, cpf, juros))\n",
    "        else:\n",
    "            print(\"Emprestimo não é possível, dinheiro não disponível em caixa.\")\n",
    "    \n",
    "    def adicionar_clientes(self, nome, cpf, patrimonio):\n",
    "        self.clientes.append((nome, cpf, patrimonio))\n",
    "        \n",
    "        \n",
    "class AgenciaVirtual(Agencia): #Subclasse, passando a classe Mãe/PAI\n",
    "    pass\n",
    "\n",
    "class AgenciaComum(Agencia):\n",
    "    pass\n",
    "\n",
    "class AgenciaPremium(Agencia):\n",
    "    pass\n",
    "\n"
   ]
  },
  {
   "cell_type": "code",
   "execution_count": 2,
   "id": "2ef53a46",
   "metadata": {},
   "outputs": [
    {
     "name": "stdout",
     "output_type": "stream",
     "text": [
      "Caixa abaixo do nivel recomendado. Caixa Atual R$: 0.00\n"
     ]
    }
   ],
   "source": [
    "agencia1 = Agencia(55556666, 12345678911, 4568)\n",
    "agencia1.verificar_caixa()"
   ]
  },
  {
   "cell_type": "code",
   "execution_count": 3,
   "id": "7a105a54",
   "metadata": {},
   "outputs": [],
   "source": [
    "agencia1.caixa = 1000000"
   ]
  },
  {
   "cell_type": "code",
   "execution_count": 4,
   "id": "15348520",
   "metadata": {},
   "outputs": [
    {
     "name": "stdout",
     "output_type": "stream",
     "text": [
      "O valor de Caixa está ok. Caixa atual R$: 1,000,000.00\n"
     ]
    }
   ],
   "source": [
    "agencia1.verificar_caixa()"
   ]
  },
  {
   "cell_type": "code",
   "execution_count": 5,
   "id": "0aa5a887",
   "metadata": {},
   "outputs": [
    {
     "data": {
      "text/plain": [
       "[(1500, 47031617880, 125)]"
      ]
     },
     "execution_count": 5,
     "metadata": {},
     "output_type": "execute_result"
    }
   ],
   "source": [
    "agencia1.emprestar_dinheiro(1500, 47031617880, 125)\n",
    "agencia1.emprestimos"
   ]
  },
  {
   "cell_type": "code",
   "execution_count": 6,
   "id": "421db88e",
   "metadata": {},
   "outputs": [
    {
     "name": "stdout",
     "output_type": "stream",
     "text": [
      "[('Leandro', 47031617880, 10000)]\n"
     ]
    }
   ],
   "source": [
    "agencia1.adicionar_clientes(\"Leandro\", 47031617880, 10000)\n",
    "print(agencia1.clientes)"
   ]
  },
  {
   "cell_type": "markdown",
   "id": "68f47dbb",
   "metadata": {},
   "source": [
    "### Sub-Classes\n",
    "- class AgenciaVirtual(Agencia): #Subclasse, passando a classe Mãe/PAI\n",
    "    pass\n",
    "\n",
    "- class AgenciaComum(Agencia):\n",
    "    pass\n",
    "\n",
    "- class AgenciaPremium\n",
    "\n",
    "### Sub-Classe Herança \n",
    "- ela Herda tudo da Classe MAE/PAI no caso a classe de agência, herda também todos os atributos e métodos"
   ]
  },
  {
   "cell_type": "code",
   "execution_count": 8,
   "id": "2446a258",
   "metadata": {},
   "outputs": [],
   "source": [
    "agencia_virtual = AgenciaVirtual(22224444, 11122233344, 1000)"
   ]
  },
  {
   "cell_type": "code",
   "execution_count": 11,
   "id": "008a57b3",
   "metadata": {},
   "outputs": [
    {
     "name": "stdout",
     "output_type": "stream",
     "text": [
      "Caixa abaixo do nivel recomendado. Caixa Atual R$: 15,000.00\n"
     ]
    }
   ],
   "source": [
    "agencia_virtual.caixa = 15000\n",
    "agencia_virtual.verificar_caixa()"
   ]
  }
 ],
 "metadata": {
  "kernelspec": {
   "display_name": "Python 3",
   "language": "python",
   "name": "python3"
  },
  "language_info": {
   "codemirror_mode": {
    "name": "ipython",
    "version": 3
   },
   "file_extension": ".py",
   "mimetype": "text/x-python",
   "name": "python",
   "nbconvert_exporter": "python",
   "pygments_lexer": "ipython3",
   "version": "3.8.8"
  }
 },
 "nbformat": 4,
 "nbformat_minor": 5
}
