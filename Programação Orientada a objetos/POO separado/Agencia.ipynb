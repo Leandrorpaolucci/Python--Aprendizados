{
 "cells": [
  {
   "cell_type": "code",
   "execution_count": 1,
   "id": "28d90943",
   "metadata": {},
   "outputs": [],
   "source": [
    "from random import randint\n",
    "\n",
    "class Agencia:\n",
    "    \n",
    "    def __init__(self, telefone, cnpj, numero):\n",
    "        self.telefone = telefone\n",
    "        self.cnpj = cnpj\n",
    "        self.numero = numero\n",
    "        self.clientes = []\n",
    "        self.caixa = 0\n",
    "        self.emprestimos = []\n",
    "        \n",
    "    def verificar_caixa(self):\n",
    "        if self.caixa < 1000000:\n",
    "            print(f\"Caixa abaixo do nivel recomendado. Caixa Atual R$: {(self.caixa):,.2f}\")\n",
    "        else:\n",
    "            print(f\"O valor de Caixa está ok. Caixa atual R$: {(self.caixa):,.2f}\")\n",
    "            \n",
    "    def emprestar_dinheiro(self, valor, cpf, juros):\n",
    "        if self.caixa > valor:\n",
    "            self.emprestimos.append((valor, cpf, juros))\n",
    "        else:\n",
    "            print(\"Emprestimo não é possível, dinheiro não disponível em caixa.\")\n",
    "    \n",
    "    def adicionar_clientes(self, nome, cpf, patrimonio):\n",
    "        self.clientes.append((nome, cpf, patrimonio))\n",
    "        \n",
    "        \n",
    "class AgenciaVirtual(Agencia): #Subclasse, passando a classe Mãe/PAI\n",
    "    \n",
    "    def __init__(self, site, telefone, cnpj):\n",
    "        self.site = site\n",
    "        super().__init__(telefone, cnpj, 1000) #super é o comando que chama a classe Mae Agência, sem ela, o init da sub-classe mata todos os parametros da superclasse\n",
    "        self.caixa = 1000000\n",
    "        self.caixa_paypal = 0\n",
    "        \n",
    "    def depositar_paypal(self, valor):\n",
    "        self.caixa -= valor\n",
    "        self.caixa_paypal += valor\n",
    "    \n",
    "    def sacar_paypal(self, valor):\n",
    "        self.caixa -= valor\n",
    "        self.caixa_paypal += valor\n",
    "\n",
    "class AgenciaComum(Agencia):\n",
    "    \n",
    "    def __init__(self, telefone, cnpj):\n",
    "        super().__init__(telefone, cnpj, numero=randint(1001, 9999))\n",
    "        self.caixa = 1000000\n",
    "\n",
    "class AgenciaPremium(Agencia):\n",
    "    def __init__(self, telefone, cnpj):\n",
    "        super().__init__(telefone, cnpj, numero=randint(1001, 9999))\n",
    "        self.caixa = 10000000\n",
    "        \n",
    "    def adicionar_clientes(self, nome, cpf, patrimonio):\n",
    "        if patrimonio > 1000000:\n",
    "            super().adicionar_clientes(nome, cpf, patrimonio)\n",
    "        else:\n",
    "            print(\"o cliente não tem o patrimonio minimo necessário para entrar na agência premium\")\n",
    "\n"
   ]
  },
  {
   "cell_type": "code",
   "execution_count": 2,
   "id": "26b316c5",
   "metadata": {},
   "outputs": [
    {
     "name": "stdout",
     "output_type": "stream",
     "text": [
      "Caixa abaixo do nivel recomendado. Caixa Atual R$: 0.00\n"
     ]
    }
   ],
   "source": [
    "agencia1 = Agencia(55556666, 12345678911, 4568)\n",
    "agencia1.verificar_caixa()"
   ]
  },
  {
   "cell_type": "code",
   "execution_count": 3,
   "id": "8f0d0bb6",
   "metadata": {},
   "outputs": [],
   "source": [
    "agencia1.caixa = 1000000"
   ]
  },
  {
   "cell_type": "code",
   "execution_count": 4,
   "id": "edfe218a",
   "metadata": {},
   "outputs": [
    {
     "name": "stdout",
     "output_type": "stream",
     "text": [
      "O valor de Caixa está ok. Caixa atual R$: 1,000,000.00\n"
     ]
    }
   ],
   "source": [
    "agencia1.verificar_caixa()"
   ]
  },
  {
   "cell_type": "code",
   "execution_count": 5,
   "id": "c5a1f41b",
   "metadata": {},
   "outputs": [
    {
     "data": {
      "text/plain": [
       "[(1500, 47031617880, 125)]"
      ]
     },
     "execution_count": 5,
     "metadata": {},
     "output_type": "execute_result"
    }
   ],
   "source": [
    "agencia1.emprestar_dinheiro(1500, 123456789, 125)\n",
    "agencia1.emprestimos"
   ]
  },
  {
   "cell_type": "code",
   "execution_count": 6,
   "id": "387237be",
   "metadata": {},
   "outputs": [
    {
     "name": "stdout",
     "output_type": "stream",
     "text": [
      "[('Leandro', 47031617880, 10000)]\n"
     ]
    }
   ],
   "source": [
    "agencia1.adicionar_clientes(\"Leandro\", 12345678911, 10000)\n",
    "print(agencia1.clientes)"
   ]
  },
  {
   "cell_type": "markdown",
   "id": "86a3780d",
   "metadata": {},
   "source": [
    "### Sub-Classes\n",
    "- class AgenciaVirtual(Agencia): #Subclasse, passando a classe Mãe/PAI\n",
    "    pass\n",
    "\n",
    "- class AgenciaComum(Agencia):\n",
    "    pass\n",
    "\n",
    "- class AgenciaPremium\n",
    "\n",
    "### Sub-Classe Herança \n",
    "- ela Herda tudo da Classe MAE/PAI no caso a classe de agência, herda também todos os atributos e métodos"
   ]
  },
  {
   "cell_type": "code",
   "execution_count": 7,
   "id": "4788016f",
   "metadata": {},
   "outputs": [],
   "source": [
    "agencia_virtual = AgenciaVirtual('www.agenciavirtual.com.br', 11223344, 12345678911)\n",
    "agencia_comum = AgenciaComum(22334455, 12345678944)\n",
    "agencia_premium = AgenciaPremium(333444555, 12345678955)"
   ]
  },
  {
   "cell_type": "code",
   "execution_count": 8,
   "id": "b1510b87",
   "metadata": {},
   "outputs": [
    {
     "name": "stdout",
     "output_type": "stream",
     "text": [
      "O valor de Caixa está ok. Caixa atual R$: 1,000,000.00\n"
     ]
    }
   ],
   "source": [
    "agencia_virtual.verificar_caixa()"
   ]
  },
  {
   "cell_type": "code",
   "execution_count": 10,
   "id": "bd76099c",
   "metadata": {},
   "outputs": [
    {
     "name": "stdout",
     "output_type": "stream",
     "text": [
      "980000\n",
      "20000\n"
     ]
    }
   ],
   "source": [
    "agencia_virtual.depositar_paypal(20000)\n",
    "print(agencia_virtual.caixa)\n",
    "print(agencia_virtual.caixa_paypal)"
   ]
  },
  {
   "cell_type": "code",
   "execution_count": 12,
   "id": "74b3ff08",
   "metadata": {},
   "outputs": [],
   "source": [
    "agencia_premium.adicionar_clientes(\"Leandro\", 12345678911, 5000000)"
   ]
  },
  {
   "cell_type": "code",
   "execution_count": 14,
   "id": "d0394ba1",
   "metadata": {},
   "outputs": [
    {
     "data": {
      "text/plain": [
       "[('Leandro', 12345678911, 5000000)]"
      ]
     },
     "execution_count": 14,
     "metadata": {},
     "output_type": "execute_result"
    }
   ],
   "source": [
    "agencia_premium.clientes"
   ]
  },
  {
   "cell_type": "code",
   "execution_count": 16,
   "id": "ceeb61be",
   "metadata": {},
   "outputs": [
    {
     "data": {
      "text/plain": [
       "[('Gustavo', 78945612311, 10), ('Gustavo', 78945612311, 10)]"
      ]
     },
     "execution_count": 16,
     "metadata": {},
     "output_type": "execute_result"
    }
   ],
   "source": [
    "agencia_comum.adicionar_clientes(\"Gustavo\", 78945612311, 10)\n",
    "agencia_comum.clientes"
   ]
  }
 ],
 "metadata": {
  "kernelspec": {
   "display_name": "Python 3",
   "language": "python",
   "name": "python3"
  },
  "language_info": {
   "codemirror_mode": {
    "name": "ipython",
    "version": 3
   },
   "file_extension": ".py",
   "mimetype": "text/x-python",
   "name": "python",
   "nbconvert_exporter": "python",
   "pygments_lexer": "ipython3",
   "version": "3.8.8"
  }
 },
 "nbformat": 4,
 "nbformat_minor": 5
}
