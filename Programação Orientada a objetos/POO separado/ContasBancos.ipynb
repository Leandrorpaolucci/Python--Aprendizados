{
 "cells": [
  {
   "cell_type": "code",
   "execution_count": null,
   "id": "07d423a8",
   "metadata": {},
   "outputs": [],
   "source": [
    "# from datetime import datetime\n",
    "# import pytz\n",
    "class ContaCorrente:    \n",
    "\n",
    "    @staticmethod\n",
    "    def _data_hora():\n",
    "        fuso_BR = pytz.timezone('Brazil/East')\n",
    "        horario_BR = datetime.now(fuso_BR)\n",
    "        return horario_BR.strftime('%d/%m/%Y %H:%M:%S')\n",
    "\n",
    "    def __init__(self, nome, cpf, agencia, num_conta):\n",
    "        self._nome = nome\n",
    "        self._cpf = cpf\n",
    "        self._saldo = 0\n",
    "        self._limite = None\n",
    "        self._agencia = agencia\n",
    "        self._num_conta = num_conta\n",
    "        self._transacoes = []\n",
    "        \n",
    "    def consultar_saldo(self): #Método consultar saldo\n",
    "        print(f\"Seu saldo atual é de R$: {(self._saldo):,.2f}\")\n",
    "        \n",
    "    def depositar(self, valor):\n",
    "        self._saldo += valor\n",
    "        self.consultar_saldo()\n",
    "        self._transacoes.append((valor, f'Saldo R$ {(self._saldo):,.2f} às {ContaCorrente._data_hora()}'))\n",
    "        \n",
    "    def _limite_conta(self): # _nome_método significa método privado!\n",
    "        self._limite = 500\n",
    "        return self._limite\n",
    "    \n",
    "    def sacar_dinheiro(self, valor): \n",
    "        if self._saldo - valor < self._limite_conta():\n",
    "            print(\"Você não tem saldo suficiente para sacar esse valor\")\n",
    "            self.consultar_saldo()\n",
    "        else:\n",
    "            self._saldo -= valor\n",
    "            self._transacoes.append((- valor, f'Saldo {self._saldo} às {ContaCorrente._data_hora()}'))\n",
    "            \n",
    "    def consultar_limite_cheque_especial(self):\n",
    "        print(f\"Seu limite de cheque especial é de R$ {(self._limite_conta()):,.2f} Reais.\")\n",
    "        \n",
    "    def consultar_historico_transacoes(self):\n",
    "        print(\"Historico de transações:\")\n",
    "        for transacao in self._transacoes:\n",
    "            print(\"Valor, Saldo, Data e Hora\")\n",
    "            print(transacao)\n",
    "    \n",
    "    def transferir(self, valor, conta_destino):\n",
    "        self._saldo -= valor\n",
    "        self._transacoes.append((- valor, self._saldo, ContaCorrente._data_hora()))\n",
    "        conta_destino._saldo += valor\n",
    "        conta_destino._transacoes.append((valor, conta_destino._saldo, ContaCorrente._data_hora()))"
   ]
  }
 ],
 "metadata": {
  "kernelspec": {
   "display_name": "Python 3",
   "language": "python",
   "name": "python3"
  },
  "language_info": {
   "codemirror_mode": {
    "name": "ipython",
    "version": 3
   },
   "file_extension": ".py",
   "mimetype": "text/x-python",
   "name": "python",
   "nbconvert_exporter": "python",
   "pygments_lexer": "ipython3",
   "version": "3.8.8"
  }
 },
 "nbformat": 4,
 "nbformat_minor": 5
}
