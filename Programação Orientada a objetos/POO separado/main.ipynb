{
 "cells": [
  {
   "cell_type": "code",
   "execution_count": 1,
   "id": "88f664de",
   "metadata": {},
   "outputs": [],
   "source": [
    "from ContasBancos import ContaCorrente, CartaoCredito"
   ]
  },
  {
   "cell_type": "code",
   "execution_count": 2,
   "id": "f614299a",
   "metadata": {},
   "outputs": [],
   "source": [
    "conta_leandro = ContaCorrente(\"Leandro\", \"123.456.789-11\", 1234, 456789)\n",
    "cartao_leandro = CartaoCredito(\"Leandro\", conta_leandro)"
   ]
  },
  {
   "cell_type": "code",
   "execution_count": 3,
   "id": "1636ed61",
   "metadata": {},
   "outputs": [
    {
     "name": "stdout",
     "output_type": "stream",
     "text": [
      "Seu saldo atual é de R$: 0.00\n"
     ]
    }
   ],
   "source": [
    "conta_leandro.consultar_saldo()"
   ]
  },
  {
   "cell_type": "code",
   "execution_count": 4,
   "id": "30dcb92b",
   "metadata": {},
   "outputs": [
    {
     "name": "stdout",
     "output_type": "stream",
     "text": [
      "Leandro\n"
     ]
    }
   ],
   "source": [
    "print(conta_leandro.nome)"
   ]
  }
 ],
 "metadata": {
  "kernelspec": {
   "display_name": "Python 3",
   "language": "python",
   "name": "python3"
  },
  "language_info": {
   "codemirror_mode": {
    "name": "ipython",
    "version": 3
   },
   "file_extension": ".py",
   "mimetype": "text/x-python",
   "name": "python",
   "nbconvert_exporter": "python",
   "pygments_lexer": "ipython3",
   "version": "3.8.8"
  }
 },
 "nbformat": 4,
 "nbformat_minor": 5
}
