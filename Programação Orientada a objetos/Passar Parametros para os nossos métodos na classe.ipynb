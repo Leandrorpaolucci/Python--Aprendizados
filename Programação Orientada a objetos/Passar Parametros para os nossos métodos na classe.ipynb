{
 "cells": [
  {
   "cell_type": "code",
   "execution_count": 3,
   "id": "10166fd0",
   "metadata": {},
   "outputs": [],
   "source": [
    "#Toda função que está dentro de uma classe é chamada de MÉTODO\n",
    "\n",
    "class TV:\n",
    "    cor = 'Preta'\n",
    "    def __init__(self, tamanho): \n",
    "        #Atributos sem parenteses\n",
    "        self.ligado = 'False'\n",
    "        self.tamanho = tamanho\n",
    "        self.canal = 'Netflix'\n",
    "        self.volume = 20\n",
    "        \n",
    "        #Método possui parenteses ()\n",
    "        # → Parametro novo_canal\n",
    "    def mudar_canal(self, novo_canal):\n",
    "        self.canal = novo_canal"
   ]
  },
  {
   "cell_type": "code",
   "execution_count": 7,
   "id": "9f57eeb1",
   "metadata": {},
   "outputs": [
    {
     "name": "stdout",
     "output_type": "stream",
     "text": [
      "Globo\n",
      "SBT\n",
      "Preta\n"
     ]
    }
   ],
   "source": [
    "#Programa\n",
    "tv_sala = TV(tamanho=55)\n",
    "tv_quarto = TV(tamanho=70)\n",
    "\n",
    "#No método mudar canal, passamos o canal que o usuario deseja assistir como parametro, e lá em cima na classe, no metodo\n",
    "#mudar canal o novo canal é substituido pelo o canal do usuario\n",
    "tv_sala.mudar_canal(\"Globo\")\n",
    "tv_quarto.mudar_canal(\"SBT\")\n",
    "\n",
    "print(tv_sala.canal)\n",
    "print(tv_quarto.canal)\n",
    "print(tv_sala.cor)"
   ]
  }
 ],
 "metadata": {
  "kernelspec": {
   "display_name": "Python 3",
   "language": "python",
   "name": "python3"
  },
  "language_info": {
   "codemirror_mode": {
    "name": "ipython",
    "version": 3
   },
   "file_extension": ".py",
   "mimetype": "text/x-python",
   "name": "python",
   "nbconvert_exporter": "python",
   "pygments_lexer": "ipython3",
   "version": "3.8.8"
  }
 },
 "nbformat": 4,
 "nbformat_minor": 5
}
