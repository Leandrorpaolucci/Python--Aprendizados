{
 "cells": [
  {
   "cell_type": "code",
   "execution_count": 3,
   "id": "894cb131",
   "metadata": {},
   "outputs": [],
   "source": [
    "#Toda função que está dentro de uma classe é chamada de MÉTODO\n",
    "\n",
    "class TV:\n",
    "    #Toda função que está dentro de uma classe é chamada de MÉTODO\n",
    "    def __init__(self): #def init significa que quando eu criar a classe no meu código, inicia o método init\n",
    "        #Atributos sem parenteses\n",
    "        self.cor = 'Preta'\n",
    "        self.ligado = 'False'\n",
    "        self.tamanho = 55\n",
    "        self.canal = 'Netflix'\n",
    "        self.volume = 20\n",
    "        \n",
    "        #Método possui parenteses ()\n",
    "    def mudar_canal(self):\n",
    "        self.canal = \"Disney+\"\n",
    "        pass"
   ]
  },
  {
   "cell_type": "markdown",
   "id": "3f1c2ebb",
   "metadata": {},
   "source": [
    "### self quer dizer ele próprio, é um paramêtro que diz a propria classe TV\n",
    "- self é o responsável por atribuir os atributos e métodos em variáveis\n"
   ]
  },
  {
   "cell_type": "code",
   "execution_count": 4,
   "id": "0706b7ce",
   "metadata": {},
   "outputs": [],
   "source": [
    "#Programa\n",
    "tv_sala = TV()\n",
    "tv_quarto = TV()"
   ]
  },
  {
   "cell_type": "code",
   "execution_count": 8,
   "id": "84a0a78d",
   "metadata": {},
   "outputs": [
    {
     "name": "stdout",
     "output_type": "stream",
     "text": [
      "Disney+\n",
      "Netflix\n"
     ]
    }
   ],
   "source": [
    "tv_sala.mudar_canal()\n",
    "print(tv_sala.canal)\n",
    "print(tv_quarto.canal)"
   ]
  },
  {
   "cell_type": "code",
   "execution_count": 9,
   "id": "5e32ed45",
   "metadata": {},
   "outputs": [
    {
     "name": "stdout",
     "output_type": "stream",
     "text": [
      "Disney+\n",
      "Disney+\n"
     ]
    }
   ],
   "source": [
    "tv_sala.mudar_canal()\n",
    "tv_quarto.mudar_canal()\n",
    "print(tv_sala.canal)\n",
    "print(tv_quarto.canal)"
   ]
  }
 ],
 "metadata": {
  "kernelspec": {
   "display_name": "Python 3",
   "language": "python",
   "name": "python3"
  },
  "language_info": {
   "codemirror_mode": {
    "name": "ipython",
    "version": 3
   },
   "file_extension": ".py",
   "mimetype": "text/x-python",
   "name": "python",
   "nbconvert_exporter": "python",
   "pygments_lexer": "ipython3",
   "version": "3.8.8"
  }
 },
 "nbformat": 4,
 "nbformat_minor": 5
}
