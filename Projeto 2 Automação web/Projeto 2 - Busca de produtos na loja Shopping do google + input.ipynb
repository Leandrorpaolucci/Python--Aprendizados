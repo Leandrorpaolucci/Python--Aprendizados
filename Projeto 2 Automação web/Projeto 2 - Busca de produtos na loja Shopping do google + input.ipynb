{
 "cells": [
  {
   "cell_type": "code",
   "execution_count": 29,
   "id": "a2a03e63",
   "metadata": {},
   "outputs": [],
   "source": [
    "from selenium import webdriver\n",
    "from selenium.webdriver.common.keys import Keys\n",
    "from selenium.webdriver.common.by import By\n",
    "\n",
    "import pandas as pd\n",
    "\n",
    "navegador = webdriver.Chrome()\n",
    "# importar/visualizar a base de dados\n",
    "tabela_produtos = pd.read_excel(r\"Projeto 2 - Google Shopping e Buscape\\buscas.xlsx\")\n",
    "#display(tabela_produtos)\n"
   ]
  },
  {
   "cell_type": "markdown",
   "id": "f45581f0",
   "metadata": {},
   "source": [
    "Definição da função do google shopping"
   ]
  },
  {
   "cell_type": "code",
   "execution_count": 30,
   "id": "8fed8eb8",
   "metadata": {},
   "outputs": [],
   "source": [
    "def busca_google_shopping(navegador, produto, termos_banidos, preco_minimo, preco_maximo):\n",
    "    \n",
    "    # Entrar no google\n",
    "    navegador.get(\"https://www.google.com.br/\")\n",
    "    \n",
    "    #tratar os valores que vieram da tabela\n",
    "    produto = produto.lower()\n",
    "    termos_banidos = termos_banidos.lower()\n",
    "    lista_termos_banidos = termos_banidos.split(\" \")\n",
    "    lista_termos_produto = produto.split(\" \")\n",
    "    preco_maximo = float(preco_maximo)\n",
    "    preco_minimo = float(preco_minimo)\n",
    "    \n",
    "    \n",
    "    # pesquisar o nome do produto no google\n",
    "    navegador.find_element(By.XPATH, '/html/body/div[1]/div[3]/form/div[1]/div[1]/div[1]/div/div[2]/input').send_keys(produto)\n",
    "    navegador.find_element(By.XPATH, '/html/body/div[1]/div[3]/form/div[1]/div[1]/div[1]/div/div[2]/input').send_keys(Keys.ENTER)\n",
    "    \n",
    "    # clicar na aba shopping\n",
    "    elementos = navegador.find_elements(By.CLASS_NAME, 'hdtb-mitem')\n",
    "    for item in elementos:\n",
    "        if \"Shopping\" in item.text:\n",
    "            item.click()\n",
    "            break\n",
    "\n",
    "    #Pegar a lista de resultados da busca no google shopping        \n",
    "    lista_resultados = navegador.find_elements(By.CLASS_NAME, 'sh-dgr__grid-result')\n",
    "    \n",
    "    #Para cada resultado ele vai verificar  se o resultado corresponde a todas as nossas condiçoes\n",
    "    lista_ofertas = [] # lista que a funcao vai me dar como resultado\n",
    "    for resultado in lista_resultados:\n",
    "        nome = resultado.find_element(By.CLASS_NAME, 'tAxDx').text\n",
    "        nome = nome.lower()\n",
    "    \n",
    "    #verificação do nome - se tem no nome algum termo banido\n",
    "        tem_termos_banidos = False\n",
    "        for palavra in lista_termos_banidos:\n",
    "            if palavra in nome:\n",
    "                termos_banidos = True\n",
    "\n",
    "    # verificar se no nome tem todos os termos do nome do produto\n",
    "        tem_todos_termos_produtos = True\n",
    "        for palavra in lista_termos_produto:\n",
    "            if palavra not in nome:\n",
    "                tem_todos_termos_produtos = False\n",
    "\n",
    "        preco = resultado.find_element(By.CLASS_NAME, 'a8Pemb').text\n",
    "        preco = preco.replace(\"R$\", \"\").replace(\" \", \"\").replace(\".\", \"\").replace(\",\", \".\").replace(\"+\", \"\")\n",
    "        #temos preco chegando vazio, então trataremos com if, else\n",
    "        if preco != \"\":\n",
    "            preco = float(preco)\n",
    "            if not tem_termos_banidos and tem_todos_termos_produtos:\n",
    "                if preco_minimo <= preco <= preco_maximo:               \n",
    "                    elemento_link = resultado.find_element(By.CLASS_NAME, 'aULzUe')\n",
    "                    elemento_pai = elemento_link.find_element(By.XPATH, '..')\n",
    "                    link = elemento_pai.get_attribute('href')\n",
    "    #                 print(f\"\"\"\\033[34m\n",
    "    #                 O preço: {(preco):.2f}\n",
    "    #                 O nome do produto: {nome}\n",
    "    #                 O Link do produto: {link}\n",
    "    #                 **************************\"\"\")\n",
    "                    lista_ofertas.append((nome, preco, link))\n",
    "        else:\n",
    "            print(f\"Não encontramos nenhum link, pois a busca não existe com os valores solicitados. \")\n",
    "        \n",
    "    return lista_ofertas\n",
    "\n",
    "def busca_buscape(navegador, produto, termos_banidos, preco_minimo, preco_maximo):\n",
    "    #Tratar os valores da função\n",
    "    produto = produto.lower()\n",
    "    termos_banidos = termos_banidos.lower()\n",
    "    lista_termos_banidos = termos_banidos.split(\" \")\n",
    "    lista_termos_produto = produto.split(\" \")\n",
    "    preco_maximo = float(preco_maximo)\n",
    "    preco_minimo = float(preco_minimo)\n",
    "    \n",
    "    #entrar no buscape\n",
    "    navegador.get(\"https://www.buscape.com.br/\")\n",
    "    #pesquisar pelo produto\n",
    "    busca = navegador.find_element(By.CLASS_NAME, 'AutoCompleteStyle_input__FInnF')\n",
    "    busca.send_keys(produto)\n",
    "    busca.send_keys(Keys.ENTER)\n",
    "    \n",
    "    #pegar a lista de resultados da busca do buscapé\n",
    "    resultado_produto = navegador.find_elements(By.CLASS_NAME, 'SearchCard_ProductCard__1D3ve')\n",
    "    for resultado in resultado_produto:\n",
    "        produto_site = resultado.find_element(By.CLASS_NAME, 'SearchCard_ProductCard_Name__ZaO5o').text\n",
    "        preco_site = resultado.find_element(By.CLASS_NAME, 'Text_MobileHeadingS__XS_Au').text\n",
    "        link_produto = resultado.find_element(By.CLASS_NAME, 'SearchCard_ProductCard_Inner__7JhKb').get_attribute(\"href\")\n",
    "        print(produto_site, preco_site, link_produto)\n",
    "    #para cada resultado ver se ele tem algum termo banido\n",
    "    \n",
    "    #ver se ele tem todos os termos do nome do produto\n",
    "    \n",
    "    # ver se o preci esta na faixa do preco ideal\n",
    "    \n",
    "    #retornar a lista de ofertas\n"
   ]
  },
  {
   "cell_type": "code",
   "execution_count": 28,
   "id": "4a972d56",
   "metadata": {},
   "outputs": [
    {
     "ename": "NoSuchElementException",
     "evalue": "Message: no such element: Unable to locate element: {\"method\":\"css selector\",\"selector\":\".SearchCard_ProductCard_Name\"}\n  (Session info: chrome=108.0.5359.99)\nStacktrace:\nBacktrace:\n\t(No symbol) [0x00E7F243]\n\t(No symbol) [0x00E07FD1]\n\t(No symbol) [0x00CFD04D]\n\t(No symbol) [0x00D2C0B0]\n\t(No symbol) [0x00D2C22B]\n\t(No symbol) [0x00D22CA1]\n\t(No symbol) [0x00D485D4]\n\t(No symbol) [0x00D22BFF]\n\t(No symbol) [0x00D48804]\n\t(No symbol) [0x00D5C9EB]\n\t(No symbol) [0x00D48386]\n\t(No symbol) [0x00D2163C]\n\t(No symbol) [0x00D2269D]\n\tGetHandleVerifier [0x01119A22+2655074]\n\tGetHandleVerifier [0x0110CA24+2601828]\n\tGetHandleVerifier [0x00F28C0A+619850]\n\tGetHandleVerifier [0x00F27830+614768]\n\t(No symbol) [0x00E105FC]\n\t(No symbol) [0x00E15968]\n\t(No symbol) [0x00E15A55]\n\t(No symbol) [0x00E2051B]\n\tBaseThreadInitThunk [0x753FFEF9+25]\n\tRtlGetAppContainerNamedObjectPath [0x77567BBE+286]\n\tRtlGetAppContainerNamedObjectPath [0x77567B8E+238]\n",
     "output_type": "error",
     "traceback": [
      "\u001b[1;31m---------------------------------------------------------------------------\u001b[0m",
      "\u001b[1;31mNoSuchElementException\u001b[0m                    Traceback (most recent call last)",
      "\u001b[1;32m<ipython-input-28-8ee3ce0f1cb6>\u001b[0m in \u001b[0;36m<module>\u001b[1;34m\u001b[0m\n\u001b[0;32m      1\u001b[0m \u001b[0mresultado_produto\u001b[0m \u001b[1;33m=\u001b[0m \u001b[0mnavegador\u001b[0m\u001b[1;33m.\u001b[0m\u001b[0mfind_elements\u001b[0m\u001b[1;33m(\u001b[0m\u001b[0mBy\u001b[0m\u001b[1;33m.\u001b[0m\u001b[0mCLASS_NAME\u001b[0m\u001b[1;33m,\u001b[0m \u001b[1;34m'SearchCard_ProductCard__1D3ve'\u001b[0m\u001b[1;33m)\u001b[0m\u001b[1;33m\u001b[0m\u001b[1;33m\u001b[0m\u001b[0m\n\u001b[0;32m      2\u001b[0m \u001b[1;32mfor\u001b[0m \u001b[0mresultado\u001b[0m \u001b[1;32min\u001b[0m \u001b[0mresultado_produto\u001b[0m\u001b[1;33m:\u001b[0m\u001b[1;33m\u001b[0m\u001b[1;33m\u001b[0m\u001b[0m\n\u001b[1;32m----> 3\u001b[1;33m     \u001b[0mnome_produto\u001b[0m \u001b[1;33m=\u001b[0m \u001b[0mresultado\u001b[0m\u001b[1;33m.\u001b[0m\u001b[0mfind_element\u001b[0m\u001b[1;33m(\u001b[0m\u001b[0mBy\u001b[0m\u001b[1;33m.\u001b[0m\u001b[0mCLASS_NAME\u001b[0m\u001b[1;33m,\u001b[0m \u001b[1;34m'SearchCard_ProductCard_Name'\u001b[0m\u001b[1;33m)\u001b[0m\u001b[1;33m.\u001b[0m\u001b[0mtext\u001b[0m\u001b[1;33m\u001b[0m\u001b[1;33m\u001b[0m\u001b[0m\n\u001b[0m\u001b[0;32m      4\u001b[0m     \u001b[0mpreco_site\u001b[0m \u001b[1;33m=\u001b[0m \u001b[0mresultado\u001b[0m\u001b[1;33m.\u001b[0m\u001b[0mfind_element\u001b[0m\u001b[1;33m(\u001b[0m\u001b[0mBy\u001b[0m\u001b[1;33m.\u001b[0m\u001b[0mCLASS_NAME\u001b[0m\u001b[1;33m,\u001b[0m \u001b[1;34m'Text_MobileHeadingS__XS_Au'\u001b[0m\u001b[1;33m)\u001b[0m\u001b[1;33m.\u001b[0m\u001b[0mtext\u001b[0m\u001b[1;33m\u001b[0m\u001b[1;33m\u001b[0m\u001b[0m\n\u001b[0;32m      5\u001b[0m     \u001b[0mlink_produto\u001b[0m \u001b[1;33m=\u001b[0m \u001b[0mresultado\u001b[0m\u001b[1;33m.\u001b[0m\u001b[0mfind_element\u001b[0m\u001b[1;33m(\u001b[0m\u001b[0mBy\u001b[0m\u001b[1;33m.\u001b[0m\u001b[0mCLASS_NAME\u001b[0m\u001b[1;33m,\u001b[0m \u001b[1;34m'SearchCard_ProductCard_Inner'\u001b[0m\u001b[1;33m)\u001b[0m\u001b[1;33m.\u001b[0m\u001b[0mget_attribute\u001b[0m\u001b[1;33m(\u001b[0m\u001b[1;34m\"href\"\u001b[0m\u001b[1;33m)\u001b[0m\u001b[1;33m\u001b[0m\u001b[1;33m\u001b[0m\u001b[0m\n",
      "\u001b[1;32m~\\anaconda3\\lib\\site-packages\\selenium\\webdriver\\remote\\webelement.py\u001b[0m in \u001b[0;36mfind_element\u001b[1;34m(self, by, value)\u001b[0m\n\u001b[0;32m    417\u001b[0m             \u001b[0mvalue\u001b[0m \u001b[1;33m=\u001b[0m \u001b[1;34m'[name=\"%s\"]'\u001b[0m \u001b[1;33m%\u001b[0m \u001b[0mvalue\u001b[0m\u001b[1;33m\u001b[0m\u001b[1;33m\u001b[0m\u001b[0m\n\u001b[0;32m    418\u001b[0m \u001b[1;33m\u001b[0m\u001b[0m\n\u001b[1;32m--> 419\u001b[1;33m         return self._execute(Command.FIND_CHILD_ELEMENT,\n\u001b[0m\u001b[0;32m    420\u001b[0m                              {\"using\": by, \"value\": value})['value']\n\u001b[0;32m    421\u001b[0m \u001b[1;33m\u001b[0m\u001b[0m\n",
      "\u001b[1;32m~\\anaconda3\\lib\\site-packages\\selenium\\webdriver\\remote\\webelement.py\u001b[0m in \u001b[0;36m_execute\u001b[1;34m(self, command, params)\u001b[0m\n\u001b[0;32m    394\u001b[0m             \u001b[0mparams\u001b[0m \u001b[1;33m=\u001b[0m \u001b[1;33m{\u001b[0m\u001b[1;33m}\u001b[0m\u001b[1;33m\u001b[0m\u001b[1;33m\u001b[0m\u001b[0m\n\u001b[0;32m    395\u001b[0m         \u001b[0mparams\u001b[0m\u001b[1;33m[\u001b[0m\u001b[1;34m'id'\u001b[0m\u001b[1;33m]\u001b[0m \u001b[1;33m=\u001b[0m \u001b[0mself\u001b[0m\u001b[1;33m.\u001b[0m\u001b[0m_id\u001b[0m\u001b[1;33m\u001b[0m\u001b[1;33m\u001b[0m\u001b[0m\n\u001b[1;32m--> 396\u001b[1;33m         \u001b[1;32mreturn\u001b[0m \u001b[0mself\u001b[0m\u001b[1;33m.\u001b[0m\u001b[0m_parent\u001b[0m\u001b[1;33m.\u001b[0m\u001b[0mexecute\u001b[0m\u001b[1;33m(\u001b[0m\u001b[0mcommand\u001b[0m\u001b[1;33m,\u001b[0m \u001b[0mparams\u001b[0m\u001b[1;33m)\u001b[0m\u001b[1;33m\u001b[0m\u001b[1;33m\u001b[0m\u001b[0m\n\u001b[0m\u001b[0;32m    397\u001b[0m \u001b[1;33m\u001b[0m\u001b[0m\n\u001b[0;32m    398\u001b[0m     \u001b[1;32mdef\u001b[0m \u001b[0mfind_element\u001b[0m\u001b[1;33m(\u001b[0m\u001b[0mself\u001b[0m\u001b[1;33m,\u001b[0m \u001b[0mby\u001b[0m\u001b[1;33m=\u001b[0m\u001b[0mBy\u001b[0m\u001b[1;33m.\u001b[0m\u001b[0mID\u001b[0m\u001b[1;33m,\u001b[0m \u001b[0mvalue\u001b[0m\u001b[1;33m=\u001b[0m\u001b[1;32mNone\u001b[0m\u001b[1;33m)\u001b[0m \u001b[1;33m->\u001b[0m \u001b[0mWebElement\u001b[0m\u001b[1;33m:\u001b[0m\u001b[1;33m\u001b[0m\u001b[1;33m\u001b[0m\u001b[0m\n",
      "\u001b[1;32m~\\anaconda3\\lib\\site-packages\\selenium\\webdriver\\remote\\webdriver.py\u001b[0m in \u001b[0;36mexecute\u001b[1;34m(self, driver_command, params)\u001b[0m\n\u001b[0;32m    433\u001b[0m         \u001b[0mresponse\u001b[0m \u001b[1;33m=\u001b[0m \u001b[0mself\u001b[0m\u001b[1;33m.\u001b[0m\u001b[0mcommand_executor\u001b[0m\u001b[1;33m.\u001b[0m\u001b[0mexecute\u001b[0m\u001b[1;33m(\u001b[0m\u001b[0mdriver_command\u001b[0m\u001b[1;33m,\u001b[0m \u001b[0mparams\u001b[0m\u001b[1;33m)\u001b[0m\u001b[1;33m\u001b[0m\u001b[1;33m\u001b[0m\u001b[0m\n\u001b[0;32m    434\u001b[0m         \u001b[1;32mif\u001b[0m \u001b[0mresponse\u001b[0m\u001b[1;33m:\u001b[0m\u001b[1;33m\u001b[0m\u001b[1;33m\u001b[0m\u001b[0m\n\u001b[1;32m--> 435\u001b[1;33m             \u001b[0mself\u001b[0m\u001b[1;33m.\u001b[0m\u001b[0merror_handler\u001b[0m\u001b[1;33m.\u001b[0m\u001b[0mcheck_response\u001b[0m\u001b[1;33m(\u001b[0m\u001b[0mresponse\u001b[0m\u001b[1;33m)\u001b[0m\u001b[1;33m\u001b[0m\u001b[1;33m\u001b[0m\u001b[0m\n\u001b[0m\u001b[0;32m    436\u001b[0m             response['value'] = self._unwrap_value(\n\u001b[0;32m    437\u001b[0m                 response.get('value', None))\n",
      "\u001b[1;32m~\\anaconda3\\lib\\site-packages\\selenium\\webdriver\\remote\\errorhandler.py\u001b[0m in \u001b[0;36mcheck_response\u001b[1;34m(self, response)\u001b[0m\n\u001b[0;32m    245\u001b[0m                 \u001b[0malert_text\u001b[0m \u001b[1;33m=\u001b[0m \u001b[0mvalue\u001b[0m\u001b[1;33m[\u001b[0m\u001b[1;34m'alert'\u001b[0m\u001b[1;33m]\u001b[0m\u001b[1;33m.\u001b[0m\u001b[0mget\u001b[0m\u001b[1;33m(\u001b[0m\u001b[1;34m'text'\u001b[0m\u001b[1;33m)\u001b[0m\u001b[1;33m\u001b[0m\u001b[1;33m\u001b[0m\u001b[0m\n\u001b[0;32m    246\u001b[0m             \u001b[1;32mraise\u001b[0m \u001b[0mexception_class\u001b[0m\u001b[1;33m(\u001b[0m\u001b[0mmessage\u001b[0m\u001b[1;33m,\u001b[0m \u001b[0mscreen\u001b[0m\u001b[1;33m,\u001b[0m \u001b[0mstacktrace\u001b[0m\u001b[1;33m,\u001b[0m \u001b[0malert_text\u001b[0m\u001b[1;33m)\u001b[0m  \u001b[1;31m# type: ignore[call-arg]  # mypy is not smart enough here\u001b[0m\u001b[1;33m\u001b[0m\u001b[1;33m\u001b[0m\u001b[0m\n\u001b[1;32m--> 247\u001b[1;33m         \u001b[1;32mraise\u001b[0m \u001b[0mexception_class\u001b[0m\u001b[1;33m(\u001b[0m\u001b[0mmessage\u001b[0m\u001b[1;33m,\u001b[0m \u001b[0mscreen\u001b[0m\u001b[1;33m,\u001b[0m \u001b[0mstacktrace\u001b[0m\u001b[1;33m)\u001b[0m\u001b[1;33m\u001b[0m\u001b[1;33m\u001b[0m\u001b[0m\n\u001b[0m\u001b[0;32m    248\u001b[0m \u001b[1;33m\u001b[0m\u001b[0m\n\u001b[0;32m    249\u001b[0m     \u001b[1;32mdef\u001b[0m \u001b[0m_value_or_default\u001b[0m\u001b[1;33m(\u001b[0m\u001b[0mself\u001b[0m\u001b[1;33m,\u001b[0m \u001b[0mobj\u001b[0m\u001b[1;33m:\u001b[0m \u001b[0mMapping\u001b[0m\u001b[1;33m[\u001b[0m\u001b[0m_KT\u001b[0m\u001b[1;33m,\u001b[0m \u001b[0m_VT\u001b[0m\u001b[1;33m]\u001b[0m\u001b[1;33m,\u001b[0m \u001b[0mkey\u001b[0m\u001b[1;33m:\u001b[0m \u001b[0m_KT\u001b[0m\u001b[1;33m,\u001b[0m \u001b[0mdefault\u001b[0m\u001b[1;33m:\u001b[0m \u001b[0m_VT\u001b[0m\u001b[1;33m)\u001b[0m \u001b[1;33m->\u001b[0m \u001b[0m_VT\u001b[0m\u001b[1;33m:\u001b[0m\u001b[1;33m\u001b[0m\u001b[1;33m\u001b[0m\u001b[0m\n",
      "\u001b[1;31mNoSuchElementException\u001b[0m: Message: no such element: Unable to locate element: {\"method\":\"css selector\",\"selector\":\".SearchCard_ProductCard_Name\"}\n  (Session info: chrome=108.0.5359.99)\nStacktrace:\nBacktrace:\n\t(No symbol) [0x00E7F243]\n\t(No symbol) [0x00E07FD1]\n\t(No symbol) [0x00CFD04D]\n\t(No symbol) [0x00D2C0B0]\n\t(No symbol) [0x00D2C22B]\n\t(No symbol) [0x00D22CA1]\n\t(No symbol) [0x00D485D4]\n\t(No symbol) [0x00D22BFF]\n\t(No symbol) [0x00D48804]\n\t(No symbol) [0x00D5C9EB]\n\t(No symbol) [0x00D48386]\n\t(No symbol) [0x00D2163C]\n\t(No symbol) [0x00D2269D]\n\tGetHandleVerifier [0x01119A22+2655074]\n\tGetHandleVerifier [0x0110CA24+2601828]\n\tGetHandleVerifier [0x00F28C0A+619850]\n\tGetHandleVerifier [0x00F27830+614768]\n\t(No symbol) [0x00E105FC]\n\t(No symbol) [0x00E15968]\n\t(No symbol) [0x00E15A55]\n\t(No symbol) [0x00E2051B]\n\tBaseThreadInitThunk [0x753FFEF9+25]\n\tRtlGetAppContainerNamedObjectPath [0x77567BBE+286]\n\tRtlGetAppContainerNamedObjectPath [0x77567B8E+238]\n"
     ]
    }
   ],
   "source": [
    "resultado_produto = navegador.find_elements(By.CLASS_NAME, 'SearchCard_ProductCard__1D3ve')\n",
    "for resultado in resultado_produto:\n",
    "    nome_produto = resultado.find_element(By.CLASS_NAME, 'SearchCard_ProductCard_Name').text\n",
    "    preco_site = resultado.find_element(By.CLASS_NAME, 'Text_MobileHeadingS__XS_Au').text\n",
    "    link_produto = resultado.find_element(By.CLASS_NAME, 'SearchCard_ProductCard_Inner').get_attribute(\"href\")\n",
    "    print(nome_produto, preco_site, link_produto)"
   ]
  },
  {
   "cell_type": "markdown",
   "id": "2e146fc8",
   "metadata": {},
   "source": [
    "### Continuação do nosso codigo\n",
    "- Passamos variaveis fora da função como parametro"
   ]
  },
  {
   "cell_type": "code",
   "execution_count": 28,
   "id": "0aa24745",
   "metadata": {},
   "outputs": [],
   "source": [
    "produto = 'iphone 12 64 gb'\n",
    "termos_banidos = 'mini watch'\n",
    "preco_minimo = 3000\n",
    "preco_maximo = 3500\n",
    "\n",
    "lista_ofertas_google_shopping = busca_google_shopping(navegador, produto, termos_banidos, preco_minimo, preco_maximo)"
   ]
  },
  {
   "cell_type": "code",
   "execution_count": 33,
   "id": "68e08836",
   "metadata": {},
   "outputs": [],
   "source": [
    "#print(lista_ofertas_google_shopping)"
   ]
  },
  {
   "cell_type": "code",
   "execution_count": 32,
   "id": "01ba2cc1",
   "metadata": {},
   "outputs": [
    {
     "name": "stdout",
     "output_type": "stream",
     "text": [
      "Smartphone Apple iPhone 11 64GB Câmera Dupla R$ 3.010,00 https://www.buscape.com.br/celular/smartphone-apple-iphone-11-64gb-ios?_lc=211\n",
      "Smartphone Samsung Galaxy S22 5G SM-S901 128GB Câmera Tripla R$ 3.599,00 https://www.buscape.com.br/celular/smartphone-samsung-galaxy-128gb-android-camera-tripla-autofoco?_lc=211\n",
      "Smartphone Samsung Galaxy A53 5G SM-A536E 8GB RAM 128GB Câmera Quádrupla R$ 1.798,00 https://www.buscape.com.br/celular/smartphone-samsung-galaxy-a53-5g-sm-a536e-128gb-android?_lc=211\n",
      "Smartphone Samsung Galaxy A73 5G SM-A736B 128GB Câmera Quádrupla R$ 2.720,63 https://www.buscape.com.br/celular/smartphone-samsung-galaxy-a73-5g-sm-a736b-128gb-android?_lc=211\n",
      "  https://www.buscape.com.br/fritadeira/fritadeira-eletrica-sem-oleo-mondial-new-pratic-af-31-capacidade-3-5l-timer?_lc=211\n"
     ]
    },
    {
     "ename": "StaleElementReferenceException",
     "evalue": "Message: stale element reference: element is not attached to the page document\n  (Session info: chrome=108.0.5359.99)\nStacktrace:\nBacktrace:\n\t(No symbol) [0x00E7F243]\n\t(No symbol) [0x00E07FD1]\n\t(No symbol) [0x00CFD04D]\n\t(No symbol) [0x00CFFD34]\n\t(No symbol) [0x00CFFBE5]\n\t(No symbol) [0x00CFFE80]\n\t(No symbol) [0x00D27D27]\n\t(No symbol) [0x00D4858C]\n\t(No symbol) [0x00D22BFF]\n\t(No symbol) [0x00D48804]\n\t(No symbol) [0x00D5C9EB]\n\t(No symbol) [0x00D48386]\n\t(No symbol) [0x00D2163C]\n\t(No symbol) [0x00D2269D]\n\tGetHandleVerifier [0x01119A22+2655074]\n\tGetHandleVerifier [0x0110CA24+2601828]\n\tGetHandleVerifier [0x00F28C0A+619850]\n\tGetHandleVerifier [0x00F27830+614768]\n\t(No symbol) [0x00E105FC]\n\t(No symbol) [0x00E15968]\n\t(No symbol) [0x00E15A55]\n\t(No symbol) [0x00E2051B]\n\tBaseThreadInitThunk [0x753FFEF9+25]\n\tRtlGetAppContainerNamedObjectPath [0x77567BBE+286]\n\tRtlGetAppContainerNamedObjectPath [0x77567B8E+238]\n",
     "output_type": "error",
     "traceback": [
      "\u001b[1;31m---------------------------------------------------------------------------\u001b[0m",
      "\u001b[1;31mStaleElementReferenceException\u001b[0m            Traceback (most recent call last)",
      "\u001b[1;32m<ipython-input-32-2892e66b0634>\u001b[0m in \u001b[0;36m<module>\u001b[1;34m\u001b[0m\n\u001b[0;32m      4\u001b[0m \u001b[0mpreco_maximo\u001b[0m \u001b[1;33m=\u001b[0m \u001b[1;36m3500\u001b[0m\u001b[1;33m\u001b[0m\u001b[1;33m\u001b[0m\u001b[0m\n\u001b[0;32m      5\u001b[0m \u001b[1;33m\u001b[0m\u001b[0m\n\u001b[1;32m----> 6\u001b[1;33m \u001b[0mbusca_buscape\u001b[0m\u001b[1;33m(\u001b[0m\u001b[0mnavegador\u001b[0m\u001b[1;33m,\u001b[0m \u001b[0mproduto\u001b[0m\u001b[1;33m,\u001b[0m \u001b[0mtermos_banidos\u001b[0m\u001b[1;33m,\u001b[0m \u001b[0mpreco_minimo\u001b[0m\u001b[1;33m,\u001b[0m \u001b[0mpreco_maximo\u001b[0m\u001b[1;33m)\u001b[0m\u001b[1;33m\u001b[0m\u001b[1;33m\u001b[0m\u001b[0m\n\u001b[0m",
      "\u001b[1;32m<ipython-input-30-e81179cea055>\u001b[0m in \u001b[0;36mbusca_buscape\u001b[1;34m(navegador, produto, termos_banidos, preco_minimo, preco_maximo)\u001b[0m\n\u001b[0;32m     85\u001b[0m     \u001b[0mresultado_produto\u001b[0m \u001b[1;33m=\u001b[0m \u001b[0mnavegador\u001b[0m\u001b[1;33m.\u001b[0m\u001b[0mfind_elements\u001b[0m\u001b[1;33m(\u001b[0m\u001b[0mBy\u001b[0m\u001b[1;33m.\u001b[0m\u001b[0mCLASS_NAME\u001b[0m\u001b[1;33m,\u001b[0m \u001b[1;34m'SearchCard_ProductCard__1D3ve'\u001b[0m\u001b[1;33m)\u001b[0m\u001b[1;33m\u001b[0m\u001b[1;33m\u001b[0m\u001b[0m\n\u001b[0;32m     86\u001b[0m     \u001b[1;32mfor\u001b[0m \u001b[0mresultado\u001b[0m \u001b[1;32min\u001b[0m \u001b[0mresultado_produto\u001b[0m\u001b[1;33m:\u001b[0m\u001b[1;33m\u001b[0m\u001b[1;33m\u001b[0m\u001b[0m\n\u001b[1;32m---> 87\u001b[1;33m         \u001b[0mproduto_site\u001b[0m \u001b[1;33m=\u001b[0m \u001b[0mresultado\u001b[0m\u001b[1;33m.\u001b[0m\u001b[0mfind_element\u001b[0m\u001b[1;33m(\u001b[0m\u001b[0mBy\u001b[0m\u001b[1;33m.\u001b[0m\u001b[0mCLASS_NAME\u001b[0m\u001b[1;33m,\u001b[0m \u001b[1;34m'SearchCard_ProductCard_Name__ZaO5o'\u001b[0m\u001b[1;33m)\u001b[0m\u001b[1;33m.\u001b[0m\u001b[0mtext\u001b[0m\u001b[1;33m\u001b[0m\u001b[1;33m\u001b[0m\u001b[0m\n\u001b[0m\u001b[0;32m     88\u001b[0m         \u001b[0mpreco_site\u001b[0m \u001b[1;33m=\u001b[0m \u001b[0mresultado\u001b[0m\u001b[1;33m.\u001b[0m\u001b[0mfind_element\u001b[0m\u001b[1;33m(\u001b[0m\u001b[0mBy\u001b[0m\u001b[1;33m.\u001b[0m\u001b[0mCLASS_NAME\u001b[0m\u001b[1;33m,\u001b[0m \u001b[1;34m'Text_MobileHeadingS__XS_Au'\u001b[0m\u001b[1;33m)\u001b[0m\u001b[1;33m.\u001b[0m\u001b[0mtext\u001b[0m\u001b[1;33m\u001b[0m\u001b[1;33m\u001b[0m\u001b[0m\n\u001b[0;32m     89\u001b[0m         \u001b[0mlink_produto\u001b[0m \u001b[1;33m=\u001b[0m \u001b[0mresultado\u001b[0m\u001b[1;33m.\u001b[0m\u001b[0mfind_element\u001b[0m\u001b[1;33m(\u001b[0m\u001b[0mBy\u001b[0m\u001b[1;33m.\u001b[0m\u001b[0mCLASS_NAME\u001b[0m\u001b[1;33m,\u001b[0m \u001b[1;34m'SearchCard_ProductCard_Inner__7JhKb'\u001b[0m\u001b[1;33m)\u001b[0m\u001b[1;33m.\u001b[0m\u001b[0mget_attribute\u001b[0m\u001b[1;33m(\u001b[0m\u001b[1;34m\"href\"\u001b[0m\u001b[1;33m)\u001b[0m\u001b[1;33m\u001b[0m\u001b[1;33m\u001b[0m\u001b[0m\n",
      "\u001b[1;32m~\\anaconda3\\lib\\site-packages\\selenium\\webdriver\\remote\\webelement.py\u001b[0m in \u001b[0;36mtext\u001b[1;34m(self)\u001b[0m\n\u001b[0;32m     82\u001b[0m     \u001b[1;32mdef\u001b[0m \u001b[0mtext\u001b[0m\u001b[1;33m(\u001b[0m\u001b[0mself\u001b[0m\u001b[1;33m)\u001b[0m \u001b[1;33m->\u001b[0m \u001b[0mstr\u001b[0m\u001b[1;33m:\u001b[0m\u001b[1;33m\u001b[0m\u001b[1;33m\u001b[0m\u001b[0m\n\u001b[0;32m     83\u001b[0m         \u001b[1;34m\"\"\"The text of the element.\"\"\"\u001b[0m\u001b[1;33m\u001b[0m\u001b[1;33m\u001b[0m\u001b[0m\n\u001b[1;32m---> 84\u001b[1;33m         \u001b[1;32mreturn\u001b[0m \u001b[0mself\u001b[0m\u001b[1;33m.\u001b[0m\u001b[0m_execute\u001b[0m\u001b[1;33m(\u001b[0m\u001b[0mCommand\u001b[0m\u001b[1;33m.\u001b[0m\u001b[0mGET_ELEMENT_TEXT\u001b[0m\u001b[1;33m)\u001b[0m\u001b[1;33m[\u001b[0m\u001b[1;34m'value'\u001b[0m\u001b[1;33m]\u001b[0m\u001b[1;33m\u001b[0m\u001b[1;33m\u001b[0m\u001b[0m\n\u001b[0m\u001b[0;32m     85\u001b[0m \u001b[1;33m\u001b[0m\u001b[0m\n\u001b[0;32m     86\u001b[0m     \u001b[1;32mdef\u001b[0m \u001b[0mclick\u001b[0m\u001b[1;33m(\u001b[0m\u001b[0mself\u001b[0m\u001b[1;33m)\u001b[0m \u001b[1;33m->\u001b[0m \u001b[1;32mNone\u001b[0m\u001b[1;33m:\u001b[0m\u001b[1;33m\u001b[0m\u001b[1;33m\u001b[0m\u001b[0m\n",
      "\u001b[1;32m~\\anaconda3\\lib\\site-packages\\selenium\\webdriver\\remote\\webelement.py\u001b[0m in \u001b[0;36m_execute\u001b[1;34m(self, command, params)\u001b[0m\n\u001b[0;32m    394\u001b[0m             \u001b[0mparams\u001b[0m \u001b[1;33m=\u001b[0m \u001b[1;33m{\u001b[0m\u001b[1;33m}\u001b[0m\u001b[1;33m\u001b[0m\u001b[1;33m\u001b[0m\u001b[0m\n\u001b[0;32m    395\u001b[0m         \u001b[0mparams\u001b[0m\u001b[1;33m[\u001b[0m\u001b[1;34m'id'\u001b[0m\u001b[1;33m]\u001b[0m \u001b[1;33m=\u001b[0m \u001b[0mself\u001b[0m\u001b[1;33m.\u001b[0m\u001b[0m_id\u001b[0m\u001b[1;33m\u001b[0m\u001b[1;33m\u001b[0m\u001b[0m\n\u001b[1;32m--> 396\u001b[1;33m         \u001b[1;32mreturn\u001b[0m \u001b[0mself\u001b[0m\u001b[1;33m.\u001b[0m\u001b[0m_parent\u001b[0m\u001b[1;33m.\u001b[0m\u001b[0mexecute\u001b[0m\u001b[1;33m(\u001b[0m\u001b[0mcommand\u001b[0m\u001b[1;33m,\u001b[0m \u001b[0mparams\u001b[0m\u001b[1;33m)\u001b[0m\u001b[1;33m\u001b[0m\u001b[1;33m\u001b[0m\u001b[0m\n\u001b[0m\u001b[0;32m    397\u001b[0m \u001b[1;33m\u001b[0m\u001b[0m\n\u001b[0;32m    398\u001b[0m     \u001b[1;32mdef\u001b[0m \u001b[0mfind_element\u001b[0m\u001b[1;33m(\u001b[0m\u001b[0mself\u001b[0m\u001b[1;33m,\u001b[0m \u001b[0mby\u001b[0m\u001b[1;33m=\u001b[0m\u001b[0mBy\u001b[0m\u001b[1;33m.\u001b[0m\u001b[0mID\u001b[0m\u001b[1;33m,\u001b[0m \u001b[0mvalue\u001b[0m\u001b[1;33m=\u001b[0m\u001b[1;32mNone\u001b[0m\u001b[1;33m)\u001b[0m \u001b[1;33m->\u001b[0m \u001b[0mWebElement\u001b[0m\u001b[1;33m:\u001b[0m\u001b[1;33m\u001b[0m\u001b[1;33m\u001b[0m\u001b[0m\n",
      "\u001b[1;32m~\\anaconda3\\lib\\site-packages\\selenium\\webdriver\\remote\\webdriver.py\u001b[0m in \u001b[0;36mexecute\u001b[1;34m(self, driver_command, params)\u001b[0m\n\u001b[0;32m    433\u001b[0m         \u001b[0mresponse\u001b[0m \u001b[1;33m=\u001b[0m \u001b[0mself\u001b[0m\u001b[1;33m.\u001b[0m\u001b[0mcommand_executor\u001b[0m\u001b[1;33m.\u001b[0m\u001b[0mexecute\u001b[0m\u001b[1;33m(\u001b[0m\u001b[0mdriver_command\u001b[0m\u001b[1;33m,\u001b[0m \u001b[0mparams\u001b[0m\u001b[1;33m)\u001b[0m\u001b[1;33m\u001b[0m\u001b[1;33m\u001b[0m\u001b[0m\n\u001b[0;32m    434\u001b[0m         \u001b[1;32mif\u001b[0m \u001b[0mresponse\u001b[0m\u001b[1;33m:\u001b[0m\u001b[1;33m\u001b[0m\u001b[1;33m\u001b[0m\u001b[0m\n\u001b[1;32m--> 435\u001b[1;33m             \u001b[0mself\u001b[0m\u001b[1;33m.\u001b[0m\u001b[0merror_handler\u001b[0m\u001b[1;33m.\u001b[0m\u001b[0mcheck_response\u001b[0m\u001b[1;33m(\u001b[0m\u001b[0mresponse\u001b[0m\u001b[1;33m)\u001b[0m\u001b[1;33m\u001b[0m\u001b[1;33m\u001b[0m\u001b[0m\n\u001b[0m\u001b[0;32m    436\u001b[0m             response['value'] = self._unwrap_value(\n\u001b[0;32m    437\u001b[0m                 response.get('value', None))\n",
      "\u001b[1;32m~\\anaconda3\\lib\\site-packages\\selenium\\webdriver\\remote\\errorhandler.py\u001b[0m in \u001b[0;36mcheck_response\u001b[1;34m(self, response)\u001b[0m\n\u001b[0;32m    245\u001b[0m                 \u001b[0malert_text\u001b[0m \u001b[1;33m=\u001b[0m \u001b[0mvalue\u001b[0m\u001b[1;33m[\u001b[0m\u001b[1;34m'alert'\u001b[0m\u001b[1;33m]\u001b[0m\u001b[1;33m.\u001b[0m\u001b[0mget\u001b[0m\u001b[1;33m(\u001b[0m\u001b[1;34m'text'\u001b[0m\u001b[1;33m)\u001b[0m\u001b[1;33m\u001b[0m\u001b[1;33m\u001b[0m\u001b[0m\n\u001b[0;32m    246\u001b[0m             \u001b[1;32mraise\u001b[0m \u001b[0mexception_class\u001b[0m\u001b[1;33m(\u001b[0m\u001b[0mmessage\u001b[0m\u001b[1;33m,\u001b[0m \u001b[0mscreen\u001b[0m\u001b[1;33m,\u001b[0m \u001b[0mstacktrace\u001b[0m\u001b[1;33m,\u001b[0m \u001b[0malert_text\u001b[0m\u001b[1;33m)\u001b[0m  \u001b[1;31m# type: ignore[call-arg]  # mypy is not smart enough here\u001b[0m\u001b[1;33m\u001b[0m\u001b[1;33m\u001b[0m\u001b[0m\n\u001b[1;32m--> 247\u001b[1;33m         \u001b[1;32mraise\u001b[0m \u001b[0mexception_class\u001b[0m\u001b[1;33m(\u001b[0m\u001b[0mmessage\u001b[0m\u001b[1;33m,\u001b[0m \u001b[0mscreen\u001b[0m\u001b[1;33m,\u001b[0m \u001b[0mstacktrace\u001b[0m\u001b[1;33m)\u001b[0m\u001b[1;33m\u001b[0m\u001b[1;33m\u001b[0m\u001b[0m\n\u001b[0m\u001b[0;32m    248\u001b[0m \u001b[1;33m\u001b[0m\u001b[0m\n\u001b[0;32m    249\u001b[0m     \u001b[1;32mdef\u001b[0m \u001b[0m_value_or_default\u001b[0m\u001b[1;33m(\u001b[0m\u001b[0mself\u001b[0m\u001b[1;33m,\u001b[0m \u001b[0mobj\u001b[0m\u001b[1;33m:\u001b[0m \u001b[0mMapping\u001b[0m\u001b[1;33m[\u001b[0m\u001b[0m_KT\u001b[0m\u001b[1;33m,\u001b[0m \u001b[0m_VT\u001b[0m\u001b[1;33m]\u001b[0m\u001b[1;33m,\u001b[0m \u001b[0mkey\u001b[0m\u001b[1;33m:\u001b[0m \u001b[0m_KT\u001b[0m\u001b[1;33m,\u001b[0m \u001b[0mdefault\u001b[0m\u001b[1;33m:\u001b[0m \u001b[0m_VT\u001b[0m\u001b[1;33m)\u001b[0m \u001b[1;33m->\u001b[0m \u001b[0m_VT\u001b[0m\u001b[1;33m:\u001b[0m\u001b[1;33m\u001b[0m\u001b[1;33m\u001b[0m\u001b[0m\n",
      "\u001b[1;31mStaleElementReferenceException\u001b[0m: Message: stale element reference: element is not attached to the page document\n  (Session info: chrome=108.0.5359.99)\nStacktrace:\nBacktrace:\n\t(No symbol) [0x00E7F243]\n\t(No symbol) [0x00E07FD1]\n\t(No symbol) [0x00CFD04D]\n\t(No symbol) [0x00CFFD34]\n\t(No symbol) [0x00CFFBE5]\n\t(No symbol) [0x00CFFE80]\n\t(No symbol) [0x00D27D27]\n\t(No symbol) [0x00D4858C]\n\t(No symbol) [0x00D22BFF]\n\t(No symbol) [0x00D48804]\n\t(No symbol) [0x00D5C9EB]\n\t(No symbol) [0x00D48386]\n\t(No symbol) [0x00D2163C]\n\t(No symbol) [0x00D2269D]\n\tGetHandleVerifier [0x01119A22+2655074]\n\tGetHandleVerifier [0x0110CA24+2601828]\n\tGetHandleVerifier [0x00F28C0A+619850]\n\tGetHandleVerifier [0x00F27830+614768]\n\t(No symbol) [0x00E105FC]\n\t(No symbol) [0x00E15968]\n\t(No symbol) [0x00E15A55]\n\t(No symbol) [0x00E2051B]\n\tBaseThreadInitThunk [0x753FFEF9+25]\n\tRtlGetAppContainerNamedObjectPath [0x77567BBE+286]\n\tRtlGetAppContainerNamedObjectPath [0x77567B8E+238]\n"
     ]
    }
   ],
   "source": [
    "produto = 'Playstation 5'\n",
    "termos_banidos = 'mini watch'\n",
    "preco_minimo = 3000\n",
    "preco_maximo = 3500\n",
    "\n",
    "busca_buscape(navegador, produto, termos_banidos, preco_minimo, preco_maximo)"
   ]
  },
  {
   "cell_type": "code",
   "execution_count": null,
   "id": "9e78bb88",
   "metadata": {},
   "outputs": [],
   "source": [
    "#pegar o preço de um produto\n",
    "\n",
    "    \n",
    "\n",
    "# Para cada item dentro da nossa base de dados (para cada produto)\n",
    "    #procurar esse produto no google shopping\n",
    "        #verificar se algum dos produtos do google shopping esta dentro da minha base de preço\n",
    "    #procurar esse produto no buscapé\n",
    "        #verificar se algum dos produtos do buscapé esta dentro da minha base de preço\n",
    "        \n",
    "#Salvar as ofertas boas em um dataframe (tabela)\n",
    "#expotar para o excel\n",
    "# enviar por e-mail o resultado da tabela"
   ]
  }
 ],
 "metadata": {
  "kernelspec": {
   "display_name": "Python 3",
   "language": "python",
   "name": "python3"
  },
  "language_info": {
   "codemirror_mode": {
    "name": "ipython",
    "version": 3
   },
   "file_extension": ".py",
   "mimetype": "text/x-python",
   "name": "python",
   "nbconvert_exporter": "python",
   "pygments_lexer": "ipython3",
   "version": "3.8.8"
  }
 },
 "nbformat": 4,
 "nbformat_minor": 5
}
