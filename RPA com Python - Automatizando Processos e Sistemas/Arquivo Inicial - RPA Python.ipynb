{
 "cells": [
  {
   "cell_type": "markdown",
   "metadata": {},
   "source": [
    "# RPA com Python\n",
    "\n",
    "- O que é RPA?\n",
    "- Por que isso é diferente de Selenium/Web-Scraping e do que vimos até agora?\n",
    "    - Pontos Positivos\n",
    "    - Pontos Negativos\n",
    "- Biblioteca usada:\n",
    "    - pip install pyautogui\n",
    "    - https://pyautogui.readthedocs.io/en/latest/\n",
    "        - Para os comandos de imagem pode ser que seja necessário instalar pip install pillow\n",
    "        - Para resolver problemas de caracteres especiais vamos usar um macete com a pyperclip\n",
    "        \n",
    "- Link com um resumo dos principais comandos: https://pyautogui.readthedocs.io/en/latest/quickstart.html"
   ]
  },
  {
   "cell_type": "markdown",
   "metadata": {},
   "source": [
    "## Desafio\n",
    "\n",
    "- Vamos automatizar a extração de informações de um sistema e envio de um relatório por e-mail\n",
    "- No nosso caso, para todo mundo conseguir fazer o mesmo programa, o nosso \"sistema\" vai ser o Gmail, mas o mesmo processo pode ser feito com qualquer programa do seu computador e qualquer sistema\n",
    "    - Passo 1: Entrar no sistema (entrar no Gmail)\n",
    "    - Passo 2: Entrar em uma aba específica do sistema onde tem o nosso relatório (Aba Contatos)\n",
    "    - Passo 3: Exportar o Relatório (Exportar Contatos)\n",
    "    - Passo 4: Pegar o relatório exportado, tratar e pegar as informações que queremos\n",
    "    - Passo 5: Preencher/Atualizar informações do sistema (No nosso caso, criar um e-mail e enviar)"
   ]
  },
  {
   "cell_type": "markdown",
   "metadata": {},
   "source": [
    "### Pyautogui\n",
    "\n",
    "- pyautogui.write() → escrever\n",
    "<br>\n",
    "- pyautogui.click() → clica\n",
    "- pyautogui.LocateOnScreen() → identifica uma imagem na sua tela\n",
    "- pyautogui.hotkey() → usa atalhos do teclado\n",
    "- pyautogui.presskey() → aperta um botão no teclado"
   ]
  },
  {
   "cell_type": "code",
   "execution_count": 1,
   "metadata": {},
   "outputs": [],
   "source": [
    "import pyautogui\n",
    "from time import sleep\n",
    "#print(pyautogui.KEYBOARD_KEYS)"
   ]
  },
  {
   "cell_type": "markdown",
   "metadata": {},
   "source": [
    "#1 pressionar windows\n",
    "pyautogui.PAUSE = 1\n",
    "pyautogui.press('win')\n",
    "pyautogui.write('chrome')\n",
    "pyautogui.press('enter')\n"
   ]
  },
  {
   "cell_type": "code",
   "execution_count": null,
   "metadata": {},
   "outputs": [],
   "source": []
  },
  {
   "cell_type": "code",
   "execution_count": 10,
   "metadata": {},
   "outputs": [
    {
     "ename": "TypeError",
     "evalue": "cannot unpack non-iterable NoneType object",
     "output_type": "error",
     "traceback": [
      "\u001b[1;31m---------------------------------------------------------------------------\u001b[0m",
      "\u001b[1;31mTypeError\u001b[0m                                 Traceback (most recent call last)",
      "\u001b[1;32m<ipython-input-10-e2ce28111d96>\u001b[0m in \u001b[0;36m<module>\u001b[1;34m\u001b[0m\n\u001b[0;32m     17\u001b[0m \u001b[0mimagem_roxa\u001b[0m \u001b[1;33m=\u001b[0m \u001b[1;34m''\u001b[0m\u001b[1;33m\u001b[0m\u001b[1;33m\u001b[0m\u001b[0m\n\u001b[0;32m     18\u001b[0m \u001b[1;33m\u001b[0m\u001b[0m\n\u001b[1;32m---> 19\u001b[1;33m \u001b[0mx\u001b[0m\u001b[1;33m,\u001b[0m \u001b[0my\u001b[0m\u001b[1;33m,\u001b[0m \u001b[0mlargura\u001b[0m\u001b[1;33m,\u001b[0m \u001b[0maltura\u001b[0m \u001b[1;33m=\u001b[0m \u001b[0mpyautogui\u001b[0m\u001b[1;33m.\u001b[0m\u001b[0mlocateOnScreen\u001b[0m\u001b[1;33m(\u001b[0m\u001b[1;34m'gmail_pesquisa_azul.png'\u001b[0m\u001b[1;33m)\u001b[0m\u001b[1;33m\u001b[0m\u001b[1;33m\u001b[0m\u001b[0m\n\u001b[0m\u001b[0;32m     20\u001b[0m \u001b[0mx\u001b[0m\u001b[1;33m,\u001b[0m \u001b[0my\u001b[0m\u001b[1;33m,\u001b[0m \u001b[0mlargura\u001b[0m\u001b[1;33m,\u001b[0m \u001b[0maltura\u001b[0m \u001b[1;33m=\u001b[0m \u001b[0mpyautogui\u001b[0m\u001b[1;33m.\u001b[0m\u001b[0mlocateOnScreen\u001b[0m\u001b[1;33m(\u001b[0m\u001b[1;34m'gmail_pesquisa_roxa.png'\u001b[0m\u001b[1;33m)\u001b[0m\u001b[1;33m\u001b[0m\u001b[1;33m\u001b[0m\u001b[0m\n\u001b[0;32m     21\u001b[0m \u001b[1;32mif\u001b[0m \u001b[1;34m'gmail_pesquisa_azul.png'\u001b[0m\u001b[1;33m:\u001b[0m\u001b[1;33m\u001b[0m\u001b[1;33m\u001b[0m\u001b[0m\n",
      "\u001b[1;31mTypeError\u001b[0m: cannot unpack non-iterable NoneType object"
     ]
    }
   ],
   "source": [
    "#abrir o sistema(navegador)\n",
    "\n",
    "pyautogui.PAUSE = 1.5\n",
    "#Passo 1 Apertar Windows do teclado\n",
    "pyautogui.press('win')\n",
    "#Passo 2 escrever Chrome\n",
    "pyautogui.write('chrome')\n",
    "#Passo 3 Enter\n",
    "pyautogui.press('enter')\n",
    "#escrever gmail\n",
    "pyautogui.write('gmail')\n",
    "#enter\n",
    "pyautogui.press('enter')\n",
    "\n",
    "#localizar a imagem → 4 informações: posição x, posição y, largura e altura\n",
    "imagem_azul = ''\n",
    "imagem_roxa = ''\n",
    "\n",
    "x, y, largura, altura = pyautogui.locateOnScreen('gmail_pesquisa_azul.png')\n",
    "x, y, largura, altura = pyautogui.locateOnScreen('gmail_pesquisa_roxa.png')\n",
    "if 'gmail_pesquisa_azul.png':\n",
    "    imagem_azul = pyautogui.locateOnScreen('gmail_pesquisa_azul.png')\n",
    "    pyautogui.click(x + largura/2, y + altura/2)\n",
    "else:\n",
    "    imagem_roxa = pyautogui.locateOnScreen('gmail_pesquisa_roxa.png')\n",
    "    pyautogui.click(x + largura/2, y + altura/2)\n",
    "    \n",
    "\n",
    "#Esperar o gmail\n",
    "while not pyautogui.locateOnScreen('logo_gmail.png'):\n",
    "    sleep(1)\n",
    "    \n",
    "#Entrar em apps e clicar nos contatos\n",
    "#apps gmail\n",
    "x, y, largura, altura = pyautogui.locateOnScreen('pontinhos_menu.png')\n",
    "pyautogui.click(x + largura/2, y + altura/2)\n",
    "#contatos\n",
    "x, y, largura, altura = pyautogui.locateOnScreen('contatos.png')\n",
    "pyautogui.click(x + largura/2, y + altura/2)\n",
    "\n",
    "#Esperar tela contatos\n",
    "while not pyautogui.locateOnScreen('carregando_contatos.png'):\n",
    "    sleep(1)\n",
    "\n",
    "#clicar no exportar\n",
    "x, y, largura, altura = pyautogui.locateOnScreen('exportar.png')\n",
    "pyautogui.click(x + largura/2, y + altura/2)\n",
    "#clilcar no confirmar exportar\n",
    "x, y, largura, altura = pyautogui.locateOnScreen('confirmar_exportar.png')\n",
    "pyautogui.click(x + largura/2, y + altura/2)\n"
   ]
  },
  {
   "cell_type": "code",
   "execution_count": null,
   "metadata": {},
   "outputs": [],
   "source": []
  },
  {
   "cell_type": "code",
   "execution_count": null,
   "metadata": {},
   "outputs": [],
   "source": []
  },
  {
   "cell_type": "markdown",
   "metadata": {},
   "source": [
    "### Agora vamos escrever o e-mail"
   ]
  },
  {
   "cell_type": "code",
   "execution_count": null,
   "metadata": {},
   "outputs": [],
   "source": []
  },
  {
   "cell_type": "markdown",
   "metadata": {},
   "source": [
    "### E se eu já tiver com a aba aberta, como que eu coloco ela na frente?"
   ]
  },
  {
   "cell_type": "code",
   "execution_count": null,
   "metadata": {},
   "outputs": [],
   "source": []
  },
  {
   "cell_type": "markdown",
   "metadata": {},
   "source": [
    "### Como descobrir a posição do mouse do local que eu quero"
   ]
  },
  {
   "cell_type": "code",
   "execution_count": null,
   "metadata": {},
   "outputs": [],
   "source": []
  }
 ],
 "metadata": {
  "kernelspec": {
   "display_name": "Python 3",
   "language": "python",
   "name": "python3"
  },
  "language_info": {
   "codemirror_mode": {
    "name": "ipython",
    "version": 3
   },
   "file_extension": ".py",
   "mimetype": "text/x-python",
   "name": "python",
   "nbconvert_exporter": "python",
   "pygments_lexer": "ipython3",
   "version": "3.8.8"
  }
 },
 "nbformat": 4,
 "nbformat_minor": 4
}
