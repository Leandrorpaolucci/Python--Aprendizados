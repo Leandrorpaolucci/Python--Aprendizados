{
 "cells": [
  {
   "cell_type": "markdown",
   "id": "e6fa5871",
   "metadata": {},
   "source": [
    "### Esperar o Elemento carregar\n",
    "\n",
    "2 métodos:\n",
    "\n",
    "- WebDriverWait + ExpectedConditions (EC)\n",
    "    - Nativo do Selenium, menos linhas de código\n",
    "    - Já vi dar bug e mais chatinho de lembrar\n",
    "- Loop de espera\n",
    "    - Criação de uma espera \"manual\"\n",
    "    - Nunca abandona"
   ]
  },
  {
   "cell_type": "code",
   "execution_count": 12,
   "id": "a240da55",
   "metadata": {},
   "outputs": [
    {
     "name": "stdout",
     "output_type": "stream",
     "text": [
      "\n"
     ]
    }
   ],
   "source": [
    "from selenium import webdriver\n",
    "from selenium.webdriver.chrome.service import Service\n",
    "from webdriver_manager.chrome import ChromeDriverManager\n",
    "from selenium.webdriver.common.by import By\n",
    "from time import sleep\n",
    "servico = Service(ChromeDriverManager().install())\n",
    "navegador = webdriver.Chrome(service=servico)\n",
    "navegador.get(\"https://hashtagtreinamentos.com\")\n",
    "sleep()\n",
    "navegador.find_element(By.CLASS_NAME, 'eicon-close').click()"
   ]
  },
  {
   "cell_type": "code",
   "execution_count": 9,
   "id": "f054e9de",
   "metadata": {},
   "outputs": [],
   "source": []
  },
  {
   "cell_type": "code",
   "execution_count": 16,
   "id": "13792b7b",
   "metadata": {},
   "outputs": [],
   "source": [
    "# WebDriverWait e EC\n",
    "from selenium.webdriver.common.by import By\n",
    "from selenium.webdriver.support.ui import WebDriverWait\n",
    "from selenium.webdriver.support import expected_conditions as EC\n",
    "\n",
    "navegador = webdriver.Chrome()\n",
    "navegador.get(\"https://hashtagtreinamentos.com\")\n",
    "\n",
    "elemento = WebDriverWait(navegador, 30).until(EC.presence_of_element_located((By.CLASS_NAME, \"eicon-close\")))\n",
    "sleep(1)\n",
    "elemento.click()\n"
   ]
  },
  {
   "cell_type": "code",
   "execution_count": 17,
   "id": "6f1e5e7c",
   "metadata": {},
   "outputs": [
    {
     "ename": "NoSuchElementException",
     "evalue": "Message: no such element: Unable to locate element: {\"method\":\"css selector\",\"selector\":\".eicon-close\"}\n  (Session info: chrome=104.0.5112.80)\nStacktrace:\nBacktrace:\n\tOrdinal0 [0x009D5FD3+2187219]\n\tOrdinal0 [0x0096E6D1+1763025]\n\tOrdinal0 [0x00883E78+802424]\n\tOrdinal0 [0x008B1C10+990224]\n\tOrdinal0 [0x008B1EAB+990891]\n\tOrdinal0 [0x008DEC92+1174674]\n\tOrdinal0 [0x008CCBD4+1100756]\n\tOrdinal0 [0x008DCFC2+1167298]\n\tOrdinal0 [0x008CC9A6+1100198]\n\tOrdinal0 [0x008A6F80+946048]\n\tOrdinal0 [0x008A7E76+949878]\n\tGetHandleVerifier [0x00C790C2+2721218]\n\tGetHandleVerifier [0x00C6AAF0+2662384]\n\tGetHandleVerifier [0x00A6137A+526458]\n\tGetHandleVerifier [0x00A60416+522518]\n\tOrdinal0 [0x00974EAB+1789611]\n\tOrdinal0 [0x009797A8+1808296]\n\tOrdinal0 [0x00979895+1808533]\n\tOrdinal0 [0x009826C1+1844929]\n\tBaseThreadInitThunk [0x7709FA29+25]\n\tRtlGetAppContainerNamedObjectPath [0x773E7A9E+286]\n\tRtlGetAppContainerNamedObjectPath [0x773E7A6E+238]\n",
     "output_type": "error",
     "traceback": [
      "\u001b[1;31m---------------------------------------------------------------------------\u001b[0m",
      "\u001b[1;31mNoSuchElementException\u001b[0m                    Traceback (most recent call last)",
      "\u001b[1;32m<ipython-input-17-8b66d643dc15>\u001b[0m in \u001b[0;36m<module>\u001b[1;34m\u001b[0m\n\u001b[0;32m      3\u001b[0m \u001b[0mnavegador\u001b[0m\u001b[1;33m.\u001b[0m\u001b[0mget\u001b[0m\u001b[1;33m(\u001b[0m\u001b[1;34m\"https://hashtagtreinamentos.com\"\u001b[0m\u001b[1;33m)\u001b[0m\u001b[1;33m\u001b[0m\u001b[1;33m\u001b[0m\u001b[0m\n\u001b[0;32m      4\u001b[0m \u001b[1;33m\u001b[0m\u001b[0m\n\u001b[1;32m----> 5\u001b[1;33m \u001b[1;32mwhile\u001b[0m \u001b[0mlen\u001b[0m\u001b[1;33m(\u001b[0m\u001b[0mnavegador\u001b[0m\u001b[1;33m.\u001b[0m\u001b[0mfind_element\u001b[0m\u001b[1;33m(\u001b[0m\u001b[0mBy\u001b[0m\u001b[1;33m.\u001b[0m\u001b[0mCLASS_NAME\u001b[0m\u001b[1;33m,\u001b[0m \u001b[1;34m'eicon-close'\u001b[0m\u001b[1;33m)\u001b[0m\u001b[1;33m)\u001b[0m \u001b[1;33m==\u001b[0m \u001b[1;36m0\u001b[0m\u001b[1;33m:\u001b[0m\u001b[1;33m\u001b[0m\u001b[1;33m\u001b[0m\u001b[0m\n\u001b[0m\u001b[0;32m      6\u001b[0m     \u001b[0mtime\u001b[0m\u001b[1;33m.\u001b[0m\u001b[0msleep\u001b[0m\u001b[1;33m(\u001b[0m\u001b[1;36m1\u001b[0m\u001b[1;33m)\u001b[0m\u001b[1;33m\u001b[0m\u001b[1;33m\u001b[0m\u001b[0m\n\u001b[0;32m      7\u001b[0m \u001b[1;33m\u001b[0m\u001b[0m\n",
      "\u001b[1;32m~\\anaconda3\\lib\\site-packages\\selenium\\webdriver\\remote\\webdriver.py\u001b[0m in \u001b[0;36mfind_element\u001b[1;34m(self, by, value)\u001b[0m\n\u001b[0;32m    855\u001b[0m             \u001b[0mvalue\u001b[0m \u001b[1;33m=\u001b[0m \u001b[1;34m'[name=\"%s\"]'\u001b[0m \u001b[1;33m%\u001b[0m \u001b[0mvalue\u001b[0m\u001b[1;33m\u001b[0m\u001b[1;33m\u001b[0m\u001b[0m\n\u001b[0;32m    856\u001b[0m \u001b[1;33m\u001b[0m\u001b[0m\n\u001b[1;32m--> 857\u001b[1;33m         return self.execute(Command.FIND_ELEMENT, {\n\u001b[0m\u001b[0;32m    858\u001b[0m             \u001b[1;34m'using'\u001b[0m\u001b[1;33m:\u001b[0m \u001b[0mby\u001b[0m\u001b[1;33m,\u001b[0m\u001b[1;33m\u001b[0m\u001b[1;33m\u001b[0m\u001b[0m\n\u001b[0;32m    859\u001b[0m             'value': value})['value']\n",
      "\u001b[1;32m~\\anaconda3\\lib\\site-packages\\selenium\\webdriver\\remote\\webdriver.py\u001b[0m in \u001b[0;36mexecute\u001b[1;34m(self, driver_command, params)\u001b[0m\n\u001b[0;32m    433\u001b[0m         \u001b[0mresponse\u001b[0m \u001b[1;33m=\u001b[0m \u001b[0mself\u001b[0m\u001b[1;33m.\u001b[0m\u001b[0mcommand_executor\u001b[0m\u001b[1;33m.\u001b[0m\u001b[0mexecute\u001b[0m\u001b[1;33m(\u001b[0m\u001b[0mdriver_command\u001b[0m\u001b[1;33m,\u001b[0m \u001b[0mparams\u001b[0m\u001b[1;33m)\u001b[0m\u001b[1;33m\u001b[0m\u001b[1;33m\u001b[0m\u001b[0m\n\u001b[0;32m    434\u001b[0m         \u001b[1;32mif\u001b[0m \u001b[0mresponse\u001b[0m\u001b[1;33m:\u001b[0m\u001b[1;33m\u001b[0m\u001b[1;33m\u001b[0m\u001b[0m\n\u001b[1;32m--> 435\u001b[1;33m             \u001b[0mself\u001b[0m\u001b[1;33m.\u001b[0m\u001b[0merror_handler\u001b[0m\u001b[1;33m.\u001b[0m\u001b[0mcheck_response\u001b[0m\u001b[1;33m(\u001b[0m\u001b[0mresponse\u001b[0m\u001b[1;33m)\u001b[0m\u001b[1;33m\u001b[0m\u001b[1;33m\u001b[0m\u001b[0m\n\u001b[0m\u001b[0;32m    436\u001b[0m             response['value'] = self._unwrap_value(\n\u001b[0;32m    437\u001b[0m                 response.get('value', None))\n",
      "\u001b[1;32m~\\anaconda3\\lib\\site-packages\\selenium\\webdriver\\remote\\errorhandler.py\u001b[0m in \u001b[0;36mcheck_response\u001b[1;34m(self, response)\u001b[0m\n\u001b[0;32m    245\u001b[0m                 \u001b[0malert_text\u001b[0m \u001b[1;33m=\u001b[0m \u001b[0mvalue\u001b[0m\u001b[1;33m[\u001b[0m\u001b[1;34m'alert'\u001b[0m\u001b[1;33m]\u001b[0m\u001b[1;33m.\u001b[0m\u001b[0mget\u001b[0m\u001b[1;33m(\u001b[0m\u001b[1;34m'text'\u001b[0m\u001b[1;33m)\u001b[0m\u001b[1;33m\u001b[0m\u001b[1;33m\u001b[0m\u001b[0m\n\u001b[0;32m    246\u001b[0m             \u001b[1;32mraise\u001b[0m \u001b[0mexception_class\u001b[0m\u001b[1;33m(\u001b[0m\u001b[0mmessage\u001b[0m\u001b[1;33m,\u001b[0m \u001b[0mscreen\u001b[0m\u001b[1;33m,\u001b[0m \u001b[0mstacktrace\u001b[0m\u001b[1;33m,\u001b[0m \u001b[0malert_text\u001b[0m\u001b[1;33m)\u001b[0m  \u001b[1;31m# type: ignore[call-arg]  # mypy is not smart enough here\u001b[0m\u001b[1;33m\u001b[0m\u001b[1;33m\u001b[0m\u001b[0m\n\u001b[1;32m--> 247\u001b[1;33m         \u001b[1;32mraise\u001b[0m \u001b[0mexception_class\u001b[0m\u001b[1;33m(\u001b[0m\u001b[0mmessage\u001b[0m\u001b[1;33m,\u001b[0m \u001b[0mscreen\u001b[0m\u001b[1;33m,\u001b[0m \u001b[0mstacktrace\u001b[0m\u001b[1;33m)\u001b[0m\u001b[1;33m\u001b[0m\u001b[1;33m\u001b[0m\u001b[0m\n\u001b[0m\u001b[0;32m    248\u001b[0m \u001b[1;33m\u001b[0m\u001b[0m\n\u001b[0;32m    249\u001b[0m     \u001b[1;32mdef\u001b[0m \u001b[0m_value_or_default\u001b[0m\u001b[1;33m(\u001b[0m\u001b[0mself\u001b[0m\u001b[1;33m,\u001b[0m \u001b[0mobj\u001b[0m\u001b[1;33m:\u001b[0m \u001b[0mMapping\u001b[0m\u001b[1;33m[\u001b[0m\u001b[0m_KT\u001b[0m\u001b[1;33m,\u001b[0m \u001b[0m_VT\u001b[0m\u001b[1;33m]\u001b[0m\u001b[1;33m,\u001b[0m \u001b[0mkey\u001b[0m\u001b[1;33m:\u001b[0m \u001b[0m_KT\u001b[0m\u001b[1;33m,\u001b[0m \u001b[0mdefault\u001b[0m\u001b[1;33m:\u001b[0m \u001b[0m_VT\u001b[0m\u001b[1;33m)\u001b[0m \u001b[1;33m->\u001b[0m \u001b[0m_VT\u001b[0m\u001b[1;33m:\u001b[0m\u001b[1;33m\u001b[0m\u001b[1;33m\u001b[0m\u001b[0m\n",
      "\u001b[1;31mNoSuchElementException\u001b[0m: Message: no such element: Unable to locate element: {\"method\":\"css selector\",\"selector\":\".eicon-close\"}\n  (Session info: chrome=104.0.5112.80)\nStacktrace:\nBacktrace:\n\tOrdinal0 [0x009D5FD3+2187219]\n\tOrdinal0 [0x0096E6D1+1763025]\n\tOrdinal0 [0x00883E78+802424]\n\tOrdinal0 [0x008B1C10+990224]\n\tOrdinal0 [0x008B1EAB+990891]\n\tOrdinal0 [0x008DEC92+1174674]\n\tOrdinal0 [0x008CCBD4+1100756]\n\tOrdinal0 [0x008DCFC2+1167298]\n\tOrdinal0 [0x008CC9A6+1100198]\n\tOrdinal0 [0x008A6F80+946048]\n\tOrdinal0 [0x008A7E76+949878]\n\tGetHandleVerifier [0x00C790C2+2721218]\n\tGetHandleVerifier [0x00C6AAF0+2662384]\n\tGetHandleVerifier [0x00A6137A+526458]\n\tGetHandleVerifier [0x00A60416+522518]\n\tOrdinal0 [0x00974EAB+1789611]\n\tOrdinal0 [0x009797A8+1808296]\n\tOrdinal0 [0x00979895+1808533]\n\tOrdinal0 [0x009826C1+1844929]\n\tBaseThreadInitThunk [0x7709FA29+25]\n\tRtlGetAppContainerNamedObjectPath [0x773E7A9E+286]\n\tRtlGetAppContainerNamedObjectPath [0x773E7A6E+238]\n"
     ]
    }
   ],
   "source": [
    "# loop\n",
    "navegador = webdriver.Chrome()\n",
    "navegador.get(\"https://hashtagtreinamentos.com\")\n",
    "\n",
    "while len(navegador.find_element(By.CLASS_NAME, 'eicon-close')) == 0:\n",
    "    time.sleep(1)\n",
    "    \n",
    "navegador.find_element(By.CLASS_NAME, 'eicon-close').click()"
   ]
  }
 ],
 "metadata": {
  "kernelspec": {
   "display_name": "Python 3",
   "language": "python",
   "name": "python3"
  },
  "language_info": {
   "codemirror_mode": {
    "name": "ipython",
    "version": 3
   },
   "file_extension": ".py",
   "mimetype": "text/x-python",
   "name": "python",
   "nbconvert_exporter": "python",
   "pygments_lexer": "ipython3",
   "version": "3.8.8"
  }
 },
 "nbformat": 4,
 "nbformat_minor": 5
}
