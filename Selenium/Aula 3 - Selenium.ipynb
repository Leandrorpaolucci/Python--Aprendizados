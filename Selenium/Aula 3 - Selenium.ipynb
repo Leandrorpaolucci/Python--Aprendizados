{
 "cells": [
  {
   "cell_type": "code",
   "execution_count": null,
   "id": "_5oET0u9hoqH",
   "metadata": {
    "id": "_5oET0u9hoqH"
   },
   "outputs": [],
   "source": [
    "from selenium import webdriver\n",
    "from selenium.webdriver.chrome.service import Service\n",
    "from webdriver_manager.chrome import ChromeDriverManager\n",
    "from selenium.webdriver.common.by import By\n",
    "from selenium.webdriver.common.keys import Keys\n",
    "\n",
    "servico = Service(ChromeDriverManager().install())\n",
    "navegador = webdriver.Chrome(service=servico)"
   ]
  },
  {
   "cell_type": "code",
   "execution_count": null,
   "id": "d4d4f653",
   "metadata": {},
   "outputs": [],
   "source": [
    "import os\n",
    "\n",
    "caminho = os.getcwd()\n",
    "arquivo = caminho + r\"\\Pagina Hashtag.html\"\n",
    "navegador.get(arquivo)\n",
    "\n",
    "navegador.find_element(By.XPATH, '//*[@id=\"header\"]/div/div/div[1]/a/img').click()\n",
    "navegador.find_element(By.ID, 'firstname').send_keys(\"Leandro Ribeiro Paolucci\")\n",
    "navegador.find_element(By.ID, 'email').send_keys(\"Leandroydc@gmail.com\")\n",
    "navegador.find_element(By.CLASS_NAME, 'botao-formulario').click()\n",
    "navegador.find_element(By.XPATH, '//*[@id=\"klickart-linkbkm9lhopvm600\"]/span/img').click()\n",
    "navegador.find_element(By.ID, 'identifierId').send_keys(\"Leandroydc@gmail.com\")\n",
    "navegador.find_element(By.XPATH, '//*[@id=\"identifierNext\"]/div/button/span').click()\n"
   ]
  }
 ],
 "metadata": {
  "colab": {
   "name": "Aula 3 - Selenium.ipynb",
   "provenance": []
  },
  "kernelspec": {
   "display_name": "Python 3",
   "language": "python",
   "name": "python3"
  },
  "language_info": {
   "codemirror_mode": {
    "name": "ipython",
    "version": 3
   },
   "file_extension": ".py",
   "mimetype": "text/x-python",
   "name": "python",
   "nbconvert_exporter": "python",
   "pygments_lexer": "ipython3",
   "version": "3.8.8"
  }
 },
 "nbformat": 4,
 "nbformat_minor": 5
}
