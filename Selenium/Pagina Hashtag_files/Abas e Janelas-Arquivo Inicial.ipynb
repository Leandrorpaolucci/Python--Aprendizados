{
 "cells": [
  {
   "cell_type": "markdown",
   "id": "367cd714",
   "metadata": {
    "id": "367cd714"
   },
   "source": [
    "### Documentação Selenium:\n",
    "\n",
    "- https://selenium-python.readthedocs.io/locating-elements.html"
   ]
  },
  {
   "cell_type": "code",
   "execution_count": null,
   "id": "4e28f9f7",
   "metadata": {
    "id": "4e28f9f7"
   },
   "outputs": [],
   "source": [
    "from selenium import webdriver\n",
    "from selenium.webdriver.chrome.service import Service\n",
    "from webdriver_manager.chrome import ChromeDriverManager\n",
    "from selenium.webdriver.common.by import By\n",
    "\n",
    "servico = Service(ChromeDriverManager().install())\n",
    "navegador = webdriver.Chrome(service=servico)"
   ]
  },
  {
   "cell_type": "code",
   "execution_count": null,
   "id": "59c8398d",
   "metadata": {
    "id": "59c8398d"
   },
   "outputs": [],
   "source": [
    "import os\n",
    "\n",
    "caminho = os.getcwd()\n",
    "arquivo = caminho + r\"\\Pagina Hashtag.html\"\n",
    "navegador.get(arquivo)"
   ]
  },
  {
   "cell_type": "markdown",
   "id": "1a0d1ae6",
   "metadata": {
    "id": "1a0d1ae6"
   },
   "source": [
    "#### Botão que abre outra janela"
   ]
  },
  {
   "cell_type": "code",
   "execution_count": null,
   "id": "d90ab797",
   "metadata": {
    "id": "d90ab797"
   },
   "outputs": [],
   "source": [
    "navegador.find_element(By.XPATH, '/html/body/section[2]/div/div[6]/figure/a/img').click()"
   ]
  },
  {
   "cell_type": "code",
   "execution_count": null,
   "id": "80d8ecac",
   "metadata": {
    "id": "80d8ecac",
    "scrolled": true
   },
   "outputs": [],
   "source": [
    "# Preenchendo campo\n",
    "navegador.find_element(By.NAME, 'firstname').send_keys('Leandro')"
   ]
  },
  {
   "cell_type": "markdown",
   "id": "80f18fcd",
   "metadata": {
    "id": "80f18fcd"
   },
   "source": [
    "### Outra aba"
   ]
  },
  {
   "cell_type": "code",
   "execution_count": 7,
   "id": "dbac0005",
   "metadata": {
    "id": "dbac0005"
   },
   "outputs": [
    {
     "name": "stdout",
     "output_type": "stream",
     "text": [
      "['CDwindow-33358CAA852B9F1D3D2BA00E22193FBB', 'CDwindow-F207BF82AB252418CE2A42F6B86836F4']\n"
     ]
    }
   ],
   "source": [
    "lista_abas = navegador.window_handles\n",
    "print(lista_abas)"
   ]
  },
  {
   "cell_type": "code",
   "execution_count": 9,
   "id": "d7b95323",
   "metadata": {},
   "outputs": [],
   "source": [
    "#variaveis que mudam janela\n",
    "aba_original = navegador.window_handles[0]\n",
    "nova_aba = navegador.window_handles[1]\n",
    "navegador.switch_to.window(nova_aba)"
   ]
  },
  {
   "cell_type": "code",
   "execution_count": 12,
   "id": "f3852dbb",
   "metadata": {},
   "outputs": [],
   "source": [
    "# Inserindo informaçõles na nova_aba\n",
    "navegador.find_element(By.NAME, 'firstname').clear()\n",
    "navegador.find_element(By.NAME, 'firstname').send_keys('Leandro')\n",
    "navegador.find_element(By.NAME, 'email').send_keys('Leandroydc1@gmail.com')\n"
   ]
  },
  {
   "cell_type": "code",
   "execution_count": 14,
   "id": "0353a462",
   "metadata": {},
   "outputs": [],
   "source": [
    "#finalizei o que tinha que fazer na nova aba, agora retornaremos a aba inicial\n",
    "navegador.switch_to.window(aba_original)"
   ]
  },
  {
   "cell_type": "code",
   "execution_count": 16,
   "id": "0a5849ad",
   "metadata": {},
   "outputs": [
    {
     "name": "stdout",
     "output_type": "stream",
     "text": [
      "Todos os Cursos Hashtag Treinamentos\n",
      "Curso de Power BI Avançado, Completo e Com Certificado!\n",
      "Curso de SQL Avançado, Completo e com Certificado!\n"
     ]
    }
   ],
   "source": [
    "# Ver os titulos de todas as abas\n",
    "for aba in navegador.window_handles:\n",
    "    navegador.switch_to.window(aba)\n",
    "    print(navegador.title)\n"
   ]
  },
  {
   "cell_type": "markdown",
   "id": "16053597",
   "metadata": {
    "id": "16053597"
   },
   "source": [
    "### Outra janela"
   ]
  },
  {
   "cell_type": "code",
   "execution_count": 19,
   "id": "f79746e1",
   "metadata": {
    "id": "f79746e1"
   },
   "outputs": [],
   "source": [
    "aba_sql = navegador.window_handles[2]\n",
    "navegador.switch_to.window(aba_sql)\n",
    "navegador.find_element(By.NAME, 'firstname').clear()\n",
    "navegador.find_element(By.NAME, 'firstname').send_keys('Leandro')\n",
    "navegador.find_element(By.NAME, 'email').send_keys('Leandroydc1@gmail.com')"
   ]
  },
  {
   "cell_type": "code",
   "execution_count": 20,
   "id": "ad7979f3",
   "metadata": {},
   "outputs": [],
   "source": [
    "#fechar aba especifica \n",
    "navegador.close()\n",
    "#fechar o navegador inteiro\n",
    "navegador.quit()\n"
   ]
  }
 ],
 "metadata": {
  "colab": {
   "name": "Abas e Janelas-Arquivo Inicial.ipynb",
   "provenance": []
  },
  "kernelspec": {
   "display_name": "Python 3",
   "language": "python",
   "name": "python3"
  },
  "language_info": {
   "codemirror_mode": {
    "name": "ipython",
    "version": 3
   },
   "file_extension": ".py",
   "mimetype": "text/x-python",
   "name": "python",
   "nbconvert_exporter": "python",
   "pygments_lexer": "ipython3",
   "version": "3.8.8"
  }
 },
 "nbformat": 4,
 "nbformat_minor": 5
}
