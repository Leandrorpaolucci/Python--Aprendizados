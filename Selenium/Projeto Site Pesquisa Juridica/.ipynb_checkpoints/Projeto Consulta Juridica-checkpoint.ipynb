{
 "cells": [
  {
   "cell_type": "code",
   "execution_count": 1,
   "id": "a5bbebcb",
   "metadata": {},
   "outputs": [
    {
     "name": "stdout",
     "output_type": "stream",
     "text": [
      "\n"
     ]
    }
   ],
   "source": [
    "# criar o navegador\n",
    "from selenium import webdriver\n",
    "from selenium.webdriver.chrome.service import Service\n",
    "from webdriver_manager.chrome import ChromeDriverManager\n",
    "from selenium.webdriver.common.by import By\n",
    "\n",
    "servico = Service(ChromeDriverManager().install())\n",
    "navegador = webdriver.Chrome(service=servico)"
   ]
  },
  {
   "cell_type": "code",
   "execution_count": 5,
   "id": "b1863ba7",
   "metadata": {},
   "outputs": [],
   "source": [
    "# abrir a página index (entrar no site da busca jurídica)\n",
    "import os\n",
    "\n",
    "caminho = os.getcwd()\n",
    "arquivo = caminho + r\"\\index.html\"\n"
   ]
  },
  {
   "cell_type": "code",
   "execution_count": 6,
   "id": "d4321127",
   "metadata": {},
   "outputs": [
    {
     "name": "stdout",
     "output_type": "stream",
     "text": [
      "C:\\Users\\leand\\OneDrive\\Documentos\\Curso Hashtag impressionador (Lira)\\Hashtag_Impressionador\\Selenium\\Projeto Site Pesquisa Juridica\\index.html\n"
     ]
    }
   ],
   "source": [
    "print(arquivo)"
   ]
  },
  {
   "cell_type": "code",
   "execution_count": 3,
   "id": "08a27004",
   "metadata": {},
   "outputs": [
    {
     "data": {
      "text/html": [
       "<div>\n",
       "<style scoped>\n",
       "    .dataframe tbody tr th:only-of-type {\n",
       "        vertical-align: middle;\n",
       "    }\n",
       "\n",
       "    .dataframe tbody tr th {\n",
       "        vertical-align: top;\n",
       "    }\n",
       "\n",
       "    .dataframe thead th {\n",
       "        text-align: right;\n",
       "    }\n",
       "</style>\n",
       "<table border=\"1\" class=\"dataframe\">\n",
       "  <thead>\n",
       "    <tr style=\"text-align: right;\">\n",
       "      <th></th>\n",
       "      <th>Nome</th>\n",
       "      <th>Advogado</th>\n",
       "      <th>Processo</th>\n",
       "      <th>Cidade</th>\n",
       "      <th>Status</th>\n",
       "    </tr>\n",
       "  </thead>\n",
       "  <tbody>\n",
       "    <tr>\n",
       "      <th>0</th>\n",
       "      <td>Lira</td>\n",
       "      <td>Alon Lawyer</td>\n",
       "      <td>PC6592</td>\n",
       "      <td>Distrito Federal</td>\n",
       "      <td>NaN</td>\n",
       "    </tr>\n",
       "    <tr>\n",
       "      <th>1</th>\n",
       "      <td>João</td>\n",
       "      <td>Lawyer Alon</td>\n",
       "      <td>EB3792</td>\n",
       "      <td>Rio de Janeiro</td>\n",
       "      <td>NaN</td>\n",
       "    </tr>\n",
       "    <tr>\n",
       "      <th>2</th>\n",
       "      <td>Amanda</td>\n",
       "      <td>Amanda mesmo</td>\n",
       "      <td>MM1043</td>\n",
       "      <td>Rio de Janeiro</td>\n",
       "      <td>NaN</td>\n",
       "    </tr>\n",
       "    <tr>\n",
       "      <th>3</th>\n",
       "      <td>Carol</td>\n",
       "      <td>Amanda</td>\n",
       "      <td>PC5197</td>\n",
       "      <td>São Paulo</td>\n",
       "      <td>NaN</td>\n",
       "    </tr>\n",
       "  </tbody>\n",
       "</table>\n",
       "</div>"
      ],
      "text/plain": [
       "     Nome      Advogado Processo            Cidade  Status\n",
       "0    Lira   Alon Lawyer   PC6592  Distrito Federal     NaN\n",
       "1    João   Lawyer Alon   EB3792    Rio de Janeiro     NaN\n",
       "2  Amanda  Amanda mesmo   MM1043    Rio de Janeiro     NaN\n",
       "3   Carol        Amanda   PC5197         São Paulo     NaN"
      ]
     },
     "metadata": {},
     "output_type": "display_data"
    }
   ],
   "source": [
    "# importar a base de dados\n",
    "import pandas as pd\n",
    "\n",
    "tabela = pd.read_excel(\"Processos.xlsx\")\n",
    "display(tabela)"
   ]
  },
  {
   "cell_type": "code",
   "execution_count": 4,
   "id": "b2265129",
   "metadata": {},
   "outputs": [
    {
     "ename": "NoSuchElementException",
     "evalue": "Message: no such element: Unable to locate element: {\"method\":\"partial link text\",\"selector\":\"São Paulo\"}\n  (Session info: chrome=104.0.5112.80)\nStacktrace:\nBacktrace:\n\tOrdinal0 [0x005C78B3+2193587]\n\tOrdinal0 [0x00560681+1771137]\n\tOrdinal0 [0x004741A8+803240]\n\tOrdinal0 [0x004A24A0+992416]\n\tOrdinal0 [0x004A273B+993083]\n\tOrdinal0 [0x004CF7C2+1177538]\n\tOrdinal0 [0x004BD7F4+1103860]\n\tOrdinal0 [0x004CDAE2+1170146]\n\tOrdinal0 [0x004BD5C6+1103302]\n\tOrdinal0 [0x004977E0+948192]\n\tOrdinal0 [0x004986E6+952038]\n\tGetHandleVerifier [0x00870CB2+2738370]\n\tGetHandleVerifier [0x008621B8+2678216]\n\tGetHandleVerifier [0x006517AA+512954]\n\tGetHandleVerifier [0x00650856+509030]\n\tOrdinal0 [0x0056743B+1799227]\n\tOrdinal0 [0x0056BB68+1817448]\n\tOrdinal0 [0x0056BC55+1817685]\n\tOrdinal0 [0x00575230+1856048]\n\tBaseThreadInitThunk [0x7709FA29+25]\n\tRtlGetAppContainerNamedObjectPath [0x773E7A9E+286]\n\tRtlGetAppContainerNamedObjectPath [0x773E7A6E+238]\n",
     "output_type": "error",
     "traceback": [
      "\u001b[1;31m---------------------------------------------------------------------------\u001b[0m",
      "\u001b[1;31mNoSuchElementException\u001b[0m                    Traceback (most recent call last)",
      "\u001b[1;32m<ipython-input-4-5a9d8cf48fa9>\u001b[0m in \u001b[0;36m<module>\u001b[1;34m\u001b[0m\n\u001b[0;32m     14\u001b[0m \u001b[1;33m\u001b[0m\u001b[0m\n\u001b[0;32m     15\u001b[0m     \u001b[1;31m# selecionando o cidade\u001b[0m\u001b[1;33m\u001b[0m\u001b[1;33m\u001b[0m\u001b[1;33m\u001b[0m\u001b[0m\n\u001b[1;32m---> 16\u001b[1;33m     \u001b[0mnavegador\u001b[0m\u001b[1;33m.\u001b[0m\u001b[0mfind_element\u001b[0m\u001b[1;33m(\u001b[0m\u001b[0mBy\u001b[0m\u001b[1;33m.\u001b[0m\u001b[0mPARTIAL_LINK_TEXT\u001b[0m\u001b[1;33m,\u001b[0m \u001b[0mcidade\u001b[0m\u001b[1;33m)\u001b[0m\u001b[1;33m.\u001b[0m\u001b[0mclick\u001b[0m\u001b[1;33m(\u001b[0m\u001b[1;33m)\u001b[0m\u001b[1;33m\u001b[0m\u001b[1;33m\u001b[0m\u001b[0m\n\u001b[0m\u001b[0;32m     17\u001b[0m \u001b[1;33m\u001b[0m\u001b[0m\n\u001b[0;32m     18\u001b[0m     \u001b[1;31m# mudar para a nova aba\u001b[0m\u001b[1;33m\u001b[0m\u001b[1;33m\u001b[0m\u001b[1;33m\u001b[0m\u001b[0m\n",
      "\u001b[1;32m~\\anaconda3\\lib\\site-packages\\selenium\\webdriver\\remote\\webdriver.py\u001b[0m in \u001b[0;36mfind_element\u001b[1;34m(self, by, value)\u001b[0m\n\u001b[0;32m    855\u001b[0m             \u001b[0mvalue\u001b[0m \u001b[1;33m=\u001b[0m \u001b[1;34m'[name=\"%s\"]'\u001b[0m \u001b[1;33m%\u001b[0m \u001b[0mvalue\u001b[0m\u001b[1;33m\u001b[0m\u001b[1;33m\u001b[0m\u001b[0m\n\u001b[0;32m    856\u001b[0m \u001b[1;33m\u001b[0m\u001b[0m\n\u001b[1;32m--> 857\u001b[1;33m         return self.execute(Command.FIND_ELEMENT, {\n\u001b[0m\u001b[0;32m    858\u001b[0m             \u001b[1;34m'using'\u001b[0m\u001b[1;33m:\u001b[0m \u001b[0mby\u001b[0m\u001b[1;33m,\u001b[0m\u001b[1;33m\u001b[0m\u001b[1;33m\u001b[0m\u001b[0m\n\u001b[0;32m    859\u001b[0m             'value': value})['value']\n",
      "\u001b[1;32m~\\anaconda3\\lib\\site-packages\\selenium\\webdriver\\remote\\webdriver.py\u001b[0m in \u001b[0;36mexecute\u001b[1;34m(self, driver_command, params)\u001b[0m\n\u001b[0;32m    433\u001b[0m         \u001b[0mresponse\u001b[0m \u001b[1;33m=\u001b[0m \u001b[0mself\u001b[0m\u001b[1;33m.\u001b[0m\u001b[0mcommand_executor\u001b[0m\u001b[1;33m.\u001b[0m\u001b[0mexecute\u001b[0m\u001b[1;33m(\u001b[0m\u001b[0mdriver_command\u001b[0m\u001b[1;33m,\u001b[0m \u001b[0mparams\u001b[0m\u001b[1;33m)\u001b[0m\u001b[1;33m\u001b[0m\u001b[1;33m\u001b[0m\u001b[0m\n\u001b[0;32m    434\u001b[0m         \u001b[1;32mif\u001b[0m \u001b[0mresponse\u001b[0m\u001b[1;33m:\u001b[0m\u001b[1;33m\u001b[0m\u001b[1;33m\u001b[0m\u001b[0m\n\u001b[1;32m--> 435\u001b[1;33m             \u001b[0mself\u001b[0m\u001b[1;33m.\u001b[0m\u001b[0merror_handler\u001b[0m\u001b[1;33m.\u001b[0m\u001b[0mcheck_response\u001b[0m\u001b[1;33m(\u001b[0m\u001b[0mresponse\u001b[0m\u001b[1;33m)\u001b[0m\u001b[1;33m\u001b[0m\u001b[1;33m\u001b[0m\u001b[0m\n\u001b[0m\u001b[0;32m    436\u001b[0m             response['value'] = self._unwrap_value(\n\u001b[0;32m    437\u001b[0m                 response.get('value', None))\n",
      "\u001b[1;32m~\\anaconda3\\lib\\site-packages\\selenium\\webdriver\\remote\\errorhandler.py\u001b[0m in \u001b[0;36mcheck_response\u001b[1;34m(self, response)\u001b[0m\n\u001b[0;32m    245\u001b[0m                 \u001b[0malert_text\u001b[0m \u001b[1;33m=\u001b[0m \u001b[0mvalue\u001b[0m\u001b[1;33m[\u001b[0m\u001b[1;34m'alert'\u001b[0m\u001b[1;33m]\u001b[0m\u001b[1;33m.\u001b[0m\u001b[0mget\u001b[0m\u001b[1;33m(\u001b[0m\u001b[1;34m'text'\u001b[0m\u001b[1;33m)\u001b[0m\u001b[1;33m\u001b[0m\u001b[1;33m\u001b[0m\u001b[0m\n\u001b[0;32m    246\u001b[0m             \u001b[1;32mraise\u001b[0m \u001b[0mexception_class\u001b[0m\u001b[1;33m(\u001b[0m\u001b[0mmessage\u001b[0m\u001b[1;33m,\u001b[0m \u001b[0mscreen\u001b[0m\u001b[1;33m,\u001b[0m \u001b[0mstacktrace\u001b[0m\u001b[1;33m,\u001b[0m \u001b[0malert_text\u001b[0m\u001b[1;33m)\u001b[0m  \u001b[1;31m# type: ignore[call-arg]  # mypy is not smart enough here\u001b[0m\u001b[1;33m\u001b[0m\u001b[1;33m\u001b[0m\u001b[0m\n\u001b[1;32m--> 247\u001b[1;33m         \u001b[1;32mraise\u001b[0m \u001b[0mexception_class\u001b[0m\u001b[1;33m(\u001b[0m\u001b[0mmessage\u001b[0m\u001b[1;33m,\u001b[0m \u001b[0mscreen\u001b[0m\u001b[1;33m,\u001b[0m \u001b[0mstacktrace\u001b[0m\u001b[1;33m)\u001b[0m\u001b[1;33m\u001b[0m\u001b[1;33m\u001b[0m\u001b[0m\n\u001b[0m\u001b[0;32m    248\u001b[0m \u001b[1;33m\u001b[0m\u001b[0m\n\u001b[0;32m    249\u001b[0m     \u001b[1;32mdef\u001b[0m \u001b[0m_value_or_default\u001b[0m\u001b[1;33m(\u001b[0m\u001b[0mself\u001b[0m\u001b[1;33m,\u001b[0m \u001b[0mobj\u001b[0m\u001b[1;33m:\u001b[0m \u001b[0mMapping\u001b[0m\u001b[1;33m[\u001b[0m\u001b[0m_KT\u001b[0m\u001b[1;33m,\u001b[0m \u001b[0m_VT\u001b[0m\u001b[1;33m]\u001b[0m\u001b[1;33m,\u001b[0m \u001b[0mkey\u001b[0m\u001b[1;33m:\u001b[0m \u001b[0m_KT\u001b[0m\u001b[1;33m,\u001b[0m \u001b[0mdefault\u001b[0m\u001b[1;33m:\u001b[0m \u001b[0m_VT\u001b[0m\u001b[1;33m)\u001b[0m \u001b[1;33m->\u001b[0m \u001b[0m_VT\u001b[0m\u001b[1;33m:\u001b[0m\u001b[1;33m\u001b[0m\u001b[1;33m\u001b[0m\u001b[0m\n",
      "\u001b[1;31mNoSuchElementException\u001b[0m: Message: no such element: Unable to locate element: {\"method\":\"partial link text\",\"selector\":\"São Paulo\"}\n  (Session info: chrome=104.0.5112.80)\nStacktrace:\nBacktrace:\n\tOrdinal0 [0x005C78B3+2193587]\n\tOrdinal0 [0x00560681+1771137]\n\tOrdinal0 [0x004741A8+803240]\n\tOrdinal0 [0x004A24A0+992416]\n\tOrdinal0 [0x004A273B+993083]\n\tOrdinal0 [0x004CF7C2+1177538]\n\tOrdinal0 [0x004BD7F4+1103860]\n\tOrdinal0 [0x004CDAE2+1170146]\n\tOrdinal0 [0x004BD5C6+1103302]\n\tOrdinal0 [0x004977E0+948192]\n\tOrdinal0 [0x004986E6+952038]\n\tGetHandleVerifier [0x00870CB2+2738370]\n\tGetHandleVerifier [0x008621B8+2678216]\n\tGetHandleVerifier [0x006517AA+512954]\n\tGetHandleVerifier [0x00650856+509030]\n\tOrdinal0 [0x0056743B+1799227]\n\tOrdinal0 [0x0056BB68+1817448]\n\tOrdinal0 [0x0056BC55+1817685]\n\tOrdinal0 [0x00575230+1856048]\n\tBaseThreadInitThunk [0x7709FA29+25]\n\tRtlGetAppContainerNamedObjectPath [0x773E7A9E+286]\n\tRtlGetAppContainerNamedObjectPath [0x773E7A6E+238]\n"
     ]
    }
   ],
   "source": [
    "from selenium.webdriver import ActionChains\n",
    "import time\n",
    "\n",
    "for linha in tabela.index:\n",
    "\n",
    "    # para cada processo (linha da tabela)\n",
    "    navegador.get(arquivo)\n",
    "\n",
    "    # abrir a lista de cidades\n",
    "    botao = navegador.find_element(By.CLASS_NAME, 'dropdown-menu')\n",
    "    ActionChains(navegador).move_to_element(botao).perform()\n",
    "    \n",
    "    cidade = tabela.loc[linha, \"Cidade\"]\n",
    "    \n",
    "    # selecionando o cidade\n",
    "    navegador.find_element(By.PARTIAL_LINK_TEXT, cidade).click()\n",
    "    \n",
    "    # mudar para a nova aba\n",
    "    aba_original = navegador.window_handles[0]\n",
    "    indice = 1 + linha\n",
    "    nova_aba = navegador.window_handles[indice]\n",
    "    \n",
    "    navegador.switch_to.window(nova_aba)\n",
    "    \n",
    "    # preencher o formulário com os dados de busca\n",
    "    navegador.find_element(By.ID, 'nome').send_keys(tabela.loc[linha, \"Nome\"])\n",
    "    navegador.find_element(By.ID, 'advogado').send_keys(tabela.loc[linha, \"Advogado\"])\n",
    "    navegador.find_element(By.ID, 'numero').send_keys(tabela.loc[linha, \"Processo\"])\n",
    "\n",
    "    # clicar em pesquisar\n",
    "    navegador.find_element(By.CLASS_NAME, 'registerbtn').click()\n",
    "    \n",
    "    # confirmar a pesquisa\n",
    "    alerta = navegador.switch_to.alert\n",
    "    alerta.accept()\n",
    "    \n",
    "    # esperar o resultado da pesquisa e agir de acordo com o resultado\n",
    "    while True:\n",
    "        try:\n",
    "            alerta = navegador.switch_to.alert\n",
    "            break\n",
    "        except:\n",
    "            time.sleep(1)\n",
    "    texto_alerta = alerta.text\n",
    "\n",
    "    if \"Processo encontrado com sucesso\" in texto_alerta:\n",
    "        alerta.accept()\n",
    "        tabela.loc[linha, \"Status\"] = \"Encontrado\"\n",
    "    else:\n",
    "        tabela.loc[linha, \"Status\"] = \"Não encontrado\"\n",
    "        alerta.accept()"
   ]
  },
  {
   "cell_type": "code",
   "execution_count": null,
   "id": "d5c695b6",
   "metadata": {},
   "outputs": [],
   "source": [
    "navegador.quit()\n",
    "display(tabela)\n",
    "\n",
    "tabela.to_excel(\"Processos Atualizado.xlsx\")"
   ]
  }
 ],
 "metadata": {
  "kernelspec": {
   "display_name": "Python 3",
   "language": "python",
   "name": "python3"
  },
  "language_info": {
   "codemirror_mode": {
    "name": "ipython",
    "version": 3
   },
   "file_extension": ".py",
   "mimetype": "text/x-python",
   "name": "python",
   "nbconvert_exporter": "python",
   "pygments_lexer": "ipython3",
   "version": "3.8.8"
  }
 },
 "nbformat": 4,
 "nbformat_minor": 5
}
