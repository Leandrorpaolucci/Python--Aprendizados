{
 "cells": [
  {
   "cell_type": "markdown",
   "id": "367cd714",
   "metadata": {
    "id": "367cd714"
   },
   "source": [
    "### Documentação Selenium:\n",
    "\n",
    "- https://selenium-python.readthedocs.io/locating-elements.html"
   ]
  },
  {
   "cell_type": "code",
   "execution_count": 1,
   "id": "4e28f9f7",
   "metadata": {
    "id": "4e28f9f7",
    "outputId": "f2ebff24-5001-4f7b-bc6d-5b556255c636"
   },
   "outputs": [
    {
     "name": "stdout",
     "output_type": "stream",
     "text": [
      "\n"
     ]
    }
   ],
   "source": [
    "from selenium import webdriver # Importa o Selenium\n",
    "from selenium.webdriver.chrome.service import Service #Importa Service para atualização do ChromeDrive\n",
    "from webdriver_manager.chrome import ChromeDriverManager\n",
    "from selenium.webdriver.common.by import By\n",
    "servico = Service(ChromeDriverManager().install())\n",
    "navegador = webdriver.Chrome(service=servico)"
   ]
  },
  {
   "cell_type": "code",
   "execution_count": 2,
   "id": "59c8398d",
   "metadata": {
    "id": "59c8398d"
   },
   "outputs": [],
   "source": [
    "import os\n",
    "\n",
    "caminho = os.getcwd()\n",
    "arquivo = caminho + r\"\\Pagina Hashtag.html\"\n",
    "navegador.get(arquivo)\n",
    "navegador.find_element(By.XPATH, '//*[@id=\"header\"]/div/div/div[1]/a/img').click()"
   ]
  },
  {
   "cell_type": "markdown",
   "id": "e12a769a",
   "metadata": {},
   "source": [
    "### Pegar informações de um elemento\n",
    "    * Texto\n",
    "    * Atributos"
   ]
  },
  {
   "cell_type": "markdown",
   "id": "a0bfe55f",
   "metadata": {},
   "source": [
    "### Exemplo 1 → Link do Whatsapp\n",
    ".text = pegar texto <br>\n",
    ".click() = clicar <br>\n",
    ".send_keys('Escrever mensagem')<br>\n",
    ".get_attribute('href')\n"
   ]
  },
  {
   "cell_type": "code",
   "execution_count": 6,
   "id": "826c8603",
   "metadata": {},
   "outputs": [
    {
     "name": "stdout",
     "output_type": "stream",
     "text": [
      "https://api.whatsapp.com/send?phone=5521998658852&text=Ol%C3%A1%2C%20gostaria%20de%20tirar%20uma%20d%C3%BAvida%20%20sobre%20o%20curso%20online\n"
     ]
    }
   ],
   "source": [
    "texto = navegador.find_element(By.XPATH, '/html/body/div[1]/footer/div/div/div[1]/div[2]/div[5]/div[2]/a').get_attribute('href')\n",
    "print(texto)"
   ]
  },
  {
   "cell_type": "markdown",
   "id": "14e8ee90",
   "metadata": {},
   "source": [
    "### Exemplo  → Pegar Imagem\n"
   ]
  },
  {
   "cell_type": "code",
   "execution_count": 7,
   "id": "e72a89c4",
   "metadata": {},
   "outputs": [
    {
     "name": "stdout",
     "output_type": "stream",
     "text": [
      "https://www.hashtagtreinamentos.com/limpar-arquivos-pesados-computador-python\n"
     ]
    }
   ],
   "source": [
    "link = navegador.find_element(By.XPATH, '/html/body/div/div[6]/div/div/div[2]/div[1]/div[2]/div[1]/a').get_attribute('href')\n",
    "print(link)"
   ]
  }
 ],
 "metadata": {
  "colab": {
   "name": "Selecionando Elementos Selenium.ipynb",
   "provenance": []
  },
  "kernelspec": {
   "display_name": "Python 3",
   "language": "python",
   "name": "python3"
  },
  "language_info": {
   "codemirror_mode": {
    "name": "ipython",
    "version": 3
   },
   "file_extension": ".py",
   "mimetype": "text/x-python",
   "name": "python",
   "nbconvert_exporter": "python",
   "pygments_lexer": "ipython3",
   "version": "3.8.8"
  }
 },
 "nbformat": 4,
 "nbformat_minor": 5
}
