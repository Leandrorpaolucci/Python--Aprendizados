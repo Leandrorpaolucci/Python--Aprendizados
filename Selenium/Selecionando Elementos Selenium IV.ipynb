{
 "cells": [
  {
   "cell_type": "code",
   "execution_count": 3,
   "id": "b252b899",
   "metadata": {},
   "outputs": [
    {
     "name": "stdout",
     "output_type": "stream",
     "text": [
      "\n"
     ]
    }
   ],
   "source": [
    "from selenium import webdriver # Importa o Selenium\n",
    "from selenium.webdriver.chrome.service import Service #Importa Service para atualização do ChromeDrive\n",
    "from webdriver_manager.chrome import ChromeDriverManager\n",
    "from selenium.webdriver.common.by import By\n",
    "from selenium.webdriver.common.keys import Keys\n",
    "servico = Service(ChromeDriverManager().install())\n",
    "navegador = webdriver.Chrome(service=servico)\n",
    "\n",
    "import os\n",
    "\n",
    "caminho = os.getcwd()\n",
    "arquivo = caminho + r\"\\Pagina Hashtag.html\"\n",
    "navegador.get(arquivo)\n",
    "navegador.find_element(By.XPATH, '//*[@id=\"header\"]/div/div/div[1]/a/img').click()"
   ]
  },
  {
   "cell_type": "markdown",
   "id": "55b6cb73",
   "metadata": {},
   "source": [
    "### Pegar o link de todas as imagem de um site\n",
    "\n",
    "    * Variavel Lista de elementos recebe a identificação de algum atributo que possa conter em todas\n",
    "      imagens, seja com \"ID\", se não por \"CLASS_NAME que é o fácil pelo o que parece\".\n",
    "    \n",
    "     * Depois de identificado, fazemos um for para percorrer todas as imagens e dentro da lista\n",
    "     percorrida, identificamos apenas a pasta percorrida para achar o elemento apenas da classe solicitada acima \"class_name\"\n",
    "     \n",
    "     * Em resumo, buscamos um elemento que possa conter em todas as imagens. Achamos, fazemos um for\n",
    "     dentro desses elementos para extrair o link de todas elas pelo filtro FOR (percorrer a lista) do elemento identificado!\n"
   ]
  },
  {
   "cell_type": "code",
   "execution_count": 12,
   "id": "42388f4b",
   "metadata": {},
   "outputs": [
    {
     "name": "stdout",
     "output_type": "stream",
     "text": [
      "4\n",
      "https://www.hashtagtreinamentos.com/mes-atual-no-power-bi\n",
      "https://www.hashtagtreinamentos.com/limpar-arquivos-pesados-computador-python\n",
      "https://www.hashtagtreinamentos.com/ler-tabelas-do-excel-no-vba\n",
      "https://www.hashtagtreinamentos.com/slide-infinito-no-powerpoint\n"
     ]
    }
   ],
   "source": [
    "lista_elementos = navegador.find_elements(By.CLASS_NAME, 'foto-post-blog') #Lista de fuguras\n",
    "print(len(lista_elementos))\n",
    "for imagem in lista_elementos:\n",
    "    try:\n",
    "        link = imagem.find_element(By.TAG_NAME, 'a').get_attribute('href')\n",
    "        print(link)\n",
    "    except:\n",
    "        continue\n",
    "    "
   ]
  }
 ],
 "metadata": {
  "colab": {
   "name": "Selecionando Elementos Selenium.ipynb",
   "provenance": []
  },
  "kernelspec": {
   "display_name": "Python 3",
   "language": "python",
   "name": "python3"
  },
  "language_info": {
   "codemirror_mode": {
    "name": "ipython",
    "version": 3
   },
   "file_extension": ".py",
   "mimetype": "text/x-python",
   "name": "python",
   "nbconvert_exporter": "python",
   "pygments_lexer": "ipython3",
   "version": "3.8.8"
  }
 },
 "nbformat": 4,
 "nbformat_minor": 5
}
