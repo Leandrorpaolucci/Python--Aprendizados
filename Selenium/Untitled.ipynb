{
 "cells": [
  {
   "cell_type": "code",
   "execution_count": 4,
   "id": "abf2baf8",
   "metadata": {},
   "outputs": [
    {
     "name": "stdout",
     "output_type": "stream",
     "text": [
      "\n"
     ]
    }
   ],
   "source": [
    "from selenium import webdriver\n",
    "from selenium.webdriver.chrome.service import Service\n",
    "from webdriver_manager.chrome import ChromeDriverManager\n",
    "from selenium.webdriver.common.by import By\n",
    "from selenium.webdriver.common.keys import Keys\n",
    "from time import sleep \n",
    "\n",
    "servico = Service(ChromeDriverManager().install())\n",
    "navegador = webdriver.Chrome(service=servico)\n",
    "navegador.maximize_window()\n",
    "#Abre o Chrome\n",
    "navegador.get(\"https://web.whatsapp.com/\")\n",
    "\n"
   ]
  },
  {
   "cell_type": "code",
   "execution_count": 36,
   "id": "5b1a3554",
   "metadata": {},
   "outputs": [],
   "source": [
    "contato = ''\n",
    "mensagem_pessoa = ''\n",
    "\n",
    "valor_devedor = 0\n",
    "valor_pendente = 0\n",
    "valor_pago = 0\n",
    "\n",
    "#Clicar na caixa de pesquisa\n",
    "def pesquisar_pessoa(contato):\n",
    "    contato = contato + '#confidence'\n",
    "    #Pesquisa a coluna de seleção de contato\n",
    "    campo_pesquisa = navegador.find_element(By.CLASS_NAME, \"tKJAr\")\n",
    "    #clica na coluna de seleção\n",
    "    campo_pesquisa.click()\n",
    "    #dorme 2 sedundos na espera, afim de evitar problemas no código\n",
    "    sleep(2)\n",
    "    #busca o elemento de inserção do nome da pessoa\n",
    "    campo_nome = navegador.find_element(By.CLASS_NAME, '_13NKt.copyable-text.selectable-text')\n",
    "    # variavel contato definida acima, digita o nome armazenado na variavel e pressiona enter\n",
    "    campo_nome.send_keys(contato, Keys.ENTER)\n",
    "    # caixa de mensagem, seleciona onde o cursor estará na mensagem\n",
    "    sleep(2)\n",
    "\n",
    "    \n",
    "def mensagem_contato(mensagem_pessoa):\n",
    "    mensagem = navegador.find_element(By.CLASS_NAME, \"fd365im1.to2l77zo.bbv8nyr4.mwp4sxku.gfz4du6o.ag5g9lrv\")\n",
    "    mensagem.click()\n",
    "    mensagem.send_keys(Keys.SHIFT, mensagem_pessoa)\n",
    "    sleep(1)\n",
    "    mensagem.send_keys(Keys.ENTER)\n",
    "    \n",
    "    mensagem_pessoa = mensagem_pessoa + f'''\n",
    "    Olá Leandro, Tudo bom? Espero que sim!!\n",
    "    Analise de valores abaixo:\n",
    "    -----------------------------------\n",
    "    Valor Devedor R$: \n",
    "    Valor Pago R$: \n",
    "    Valor Pendente R$ \n",
    "    -----------------------------------\n",
    "    Lembrete ^^\n",
    "    \n",
    "    Feito por Leandro Ribeiro\n",
    "    '''\n",
    "\n",
    "pesquisar_pessoa(contato)\n",
    "mensagem_contato(mensagem_pessoa)"
   ]
  }
 ],
 "metadata": {
  "kernelspec": {
   "display_name": "Python 3",
   "language": "python",
   "name": "python3"
  },
  "language_info": {
   "codemirror_mode": {
    "name": "ipython",
    "version": 3
   },
   "file_extension": ".py",
   "mimetype": "text/x-python",
   "name": "python",
   "nbconvert_exporter": "python",
   "pygments_lexer": "ipython3",
   "version": "3.8.8"
  }
 },
 "nbformat": 4,
 "nbformat_minor": 5
}
