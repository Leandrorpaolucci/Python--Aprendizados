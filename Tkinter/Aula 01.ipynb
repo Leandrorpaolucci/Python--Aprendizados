{
 "cells": [
  {
   "cell_type": "code",
   "execution_count": 3,
   "id": "423e29af",
   "metadata": {},
   "outputs": [],
   "source": [
    "from tkinter import Tk\n",
    "\n",
    "#Iniciar Janela\n",
    "janela = Tk()\n",
    "\n",
    "\n",
    "#Travar a janela, tudo o que estiver acima do mainloop, é um evento, a jenal\n",
    "janela.mainloop()"
   ]
  },
  {
   "cell_type": "code",
   "execution_count": null,
   "id": "de20a118",
   "metadata": {},
   "outputs": [],
   "source": []
  }
 ],
 "metadata": {
  "kernelspec": {
   "display_name": "Python 3",
   "language": "python",
   "name": "python3"
  },
  "language_info": {
   "codemirror_mode": {
    "name": "ipython",
    "version": 3
   },
   "file_extension": ".py",
   "mimetype": "text/x-python",
   "name": "python",
   "nbconvert_exporter": "python",
   "pygments_lexer": "ipython3",
   "version": "3.8.8"
  }
 },
 "nbformat": 4,
 "nbformat_minor": 5
}
