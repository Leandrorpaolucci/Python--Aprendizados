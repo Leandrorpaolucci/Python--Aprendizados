{
 "cells": [
  {
   "cell_type": "code",
   "execution_count": 7,
   "id": "bdc49098",
   "metadata": {},
   "outputs": [],
   "source": [
    "import tkinter as tk\n",
    "\n",
    "janela = tk.Tk()\n",
    "janela.title(\"Cotação de Moedas\")\n",
    "mensagem = tk.Label(text=\"Sistema de cotação de moedas!\", fg=\"blue\", bg=\"yellow\", width=35, height=5)\n",
    "mensagem.grid()\n",
    "\n",
    "mensagem2 = tk.Label(text=\"Selecione a moeda desejada\")\n",
    "mensagem2.grid()\n",
    "\n",
    "#Entry caixa inputbox\n",
    "moeda = tk.Entry()\n",
    "moeda.grid()\n",
    "\n",
    "janela.mainloop()"
   ]
  }
 ],
 "metadata": {
  "kernelspec": {
   "display_name": "Python 3",
   "language": "python",
   "name": "python3"
  },
  "language_info": {
   "codemirror_mode": {
    "name": "ipython",
    "version": 3
   },
   "file_extension": ".py",
   "mimetype": "text/x-python",
   "name": "python",
   "nbconvert_exporter": "python",
   "pygments_lexer": "ipython3",
   "version": "3.8.8"
  }
 },
 "nbformat": 4,
 "nbformat_minor": 5
}
