{
 "cells": [
  {
   "cell_type": "code",
   "execution_count": 18,
   "id": "c6cc77ba",
   "metadata": {},
   "outputs": [],
   "source": [
    "import tkinter as tk\n",
    "\n",
    "janela = tk.Tk()\n",
    "janela.title(\"Cotação de Moedas\")\n",
    "\n",
    "janela.rowconfigure(0, weight=1)\n",
    "janela.columnconfigure([0, 1], weight=1)\n",
    "\n",
    "mensagem = tk.Label(text=\"Sistema de cotação de moedas!\", fg=\"blue\", bg=\"yellow\", width=50, height=10)\n",
    "mensagem.grid(row=0, column=0, columnspan=3, sticky=\"nsew\")\n",
    "\n",
    "mensagem2 = tk.Label(text=\"Selecione a moeda desejada\", width=50, height=10)\n",
    "mensagem2.grid(row=1, column=0)\n",
    "\n",
    "moeda = tk.Entry()\n",
    "moeda.grid(row=1, column=1)\n",
    "\n",
    "janela.mainloop()\n"
   ]
  },
  {
   "cell_type": "code",
   "execution_count": null,
   "id": "8f98287b",
   "metadata": {},
   "outputs": [],
   "source": []
  }
 ],
 "metadata": {
  "kernelspec": {
   "display_name": "Python 3",
   "language": "python",
   "name": "python3"
  },
  "language_info": {
   "codemirror_mode": {
    "name": "ipython",
    "version": 3
   },
   "file_extension": ".py",
   "mimetype": "text/x-python",
   "name": "python",
   "nbconvert_exporter": "python",
   "pygments_lexer": "ipython3",
   "version": "3.8.8"
  }
 },
 "nbformat": 4,
 "nbformat_minor": 5
}
