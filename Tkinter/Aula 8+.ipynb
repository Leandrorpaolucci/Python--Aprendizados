{
 "cells": [
  {
   "cell_type": "code",
   "execution_count": 30,
   "id": "73150975",
   "metadata": {},
   "outputs": [
    {
     "ename": "SyntaxError",
     "evalue": "EOL while scanning string literal (<ipython-input-30-5fb554433fd5>, line 56)",
     "output_type": "error",
     "traceback": [
      "\u001b[1;36m  File \u001b[1;32m\"<ipython-input-30-5fb554433fd5>\"\u001b[1;36m, line \u001b[1;32m56\u001b[0m\n\u001b[1;33m    mensagem_cotacoes.append(f'{item} {cotacao})\u001b[0m\n\u001b[1;37m                                                ^\u001b[0m\n\u001b[1;31mSyntaxError\u001b[0m\u001b[1;31m:\u001b[0m EOL while scanning string literal\n"
     ]
    }
   ],
   "source": [
    "import tkinter as tk\n",
    "from tkinter import ttk\n",
    "\n",
    "janela = tk.Tk()\n",
    "\n",
    "janela.title(\"Cotação de Moedas\")\n",
    "\n",
    "janela.rowconfigure(0, weight=1)\n",
    "janela.columnconfigure([0, 1], weight=1)\n",
    "\n",
    "mensagem = tk.Label(text=\"Sistema de Busca de Cotação de Moedas\", fg='white', bg='black', width=35, height=5)\n",
    "mensagem.grid(row=0, column=0, columnspan=2, sticky=\"NSEW\")\n",
    "\n",
    "mensagem2 = tk.Label(text=\"Selecione a moeda desejada\")\n",
    "mensagem2.grid(row=1, column=0)\n",
    "\n",
    "# moeda = tk.Entry()\n",
    "# moeda.grid(row=1, column=1)\n",
    "\n",
    "\n",
    "dicionario_cotacoes = {\n",
    "    'Dólar': 5.47,\n",
    "    'Euro': 6.68,\n",
    "    'Bitcoin': 20000,\n",
    "}\n",
    "moedas = list(dicionario_cotacoes.keys())\n",
    "\n",
    "moeda = ttk.Combobox(janela, values=moedas)\n",
    "moeda.grid(row=1, column=1)\n",
    "\n",
    "\n",
    "def buscar_cotacao():\n",
    "    moeda_preenchida = moeda.get()\n",
    "    cotacao_moeda = dicionario_cotacoes.get(moeda_preenchida)\n",
    "    mensagem_cotacao = tk.Label(text=\"Cotação não encontrada\")\n",
    "    mensagem_cotacao.grid(row=3, column=0)\n",
    "    if cotacao_moeda:\n",
    "        mensagem_cotacao[\"text\"] = f'Cotação do {moeda_preenchida} é de {cotacao_moeda} reais'\n",
    "\n",
    "\n",
    "botao = tk.Button(text=\"Buscar Cotação\", command=buscar_cotacao)\n",
    "botao.grid(row=2, column=1)\n",
    "\n",
    "mensagem3 = tk.Label(text=\"Caso queira pegar mais de uma cotação ao mesmo tempo, digite uma moeda em cada linha\")\n",
    "mensagem3.grid(row=4, column=0, columnspan=2)\n",
    "\n",
    "caixa_texto = tk.Text(width=10, height=5)\n",
    "caixa_texto.grid(row=5, column=0,  sticky='nswe')\n",
    "\n",
    "def buscar_cotacoes():\n",
    "    texto = caixa_texto.get(\"1.0\", tk.END)\n",
    "    lista_moedas = texto.split('\\n')\n",
    "    for item in lista_moedas:\n",
    "        cotacao = dicionario_cotacoes.get()\n",
    "        if cotacao:\n",
    "            mensagem_cotacoes.append(f'{item} {cotacao})\n",
    "    mensagem4 = tk.Label()\n",
    "            \n",
    "    print(texto)\n",
    "botao_multiplascotacoes = tk.Button(text=\"Buscar cotações\", command=buscar_cotacoes)\n",
    "botao_multiplascotacoes.grid(row=5, column=1)\n",
    "janela.mainloop()"
   ]
  }
 ],
 "metadata": {
  "kernelspec": {
   "display_name": "Python 3",
   "language": "python",
   "name": "python3"
  },
  "language_info": {
   "codemirror_mode": {
    "name": "ipython",
    "version": 3
   },
   "file_extension": ".py",
   "mimetype": "text/x-python",
   "name": "python",
   "nbconvert_exporter": "python",
   "pygments_lexer": "ipython3",
   "version": "3.8.8"
  }
 },
 "nbformat": 4,
 "nbformat_minor": 5
}
