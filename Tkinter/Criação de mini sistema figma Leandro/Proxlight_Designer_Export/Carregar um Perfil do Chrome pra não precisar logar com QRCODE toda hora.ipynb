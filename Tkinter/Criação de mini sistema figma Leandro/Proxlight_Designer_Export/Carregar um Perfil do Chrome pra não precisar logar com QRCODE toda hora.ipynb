{
 "cells": [
  {
   "cell_type": "code",
   "execution_count": 1,
   "id": "556a7d91",
   "metadata": {},
   "outputs": [
    {
     "name": "stdout",
     "output_type": "stream",
     "text": [
      "\n"
     ]
    }
   ],
   "source": [
    "from selenium import webdriver\n",
    "from selenium.webdriver.chrome.service import Service\n",
    "from webdriver_manager.chrome import ChromeDriverManager\n",
    "from selenium.webdriver.common.by import By\n",
    "from selenium.webdriver.common.keys import Keys\n",
    "\n",
    "servico = Service(ChromeDriverManager().install())\n",
    "options = webdriver.ChromeOptions()\n",
    "options.add_argument(r'user-data-dir=C:\\Users\\leand\\AppData\\Local\\Google\\Chrome\\User Data\\Selenium')\n",
    "navegador = webdriver.Chrome(service=servico, options=options)\n",
    "navegador.get(\"https://web.whatsapp.com/\")"
   ]
  },
  {
   "cell_type": "code",
   "execution_count": 3,
   "id": "14e94c2a",
   "metadata": {},
   "outputs": [
    {
     "name": "stdout",
     "output_type": "stream",
     "text": [
      "Collecting undetected_chromedriver\n",
      "  Downloading undetected_chromedriver-3.1.6-py3-none-any.whl (44 kB)\n",
      "Requirement already satisfied: requests in c:\\users\\leand\\anaconda3\\lib\\site-packages (from undetected_chromedriver) (2.28.1)\n",
      "Requirement already satisfied: selenium>=4.0.0 in c:\\users\\leand\\anaconda3\\lib\\site-packages (from undetected_chromedriver) (4.3.0)\n",
      "Collecting websockets\n",
      "  Downloading websockets-10.3-cp38-cp38-win_amd64.whl (98 kB)\n",
      "Requirement already satisfied: trio-websocket~=0.9 in c:\\users\\leand\\anaconda3\\lib\\site-packages (from selenium>=4.0.0->undetected_chromedriver) (0.9.2)\n",
      "Requirement already satisfied: urllib3[secure,socks]~=1.26 in c:\\users\\leand\\anaconda3\\lib\\site-packages (from selenium>=4.0.0->undetected_chromedriver) (1.26.4)\n",
      "Requirement already satisfied: trio~=0.17 in c:\\users\\leand\\anaconda3\\lib\\site-packages (from selenium>=4.0.0->undetected_chromedriver) (0.20.0)\n",
      "Requirement already satisfied: sortedcontainers in c:\\users\\leand\\anaconda3\\lib\\site-packages (from trio~=0.17->selenium>=4.0.0->undetected_chromedriver) (2.3.0)\n",
      "Requirement already satisfied: attrs>=19.2.0 in c:\\users\\leand\\anaconda3\\lib\\site-packages (from trio~=0.17->selenium>=4.0.0->undetected_chromedriver) (20.3.0)\n",
      "Requirement already satisfied: outcome in c:\\users\\leand\\anaconda3\\lib\\site-packages (from trio~=0.17->selenium>=4.0.0->undetected_chromedriver) (1.1.0)\n",
      "Requirement already satisfied: idna in c:\\users\\leand\\anaconda3\\lib\\site-packages (from trio~=0.17->selenium>=4.0.0->undetected_chromedriver) (2.10)\n",
      "Requirement already satisfied: cffi>=1.14 in c:\\users\\leand\\anaconda3\\lib\\site-packages (from trio~=0.17->selenium>=4.0.0->undetected_chromedriver) (1.14.5)\n",
      "Requirement already satisfied: sniffio in c:\\users\\leand\\anaconda3\\lib\\site-packages (from trio~=0.17->selenium>=4.0.0->undetected_chromedriver) (1.2.0)\n",
      "Requirement already satisfied: async-generator>=1.9 in c:\\users\\leand\\anaconda3\\lib\\site-packages (from trio~=0.17->selenium>=4.0.0->undetected_chromedriver) (1.10)\n",
      "Requirement already satisfied: pycparser in c:\\users\\leand\\anaconda3\\lib\\site-packages (from cffi>=1.14->trio~=0.17->selenium>=4.0.0->undetected_chromedriver) (2.20)\n",
      "Requirement already satisfied: wsproto>=0.14 in c:\\users\\leand\\anaconda3\\lib\\site-packages (from trio-websocket~=0.9->selenium>=4.0.0->undetected_chromedriver) (1.1.0)\n",
      "Requirement already satisfied: PySocks!=1.5.7,<2.0,>=1.5.6 in c:\\users\\leand\\anaconda3\\lib\\site-packages (from urllib3[secure,socks]~=1.26->selenium>=4.0.0->undetected_chromedriver) (1.7.1)\n",
      "Requirement already satisfied: certifi in c:\\users\\leand\\anaconda3\\lib\\site-packages (from urllib3[secure,socks]~=1.26->selenium>=4.0.0->undetected_chromedriver) (2020.12.5)\n",
      "Requirement already satisfied: cryptography>=1.3.4 in c:\\users\\leand\\anaconda3\\lib\\site-packages (from urllib3[secure,socks]~=1.26->selenium>=4.0.0->undetected_chromedriver) (3.4.7)\n",
      "Requirement already satisfied: pyOpenSSL>=0.14 in c:\\users\\leand\\anaconda3\\lib\\site-packages (from urllib3[secure,socks]~=1.26->selenium>=4.0.0->undetected_chromedriver) (20.0.1)\n",
      "Requirement already satisfied: six>=1.5.2 in c:\\users\\leand\\anaconda3\\lib\\site-packages (from pyOpenSSL>=0.14->urllib3[secure,socks]~=1.26->selenium>=4.0.0->undetected_chromedriver) (1.15.0)\n",
      "Requirement already satisfied: h11<1,>=0.9.0 in c:\\users\\leand\\anaconda3\\lib\\site-packages (from wsproto>=0.14->trio-websocket~=0.9->selenium>=4.0.0->undetected_chromedriver) (0.13.0)\n",
      "Requirement already satisfied: charset-normalizer<3,>=2 in c:\\users\\leand\\anaconda3\\lib\\site-packages (from requests->undetected_chromedriver) (2.1.1)\n",
      "Installing collected packages: websockets, undetected-chromedriver\n",
      "Successfully installed undetected-chromedriver-3.1.6 websockets-10.3\n"
     ]
    }
   ],
   "source": [
    "!pip install undetected_chromedriver"
   ]
  },
  {
   "cell_type": "code",
   "execution_count": 5,
   "id": "a25f33e4",
   "metadata": {},
   "outputs": [
    {
     "ename": "InvalidArgumentException",
     "evalue": "Message: invalid argument\n  (Session info: chrome=106.0.5249.119)\nStacktrace:\nBacktrace:\n\tOrdinal0 [0x00B41ED3+2236115]\n\tOrdinal0 [0x00AD92F1+1807089]\n\tOrdinal0 [0x009E65C0+812480]\n\tOrdinal0 [0x009D992A+760106]\n\tOrdinal0 [0x009D8313+754451]\n\tOrdinal0 [0x009D861D+755229]\n\tOrdinal0 [0x009E800E+819214]\n\tOrdinal0 [0x00A460CD+1204429]\n\tOrdinal0 [0x00A31A8C+1120908]\n\tOrdinal0 [0x00A459E2+1202658]\n\tOrdinal0 [0x00A318A6+1120422]\n\tOrdinal0 [0x00A0A73D+960317]\n\tOrdinal0 [0x00A0B71F+964383]\n\tGetHandleVerifier [0x00DEE7E2+2743074]\n\tGetHandleVerifier [0x00DE08D4+2685972]\n\tGetHandleVerifier [0x00BD2BAA+532202]\n\tGetHandleVerifier [0x00BD1990+527568]\n\tOrdinal0 [0x00AE080C+1837068]\n\tOrdinal0 [0x00AE4CD8+1854680]\n\tOrdinal0 [0x00AE4DC5+1854917]\n\tOrdinal0 [0x00AEED64+1895780]\n\tBaseThreadInitThunk [0x75A5FA29+25]\n\tRtlGetAppContainerNamedObjectPath [0x77347BBE+286]\n\tRtlGetAppContainerNamedObjectPath [0x77347B8E+238]\n",
     "output_type": "error",
     "traceback": [
      "\u001b[1;31m---------------------------------------------------------------------------\u001b[0m",
      "\u001b[1;31mInvalidArgumentException\u001b[0m                  Traceback (most recent call last)",
      "\u001b[1;32m<ipython-input-5-803e01ac3ecd>\u001b[0m in \u001b[0;36m<module>\u001b[1;34m\u001b[0m\n\u001b[0;32m     13\u001b[0m \u001b[0mdriver\u001b[0m \u001b[1;33m=\u001b[0m \u001b[0muc\u001b[0m\u001b[1;33m.\u001b[0m\u001b[0mChrome\u001b[0m\u001b[1;33m(\u001b[0m\u001b[0moptions\u001b[0m\u001b[1;33m=\u001b[0m\u001b[0mchrome_options\u001b[0m\u001b[1;33m)\u001b[0m\u001b[1;33m\u001b[0m\u001b[1;33m\u001b[0m\u001b[0m\n\u001b[0;32m     14\u001b[0m \u001b[0mdriver\u001b[0m\u001b[1;33m.\u001b[0m\u001b[0mdelete_all_cookies\u001b[0m\u001b[1;33m(\u001b[0m\u001b[1;33m)\u001b[0m\u001b[1;33m\u001b[0m\u001b[1;33m\u001b[0m\u001b[0m\n\u001b[1;32m---> 15\u001b[1;33m \u001b[0mdriver\u001b[0m\u001b[1;33m.\u001b[0m\u001b[0mget\u001b[0m\u001b[1;33m(\u001b[0m\u001b[1;34m'url'\u001b[0m\u001b[1;33m)\u001b[0m\u001b[1;33m\u001b[0m\u001b[1;33m\u001b[0m\u001b[0m\n\u001b[0m\u001b[0;32m     16\u001b[0m \u001b[1;33m\u001b[0m\u001b[0m\n\u001b[0;32m     17\u001b[0m \u001b[0mtime\u001b[0m\u001b[1;33m.\u001b[0m\u001b[0msleep\u001b[0m\u001b[1;33m(\u001b[0m\u001b[1;36m10\u001b[0m\u001b[1;33m)\u001b[0m\u001b[1;33m\u001b[0m\u001b[1;33m\u001b[0m\u001b[0m\n",
      "\u001b[1;32m~\\anaconda3\\lib\\site-packages\\undetected_chromedriver\\__init__.py\u001b[0m in \u001b[0;36mget\u001b[1;34m(self, url)\u001b[0m\n\u001b[0;32m    541\u001b[0m         \u001b[1;32mif\u001b[0m \u001b[0mself\u001b[0m\u001b[1;33m.\u001b[0m\u001b[0m_get_cdc_props\u001b[0m\u001b[1;33m(\u001b[0m\u001b[1;33m)\u001b[0m\u001b[1;33m:\u001b[0m\u001b[1;33m\u001b[0m\u001b[1;33m\u001b[0m\u001b[0m\n\u001b[0;32m    542\u001b[0m             \u001b[0mself\u001b[0m\u001b[1;33m.\u001b[0m\u001b[0m_hook_remove_cdc_props\u001b[0m\u001b[1;33m(\u001b[0m\u001b[1;33m)\u001b[0m\u001b[1;33m\u001b[0m\u001b[1;33m\u001b[0m\u001b[0m\n\u001b[1;32m--> 543\u001b[1;33m         \u001b[1;32mreturn\u001b[0m \u001b[0msuper\u001b[0m\u001b[1;33m(\u001b[0m\u001b[1;33m)\u001b[0m\u001b[1;33m.\u001b[0m\u001b[0mget\u001b[0m\u001b[1;33m(\u001b[0m\u001b[0murl\u001b[0m\u001b[1;33m)\u001b[0m\u001b[1;33m\u001b[0m\u001b[1;33m\u001b[0m\u001b[0m\n\u001b[0m\u001b[0;32m    544\u001b[0m \u001b[1;33m\u001b[0m\u001b[0m\n\u001b[0;32m    545\u001b[0m     \u001b[1;32mdef\u001b[0m \u001b[0madd_cdp_listener\u001b[0m\u001b[1;33m(\u001b[0m\u001b[0mself\u001b[0m\u001b[1;33m,\u001b[0m \u001b[0mevent_name\u001b[0m\u001b[1;33m,\u001b[0m \u001b[0mcallback\u001b[0m\u001b[1;33m)\u001b[0m\u001b[1;33m:\u001b[0m\u001b[1;33m\u001b[0m\u001b[1;33m\u001b[0m\u001b[0m\n",
      "\u001b[1;32m~\\anaconda3\\lib\\site-packages\\selenium\\webdriver\\remote\\webdriver.py\u001b[0m in \u001b[0;36mget\u001b[1;34m(self, url)\u001b[0m\n\u001b[0;32m    445\u001b[0m         \u001b[0mLoads\u001b[0m \u001b[0ma\u001b[0m \u001b[0mweb\u001b[0m \u001b[0mpage\u001b[0m \u001b[1;32min\u001b[0m \u001b[0mthe\u001b[0m \u001b[0mcurrent\u001b[0m \u001b[0mbrowser\u001b[0m \u001b[0msession\u001b[0m\u001b[1;33m.\u001b[0m\u001b[1;33m\u001b[0m\u001b[1;33m\u001b[0m\u001b[0m\n\u001b[0;32m    446\u001b[0m         \"\"\"\n\u001b[1;32m--> 447\u001b[1;33m         \u001b[0mself\u001b[0m\u001b[1;33m.\u001b[0m\u001b[0mexecute\u001b[0m\u001b[1;33m(\u001b[0m\u001b[0mCommand\u001b[0m\u001b[1;33m.\u001b[0m\u001b[0mGET\u001b[0m\u001b[1;33m,\u001b[0m \u001b[1;33m{\u001b[0m\u001b[1;34m'url'\u001b[0m\u001b[1;33m:\u001b[0m \u001b[0murl\u001b[0m\u001b[1;33m}\u001b[0m\u001b[1;33m)\u001b[0m\u001b[1;33m\u001b[0m\u001b[1;33m\u001b[0m\u001b[0m\n\u001b[0m\u001b[0;32m    448\u001b[0m \u001b[1;33m\u001b[0m\u001b[0m\n\u001b[0;32m    449\u001b[0m     \u001b[1;33m@\u001b[0m\u001b[0mproperty\u001b[0m\u001b[1;33m\u001b[0m\u001b[1;33m\u001b[0m\u001b[0m\n",
      "\u001b[1;32m~\\anaconda3\\lib\\site-packages\\selenium\\webdriver\\remote\\webdriver.py\u001b[0m in \u001b[0;36mexecute\u001b[1;34m(self, driver_command, params)\u001b[0m\n\u001b[0;32m    433\u001b[0m         \u001b[0mresponse\u001b[0m \u001b[1;33m=\u001b[0m \u001b[0mself\u001b[0m\u001b[1;33m.\u001b[0m\u001b[0mcommand_executor\u001b[0m\u001b[1;33m.\u001b[0m\u001b[0mexecute\u001b[0m\u001b[1;33m(\u001b[0m\u001b[0mdriver_command\u001b[0m\u001b[1;33m,\u001b[0m \u001b[0mparams\u001b[0m\u001b[1;33m)\u001b[0m\u001b[1;33m\u001b[0m\u001b[1;33m\u001b[0m\u001b[0m\n\u001b[0;32m    434\u001b[0m         \u001b[1;32mif\u001b[0m \u001b[0mresponse\u001b[0m\u001b[1;33m:\u001b[0m\u001b[1;33m\u001b[0m\u001b[1;33m\u001b[0m\u001b[0m\n\u001b[1;32m--> 435\u001b[1;33m             \u001b[0mself\u001b[0m\u001b[1;33m.\u001b[0m\u001b[0merror_handler\u001b[0m\u001b[1;33m.\u001b[0m\u001b[0mcheck_response\u001b[0m\u001b[1;33m(\u001b[0m\u001b[0mresponse\u001b[0m\u001b[1;33m)\u001b[0m\u001b[1;33m\u001b[0m\u001b[1;33m\u001b[0m\u001b[0m\n\u001b[0m\u001b[0;32m    436\u001b[0m             response['value'] = self._unwrap_value(\n\u001b[0;32m    437\u001b[0m                 response.get('value', None))\n",
      "\u001b[1;32m~\\anaconda3\\lib\\site-packages\\selenium\\webdriver\\remote\\errorhandler.py\u001b[0m in \u001b[0;36mcheck_response\u001b[1;34m(self, response)\u001b[0m\n\u001b[0;32m    245\u001b[0m                 \u001b[0malert_text\u001b[0m \u001b[1;33m=\u001b[0m \u001b[0mvalue\u001b[0m\u001b[1;33m[\u001b[0m\u001b[1;34m'alert'\u001b[0m\u001b[1;33m]\u001b[0m\u001b[1;33m.\u001b[0m\u001b[0mget\u001b[0m\u001b[1;33m(\u001b[0m\u001b[1;34m'text'\u001b[0m\u001b[1;33m)\u001b[0m\u001b[1;33m\u001b[0m\u001b[1;33m\u001b[0m\u001b[0m\n\u001b[0;32m    246\u001b[0m             \u001b[1;32mraise\u001b[0m \u001b[0mexception_class\u001b[0m\u001b[1;33m(\u001b[0m\u001b[0mmessage\u001b[0m\u001b[1;33m,\u001b[0m \u001b[0mscreen\u001b[0m\u001b[1;33m,\u001b[0m \u001b[0mstacktrace\u001b[0m\u001b[1;33m,\u001b[0m \u001b[0malert_text\u001b[0m\u001b[1;33m)\u001b[0m  \u001b[1;31m# type: ignore[call-arg]  # mypy is not smart enough here\u001b[0m\u001b[1;33m\u001b[0m\u001b[1;33m\u001b[0m\u001b[0m\n\u001b[1;32m--> 247\u001b[1;33m         \u001b[1;32mraise\u001b[0m \u001b[0mexception_class\u001b[0m\u001b[1;33m(\u001b[0m\u001b[0mmessage\u001b[0m\u001b[1;33m,\u001b[0m \u001b[0mscreen\u001b[0m\u001b[1;33m,\u001b[0m \u001b[0mstacktrace\u001b[0m\u001b[1;33m)\u001b[0m\u001b[1;33m\u001b[0m\u001b[1;33m\u001b[0m\u001b[0m\n\u001b[0m\u001b[0;32m    248\u001b[0m \u001b[1;33m\u001b[0m\u001b[0m\n\u001b[0;32m    249\u001b[0m     \u001b[1;32mdef\u001b[0m \u001b[0m_value_or_default\u001b[0m\u001b[1;33m(\u001b[0m\u001b[0mself\u001b[0m\u001b[1;33m,\u001b[0m \u001b[0mobj\u001b[0m\u001b[1;33m:\u001b[0m \u001b[0mMapping\u001b[0m\u001b[1;33m[\u001b[0m\u001b[0m_KT\u001b[0m\u001b[1;33m,\u001b[0m \u001b[0m_VT\u001b[0m\u001b[1;33m]\u001b[0m\u001b[1;33m,\u001b[0m \u001b[0mkey\u001b[0m\u001b[1;33m:\u001b[0m \u001b[0m_KT\u001b[0m\u001b[1;33m,\u001b[0m \u001b[0mdefault\u001b[0m\u001b[1;33m:\u001b[0m \u001b[0m_VT\u001b[0m\u001b[1;33m)\u001b[0m \u001b[1;33m->\u001b[0m \u001b[0m_VT\u001b[0m\u001b[1;33m:\u001b[0m\u001b[1;33m\u001b[0m\u001b[1;33m\u001b[0m\u001b[0m\n",
      "\u001b[1;31mInvalidArgumentException\u001b[0m: Message: invalid argument\n  (Session info: chrome=106.0.5249.119)\nStacktrace:\nBacktrace:\n\tOrdinal0 [0x00B41ED3+2236115]\n\tOrdinal0 [0x00AD92F1+1807089]\n\tOrdinal0 [0x009E65C0+812480]\n\tOrdinal0 [0x009D992A+760106]\n\tOrdinal0 [0x009D8313+754451]\n\tOrdinal0 [0x009D861D+755229]\n\tOrdinal0 [0x009E800E+819214]\n\tOrdinal0 [0x00A460CD+1204429]\n\tOrdinal0 [0x00A31A8C+1120908]\n\tOrdinal0 [0x00A459E2+1202658]\n\tOrdinal0 [0x00A318A6+1120422]\n\tOrdinal0 [0x00A0A73D+960317]\n\tOrdinal0 [0x00A0B71F+964383]\n\tGetHandleVerifier [0x00DEE7E2+2743074]\n\tGetHandleVerifier [0x00DE08D4+2685972]\n\tGetHandleVerifier [0x00BD2BAA+532202]\n\tGetHandleVerifier [0x00BD1990+527568]\n\tOrdinal0 [0x00AE080C+1837068]\n\tOrdinal0 [0x00AE4CD8+1854680]\n\tOrdinal0 [0x00AE4DC5+1854917]\n\tOrdinal0 [0x00AEED64+1895780]\n\tBaseThreadInitThunk [0x75A5FA29+25]\n\tRtlGetAppContainerNamedObjectPath [0x77347BBE+286]\n\tRtlGetAppContainerNamedObjectPath [0x77347B8E+238]\n"
     ]
    }
   ],
   "source": [
    "import undetected_chromedriver.v2 as uc\n",
    "import random,time,os,sys\n",
    "from selenium.webdriver.common.keys import Keys\n",
    "\n",
    "chrome_options = uc.ChromeOptions()\n",
    "chrome_options.add_argument(\"--disable-extensions\")\n",
    "chrome_options.add_argument(\"--disable-popup-blocking\")\n",
    "chrome_options.add_argument(\"--profile-directory=Default\")\n",
    "chrome_options.add_argument(\"--ignore-certificate-errors\")\n",
    "chrome_options.add_argument(\"--disable-plugins-discovery\")\n",
    "chrome_options.add_argument(\"--incognito\")\n",
    "chrome_options.add_argument(\"user_agent=DN\")\n",
    "driver = uc.Chrome(options=chrome_options)\n",
    "driver.delete_all_cookies()\n",
    "driver.get('url')\n",
    "\n",
    "time.sleep(10)"
   ]
  }
 ],
 "metadata": {
  "kernelspec": {
   "display_name": "Python 3",
   "language": "python",
   "name": "python3"
  },
  "language_info": {
   "codemirror_mode": {
    "name": "ipython",
    "version": 3
   },
   "file_extension": ".py",
   "mimetype": "text/x-python",
   "name": "python",
   "nbconvert_exporter": "python",
   "pygments_lexer": "ipython3",
   "version": "3.8.8"
  }
 },
 "nbformat": 4,
 "nbformat_minor": 5
}
