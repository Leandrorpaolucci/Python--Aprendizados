{
 "cells": [
  {
   "cell_type": "markdown",
   "id": "a9d54765",
   "metadata": {},
   "source": [
    "## Passo 1: Importar a base de dados\n",
    "   - Entraremos no site: https://basedosdados.org/\n",
    "   - No campo \"Dados\", Filtraremos por Tabelas Tratadas\n",
    "   - Buscaremos por uma tabela, no meu caso, escolherei a tabela: Segurança no Estado de São Paulo\n",
    "### Dados estatísticos da Secretaria de Segurança Pública do Estado de São Paulo.\n",
    "   - A Secretaria de Estado dos Negócios da Segurança Pública de São Paulo foi criada em 1906. É a responsável pela administração das polícias em todo o Estado de São Paulo no Brasil, sendo estas, polícias Civil, Militar, Técnico-Científica.\n",
    "   - Para mais informações acesse: https://pt.wikipedia.org/wiki/Secretaria_de_Estado_dos_Neg%C3%B3cios_da_Seguran%C3%A7a_P%C3%BAblica_de_S%C3%A3o_Paulo\n"
   ]
  },
  {
   "cell_type": "markdown",
   "id": "fb8e90a1",
   "metadata": {},
   "source": [
    "### Campo de Bibliotecas\n",
    "- TKINTER utilizado para criação de uma interface gráfica\n",
    "- PANDAS para tratamento de dados"
   ]
  },
  {
   "cell_type": "code",
   "execution_count": 1,
   "id": "47704f0c",
   "metadata": {},
   "outputs": [],
   "source": [
    "import tkinter as tk\n",
    "from tkinter import ttk\n",
    "from tkcalendar import DateEntry\n",
    "from tkinter.filedialog import askopenfilename\n",
    "import pandas as pd\n",
    "import pyautogui"
   ]
  },
  {
   "cell_type": "markdown",
   "id": "ceaa91e9",
   "metadata": {},
   "source": [
    "### Campo de funções"
   ]
  },
  {
   "cell_type": "code",
   "execution_count": null,
   "id": "09a14430",
   "metadata": {},
   "outputs": [],
   "source": []
  },
  {
   "cell_type": "code",
   "execution_count": null,
   "id": "a6740e95",
   "metadata": {},
   "outputs": [],
   "source": []
  },
  {
   "cell_type": "code",
   "execution_count": 4,
   "id": "a478a6a7",
   "metadata": {},
   "outputs": [
    {
     "ename": "TypeError",
     "evalue": "cannot unpack non-iterable NoneType object",
     "output_type": "error",
     "traceback": [
      "\u001b[1;31m---------------------------------------------------------------------------\u001b[0m",
      "\u001b[1;31mTypeError\u001b[0m                                 Traceback (most recent call last)",
      "\u001b[1;32m<ipython-input-4-7a93a55290d0>\u001b[0m in \u001b[0;36m<module>\u001b[1;34m\u001b[0m\n\u001b[0;32m     13\u001b[0m \u001b[0mpyautogui\u001b[0m\u001b[1;33m.\u001b[0m\u001b[0mpress\u001b[0m\u001b[1;33m(\u001b[0m\u001b[1;34m'enter'\u001b[0m\u001b[1;33m)\u001b[0m\u001b[1;33m\u001b[0m\u001b[1;33m\u001b[0m\u001b[0m\n\u001b[0;32m     14\u001b[0m \u001b[1;31m#Localizar a imagem vai te dar 4 informações: posição x, posição y, Largura e altura\u001b[0m\u001b[1;33m\u001b[0m\u001b[1;33m\u001b[0m\u001b[1;33m\u001b[0m\u001b[0m\n\u001b[1;32m---> 15\u001b[1;33m \u001b[0mx\u001b[0m\u001b[1;33m,\u001b[0m \u001b[0my\u001b[0m\u001b[1;33m,\u001b[0m \u001b[0mlargura\u001b[0m\u001b[1;33m,\u001b[0m \u001b[0maltura\u001b[0m \u001b[1;33m=\u001b[0m \u001b[0mpyautogui\u001b[0m\u001b[1;33m.\u001b[0m\u001b[0mlocateOnScreen\u001b[0m\u001b[1;33m(\u001b[0m\u001b[1;34m'fazer_login.png'\u001b[0m\u001b[1;33m)\u001b[0m\u001b[1;33m\u001b[0m\u001b[1;33m\u001b[0m\u001b[0m\n\u001b[0m\u001b[0;32m     16\u001b[0m \u001b[1;31m#clilcar no login\u001b[0m\u001b[1;33m\u001b[0m\u001b[1;33m\u001b[0m\u001b[1;33m\u001b[0m\u001b[0m\n\u001b[0;32m     17\u001b[0m \u001b[0mpyautogui\u001b[0m\u001b[1;33m.\u001b[0m\u001b[0mclick\u001b[0m\u001b[1;33m(\u001b[0m\u001b[0mx\u001b[0m \u001b[1;33m+\u001b[0m \u001b[0mlargura\u001b[0m\u001b[1;33m/\u001b[0m\u001b[1;36m2\u001b[0m\u001b[1;33m,\u001b[0m \u001b[0my\u001b[0m \u001b[1;33m+\u001b[0m \u001b[0maltura\u001b[0m\u001b[1;33m/\u001b[0m\u001b[1;36m2\u001b[0m\u001b[1;33m)\u001b[0m\u001b[1;33m\u001b[0m\u001b[1;33m\u001b[0m\u001b[0m\n",
      "\u001b[1;31mTypeError\u001b[0m: cannot unpack non-iterable NoneType object"
     ]
    }
   ],
   "source": [
    "#abrir o sistema(navegador)\n",
    "pyautogui.PAUSE = 1.5\n",
    "#Passo 1 Apertar Windows do teclado\n",
    "pyautogui.press('win')\n",
    "#Passo 2 escrever Chrome\n",
    "pyautogui.write('chrome')\n",
    "#Passo 3 \n",
    "\n",
    "pyautogui.press('enter')\n",
    "#escrever gmail\n",
    "pyautogui.write('gmail')\n",
    "#entergmail\n",
    "pyautogui.press('enter')\n",
    "#Localizar a imagem vai te dar 4 informações: posição x, posição y, Largura e altura\n",
    "x, y, largura, altura = pyautogui.locateOnScreen('fazer_login.png')\n",
    "#clilcar no login\n",
    "pyautogui.click(x + largura/2, y + altura/2)"
   ]
  },
  {
   "cell_type": "code",
   "execution_count": 5,
   "id": "5d2d94ce",
   "metadata": {},
   "outputs": [],
   "source": [
    "def busca_site():\n",
    "    #abrir o sistema(navegador)\n",
    "    pyautogui.PAUSE = 1.5\n",
    "    \n",
    "    #Passo 1 Apertar Windows do teclado\n",
    "    pyautogui.press('win')\n",
    "    #Passo 2 escrever Chrome\n",
    "    pyautogui.write('chrome')\n",
    "    #Passo 3 Enter\n",
    "    pyautogui.press('enter')\n",
    "    #escrever gmail\n",
    "    pyautogui.write('gmail')\n",
    "    #enter\n",
    "    pyautogui.press('enter')"
   ]
  },
  {
   "cell_type": "code",
   "execution_count": null,
   "id": "35db50ea",
   "metadata": {},
   "outputs": [],
   "source": [
    "janela = tk.Tk()\n",
    "\n",
    "janela.title('Ferramenta de pesquisa de dados - Criado por Leandro Ribeiro Paolucci')\n",
    "\n",
    "#Usuario leitura\n",
    "label_site_dados_gov = tk.Label(text=\"Busca de dados ao lado ao clicar no botão\", borderwidth=2, fg='black')\n",
    "label_site_dados_gov.grid(row=0, column=0, padx=10, pady=10, sticky='nswe', columnspan=2)\n",
    "#Usuario Iteração\n",
    "botao_site_dados_gov = tk.Button(text=\"Clique para ser redirecionado ao site\", fg='yellow', bg='black', command=busca_site)\n",
    "botao_site_dados_gov.grid(row=0, column=3, padx=10, pady=10, sticky='nswe', columnspan=1)\n",
    "\n",
    "\n",
    "\n",
    "janela.mainloop()"
   ]
  }
 ],
 "metadata": {
  "kernelspec": {
   "display_name": "Python 3",
   "language": "python",
   "name": "python3"
  },
  "language_info": {
   "codemirror_mode": {
    "name": "ipython",
    "version": 3
   },
   "file_extension": ".py",
   "mimetype": "text/x-python",
   "name": "python",
   "nbconvert_exporter": "python",
   "pygments_lexer": "ipython3",
   "version": "3.8.8"
  }
 },
 "nbformat": 4,
 "nbformat_minor": 5
}
