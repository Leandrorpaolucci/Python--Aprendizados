{
 "cells": [
  {
   "cell_type": "markdown",
   "id": "a5234b09",
   "metadata": {},
   "source": [
    "## Passo 1: Importar a base de dados\n",
    "   - Entraremos no site: https://basedosdados.org/\n",
    "   - No campo \"Dados\", Filtraremos por Tabelas Tratadas\n",
    "   - Buscaremos por uma tabela, no meu caso, escolherei a tabela: Segurança no Estado de São Paulo\n",
    "   <br>\n",
    "   \n",
    "### Dados estatísticos da Secretaria de Segurança Pública do Estado de São Paulo.\n",
    "   - A Secretaria de Estado dos Negócios da Segurança Pública de São Paulo foi criada em 1906. É a responsável pela administração das polícias em todo o Estado de São Paulo no Brasil, sendo estas, polícias Civil, Militar, Técnico-Científica.\n",
    "   - Para mais informações acesse: https://pt.wikipedia.org/wiki/Secretaria_de_Estado_dos_Neg%C3%B3cios_da_Seguran%C3%A7a_P%C3%BAblica_de_S%C3%A3o_Paulo\n"
   ]
  },
  {
   "cell_type": "code",
   "execution_count": null,
   "id": "35db50ea",
   "metadata": {},
   "outputs": [],
   "source": []
  }
 ],
 "metadata": {
  "kernelspec": {
   "display_name": "Python 3",
   "language": "python",
   "name": "python3"
  },
  "language_info": {
   "codemirror_mode": {
    "name": "ipython",
    "version": 3
   },
   "file_extension": ".py",
   "mimetype": "text/x-python",
   "name": "python",
   "nbconvert_exporter": "python",
   "pygments_lexer": "ipython3",
   "version": "3.8.8"
  }
 },
 "nbformat": 4,
 "nbformat_minor": 5
}
