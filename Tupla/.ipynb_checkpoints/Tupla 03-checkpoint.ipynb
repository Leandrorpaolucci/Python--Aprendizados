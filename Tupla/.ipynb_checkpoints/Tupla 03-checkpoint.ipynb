{
 "cells": [
  {
   "cell_type": "markdown",
   "metadata": {},
   "source": [
    "# Aplicação de Tupla - Lista de Tuplas\n",
    "\n",
    "### Estrutura:\n",
    "\n",
    "Além de casos como o do enumerate, em que usamos uma função para transformar itens em tuplas porque isso ajuda o nosso código, temos também listas de tuplas como algo comum dentro do Python."
   ]
  },
  {
   "cell_type": "raw",
   "metadata": {},
   "source": [
    "lista = [\n",
    "    tupla1,\n",
    "    tupla2,\n",
    "    tupla3,\n",
    "    ]\n",
    "    \n",
    "ou seja\n",
    "\n",
    "lista = [\n",
    "    (valor1, valor2, valor3),\n",
    "    (valor4, valor5, valor6),\n",
    "    (valor7, valor8, valor9),\n",
    "    ]"
   ]
  },
  {
   "cell_type": "markdown",
   "metadata": {},
   "source": [
    "### Exemplo:\n",
    "\n",
    "Digamos que você está analisando as vendas do Banco de Dados de um e-commerce.\n",
    "\n",
    "Em um determinado dia, você extraiu as vendas do Banco de Dados e elas vieram nesse formato:"
   ]
  },
  {
   "cell_type": "code",
   "execution_count": 1,
   "metadata": {},
   "outputs": [],
   "source": [
    "vendas = [\n",
    "    ('20/08/2020', 'iphone x', 'azul', '128gb', 350, 4000),\n",
    "    ('20/08/2020', 'iphone x', 'prata', '128gb', 1500, 4000),\n",
    "    ('20/08/2020', 'ipad', 'prata', '256gb', 127, 6000),\n",
    "    ('20/08/2020', 'ipad', 'prata', '128gb', 981, 5000),\n",
    "    ('21/08/2020', 'iphone x', 'azul', '128gb', 397, 4000),\n",
    "    ('21/08/2020', 'iphone x', 'prata', '128gb', 1017, 4000),\n",
    "    ('21/08/2020', 'ipad', 'prata', '256gb', 50, 6000),\n",
    "    ('21/08/2020', 'ipad', 'prata', '128gb', 4000, 5000),\n",
    "]"
   ]
  },
  {
   "cell_type": "markdown",
   "metadata": {},
   "source": [
    "- Qual foi o faturamento de IPhone no dia 20/08/2020?\n"
   ]
  },
  {
   "cell_type": "code",
   "execution_count": 41,
   "metadata": {},
   "outputs": [
    {
     "name": "stdout",
     "output_type": "stream",
     "text": [
      "\n",
      "    Produto: iphone x\n",
      "    Cor: azul\n",
      "    Capacidade: 128gb\n",
      "    Valor: 350\n",
      "    Unidade Vendida: 4000\n",
      "    Data Venda: 20/08/2020\n",
      "    --------------------------------\n",
      "    Subotal:1400000.00\n",
      "    --------------------------------\n",
      "    \n",
      "\n",
      "    Produto: iphone x\n",
      "    Cor: prata\n",
      "    Capacidade: 128gb\n",
      "    Valor: 1500\n",
      "    Unidade Vendida: 4000\n",
      "    Data Venda: 20/08/2020\n",
      "    --------------------------------\n",
      "    Subotal:6000000.00\n",
      "    --------------------------------\n",
      "    \n",
      "\n",
      "    Produto: ipad\n",
      "    Cor: prata\n",
      "    Capacidade: 256gb\n",
      "    Valor: 127\n",
      "    Unidade Vendida: 6000\n",
      "    Data Venda: 20/08/2020\n",
      "    --------------------------------\n",
      "    Subotal:762000.00\n",
      "    --------------------------------\n",
      "    \n",
      "\n",
      "    Produto: ipad\n",
      "    Cor: prata\n",
      "    Capacidade: 128gb\n",
      "    Valor: 981\n",
      "    Unidade Vendida: 5000\n",
      "    Data Venda: 20/08/2020\n",
      "    --------------------------------\n",
      "    Subotal:4905000.00\n",
      "    --------------------------------\n",
      "    \n",
      "\n",
      "    Produto: iphone x\n",
      "    Cor: azul\n",
      "    Capacidade: 128gb\n",
      "    Valor: 397\n",
      "    Unidade Vendida: 4000\n",
      "    Data Venda: 21/08/2020\n",
      "    --------------------------------\n",
      "    Subotal:1588000.00\n",
      "    --------------------------------\n",
      "    \n",
      "\n",
      "    Produto: iphone x\n",
      "    Cor: prata\n",
      "    Capacidade: 128gb\n",
      "    Valor: 1017\n",
      "    Unidade Vendida: 4000\n",
      "    Data Venda: 21/08/2020\n",
      "    --------------------------------\n",
      "    Subotal:4068000.00\n",
      "    --------------------------------\n",
      "    \n",
      "\n",
      "    Produto: ipad\n",
      "    Cor: prata\n",
      "    Capacidade: 256gb\n",
      "    Valor: 50\n",
      "    Unidade Vendida: 6000\n",
      "    Data Venda: 21/08/2020\n",
      "    --------------------------------\n",
      "    Subotal:300000.00\n",
      "    --------------------------------\n",
      "    \n",
      "\n",
      "    Produto: ipad\n",
      "    Cor: prata\n",
      "    Capacidade: 128gb\n",
      "    Valor: 4000\n",
      "    Unidade Vendida: 5000\n",
      "    Data Venda: 21/08/2020\n",
      "    --------------------------------\n",
      "    Subotal:20000000.00\n",
      "    --------------------------------\n",
      "    \n"
     ]
    }
   ],
   "source": [
    "for i, item in enumerate(vendas):\n",
    "    data, produto, cor, capacidade, unidade, qtde_unitario = item\n",
    "    faturamento = unidade * qtde_unitario\n",
    "    print(f'''\n",
    "    Produto: {produto}\n",
    "    Cor: {cor}\n",
    "    Capacidade: {capacidade}\n",
    "    Valor: {unidade}\n",
    "    Unidade Vendida: {qtde_unitario}\n",
    "    Data Venda: {data}\n",
    "    --------------------------------\n",
    "    Subotal:{(faturamento):.2f}\n",
    "    --------------------------------\n",
    "    ''')"
   ]
  },
  {
   "cell_type": "markdown",
   "metadata": {},
   "source": [
    "- Qual foi o produto mais vendido (em unidades) no dia 21/08/2020?"
   ]
  },
  {
   "cell_type": "code",
   "execution_count": 45,
   "metadata": {},
   "outputs": [
    {
     "name": "stdout",
     "output_type": "stream",
     "text": [
      "\n",
      "    Produto mais vendido: ipad\n",
      "    Quantidade mais vendida: 4000\n",
      "    Cor mais vendida: prata\n",
      "    Produto com maior capacidade memória: 128gb\n",
      "\n"
     ]
    }
   ],
   "source": [
    "produto_mais_vendido = ''\n",
    "quantidade_mais_vendida = 0\n",
    "cor_mais_vendida = ''\n",
    "produto_maior_memoria = 0\n",
    "\n",
    "for item in vendas:\n",
    "    data, produto, cor, capacidade, unidades, valor_unitarios = item\n",
    "    if data == '21/08/21':\n",
    "        if unidades > quantidade_mais_vendida:\n",
    "            produto_mais_vendido = produto\n",
    "            quantidade_mais_vendida = unidades\n",
    "            cor_mais_vendida = cor\n",
    "            produto_maior_memoria = capacidade\n",
    "            \n",
    "print(f'''\n",
    "    Produto mais vendido: {produto}\n",
    "    Quantidade mais vendida: {unidades}\n",
    "    Cor mais vendida: {cor}\n",
    "    Produto com maior capacidade memória: {capacidade}\n",
    "''')            "
   ]
  }
 ],
 "metadata": {
  "kernelspec": {
   "display_name": "Python 3",
   "language": "python",
   "name": "python3"
  },
  "language_info": {
   "codemirror_mode": {
    "name": "ipython",
    "version": 3
   },
   "file_extension": ".py",
   "mimetype": "text/x-python",
   "name": "python",
   "nbconvert_exporter": "python",
   "pygments_lexer": "ipython3",
   "version": "3.8.8"
  }
 },
 "nbformat": 4,
 "nbformat_minor": 4
}
